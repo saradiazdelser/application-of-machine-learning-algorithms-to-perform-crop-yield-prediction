{
  "cells": [
    {
      "cell_type": "markdown",
      "metadata": {
        "id": "pAveNqyJTugF"
      },
      "source": [
        "## Imports"
      ]
    },
    {
      "cell_type": "code",
      "execution_count": 1,
      "metadata": {
        "colab": {
          "base_uri": "https://localhost:8080/",
          "height": 17
        },
        "id": "laP_Hx1DTugL",
        "outputId": "05d97bff-ea3a-4611-d5d3-3680c37be226"
      },
      "outputs": [
        {
          "data": {
            "text/html": [
              "        <script type=\"text/javascript\">\n",
              "        window.PlotlyConfig = {MathJaxConfig: 'local'};\n",
              "        if (window.MathJax && window.MathJax.Hub && window.MathJax.Hub.Config) {window.MathJax.Hub.Config({SVG: {font: \"STIX-Web\"}});}\n",
              "        if (typeof require !== 'undefined') {\n",
              "        require.undef(\"plotly\");\n",
              "        requirejs.config({\n",
              "            paths: {\n",
              "                'plotly': ['https://cdn.plot.ly/plotly-2.18.0.min']\n",
              "            }\n",
              "        });\n",
              "        require(['plotly'], function(Plotly) {\n",
              "            window._Plotly = Plotly;\n",
              "        });\n",
              "        }\n",
              "        </script>\n",
              "        "
            ]
          },
          "metadata": {},
          "output_type": "display_data"
        },
        {
          "data": {
            "text/html": [
              "        <script type=\"text/javascript\">\n",
              "        window.PlotlyConfig = {MathJaxConfig: 'local'};\n",
              "        if (window.MathJax && window.MathJax.Hub && window.MathJax.Hub.Config) {window.MathJax.Hub.Config({SVG: {font: \"STIX-Web\"}});}\n",
              "        if (typeof require !== 'undefined') {\n",
              "        require.undef(\"plotly\");\n",
              "        requirejs.config({\n",
              "            paths: {\n",
              "                'plotly': ['https://cdn.plot.ly/plotly-2.18.0.min']\n",
              "            }\n",
              "        });\n",
              "        require(['plotly'], function(Plotly) {\n",
              "            window._Plotly = Plotly;\n",
              "        });\n",
              "        }\n",
              "        </script>\n",
              "        "
            ]
          },
          "metadata": {},
          "output_type": "display_data"
        }
      ],
      "source": [
        "import pandas as pd\n",
        "import matplotlib.pyplot as plt\n",
        "\n",
        "import seaborn as sns\n",
        "import cufflinks as cf\n",
        "import numpy as np\n",
        "\n",
        "from sklearn.metrics import mean_absolute_error, mean_squared_error, r2_score\n",
        "\n",
        "from sklearn.model_selection import train_test_split\n",
        "from sklearn.pipeline import Pipeline\n",
        "from sklearn.model_selection import GridSearchCV, learning_curve\n",
        "\n",
        "from sklearn.model_selection import RepeatedKFold\n",
        "\n",
        "from sklearn.preprocessing import MinMaxScaler\n",
        "from sklearn.preprocessing import OneHotEncoder\n",
        "\n",
        "from sklearn.svm import SVR\n",
        "from sklearn.ensemble import RandomForestRegressor\n",
        "from sklearn.ensemble import AdaBoostRegressor\n",
        "from sklearn.linear_model import ElasticNet\n",
        "from sklearn.linear_model import SGDRegressor\n",
        "from xgboost.sklearn import XGBRegressor\n",
        "from lightgbm import LGBMRegressor\n",
        "\n",
        "import xgboost as xgb\n",
        "\n",
        "import plotly.graph_objects as px\n",
        "\n",
        "\n",
        "# Int cufflinks\n",
        "# making all charts public and setting a global theme\n",
        "cf.set_config_file(theme='ggplot',offline=True)\n",
        "\n",
        "# Ignore warnings\n",
        "import warnings\n",
        "warnings.filterwarnings(\"ignore\")\n",
        "\n",
        "# Set matplotlib in Darkmode\n",
        "# plt.style.use('light_background')\n",
        "\n",
        "# Set Pandas to display all columsn\n",
        "pd.set_option(\"display.max.columns\", None)\n"
      ]
    },
    {
      "cell_type": "markdown",
      "metadata": {
        "id": "t0wqKSwETugS"
      },
      "source": [
        "# Dataset Overview"
      ]
    },
    {
      "cell_type": "markdown",
      "metadata": {
        "id": "a-MnPZ9_TugX"
      },
      "source": [
        "### 01. Load the dataset"
      ]
    },
    {
      "cell_type": "code",
      "execution_count": 2,
      "metadata": {
        "colab": {
          "base_uri": "https://localhost:8080/",
          "height": 329
        },
        "id": "9A6cGuSeTugZ",
        "outputId": "8f9190e2-5a24-4d74-b0cb-1b472aa778aa"
      },
      "outputs": [],
      "source": [
        "dataset = pd.read_csv('data_preprocessing/yield_df.csv', encoding='utf-8', index_col=[0])"
      ]
    },
    {
      "cell_type": "markdown",
      "metadata": {
        "id": "3Dq2jrN-Tugb"
      },
      "source": [
        "### 02. Explore the dataset"
      ]
    },
    {
      "cell_type": "markdown",
      "metadata": {
        "id": "mr8zRA1WTugd"
      },
      "source": [
        "Explore files"
      ]
    },
    {
      "cell_type": "code",
      "execution_count": 3,
      "metadata": {
        "id": "6ALrwxRNTugq"
      },
      "outputs": [
        {
          "name": "stdout",
          "output_type": "stream",
          "text": [
            "<class 'pandas.core.frame.DataFrame'>\n",
            "Int64Index: 28242 entries, 0 to 28241\n",
            "Data columns (total 7 columns):\n",
            " #   Column                         Non-Null Count  Dtype  \n",
            "---  ------                         --------------  -----  \n",
            " 0   Area                           28242 non-null  object \n",
            " 1   Item                           28242 non-null  object \n",
            " 2   Year                           28242 non-null  int64  \n",
            " 3   hg/ha_yield                    28242 non-null  int64  \n",
            " 4   average_rain_fall_mm_per_year  28242 non-null  float64\n",
            " 5   pesticides_tonnes              28242 non-null  float64\n",
            " 6   avg_temp                       28242 non-null  float64\n",
            "dtypes: float64(3), int64(2), object(2)\n",
            "memory usage: 1.7+ MB\n"
          ]
        }
      ],
      "source": [
        "# Whole dataset\n",
        "dataset.info()"
      ]
    },
    {
      "cell_type": "markdown",
      "metadata": {
        "id": "Pbdmop8tTugs"
      },
      "source": [
        "Select files (<i>yield_df.csv</i>)"
      ]
    },
    {
      "cell_type": "code",
      "execution_count": 4,
      "metadata": {
        "id": "kCE3MC9qTugu"
      },
      "outputs": [
        {
          "data": {
            "text/html": [
              "<div>\n",
              "<style scoped>\n",
              "    .dataframe tbody tr th:only-of-type {\n",
              "        vertical-align: middle;\n",
              "    }\n",
              "\n",
              "    .dataframe tbody tr th {\n",
              "        vertical-align: top;\n",
              "    }\n",
              "\n",
              "    .dataframe thead th {\n",
              "        text-align: right;\n",
              "    }\n",
              "</style>\n",
              "<table border=\"1\" class=\"dataframe\">\n",
              "  <thead>\n",
              "    <tr style=\"text-align: right;\">\n",
              "      <th></th>\n",
              "      <th>Area</th>\n",
              "      <th>Item</th>\n",
              "      <th>Year</th>\n",
              "      <th>hg/ha_yield</th>\n",
              "      <th>average_rain_fall_mm_per_year</th>\n",
              "      <th>pesticides_tonnes</th>\n",
              "      <th>avg_temp</th>\n",
              "    </tr>\n",
              "  </thead>\n",
              "  <tbody>\n",
              "    <tr>\n",
              "      <th>0</th>\n",
              "      <td>Albania</td>\n",
              "      <td>Maize</td>\n",
              "      <td>1990</td>\n",
              "      <td>36613</td>\n",
              "      <td>1485.0</td>\n",
              "      <td>121.0</td>\n",
              "      <td>16.37</td>\n",
              "    </tr>\n",
              "    <tr>\n",
              "      <th>1</th>\n",
              "      <td>Albania</td>\n",
              "      <td>Potatoes</td>\n",
              "      <td>1990</td>\n",
              "      <td>66667</td>\n",
              "      <td>1485.0</td>\n",
              "      <td>121.0</td>\n",
              "      <td>16.37</td>\n",
              "    </tr>\n",
              "    <tr>\n",
              "      <th>2</th>\n",
              "      <td>Albania</td>\n",
              "      <td>Rice, paddy</td>\n",
              "      <td>1990</td>\n",
              "      <td>23333</td>\n",
              "      <td>1485.0</td>\n",
              "      <td>121.0</td>\n",
              "      <td>16.37</td>\n",
              "    </tr>\n",
              "    <tr>\n",
              "      <th>3</th>\n",
              "      <td>Albania</td>\n",
              "      <td>Sorghum</td>\n",
              "      <td>1990</td>\n",
              "      <td>12500</td>\n",
              "      <td>1485.0</td>\n",
              "      <td>121.0</td>\n",
              "      <td>16.37</td>\n",
              "    </tr>\n",
              "    <tr>\n",
              "      <th>4</th>\n",
              "      <td>Albania</td>\n",
              "      <td>Soybeans</td>\n",
              "      <td>1990</td>\n",
              "      <td>7000</td>\n",
              "      <td>1485.0</td>\n",
              "      <td>121.0</td>\n",
              "      <td>16.37</td>\n",
              "    </tr>\n",
              "  </tbody>\n",
              "</table>\n",
              "</div>"
            ],
            "text/plain": [
              "      Area         Item  Year  hg/ha_yield  average_rain_fall_mm_per_year  \\\n",
              "0  Albania        Maize  1990        36613                         1485.0   \n",
              "1  Albania     Potatoes  1990        66667                         1485.0   \n",
              "2  Albania  Rice, paddy  1990        23333                         1485.0   \n",
              "3  Albania      Sorghum  1990        12500                         1485.0   \n",
              "4  Albania     Soybeans  1990         7000                         1485.0   \n",
              "\n",
              "   pesticides_tonnes  avg_temp  \n",
              "0              121.0     16.37  \n",
              "1              121.0     16.37  \n",
              "2              121.0     16.37  \n",
              "3              121.0     16.37  \n",
              "4              121.0     16.37  "
            ]
          },
          "execution_count": 4,
          "metadata": {},
          "output_type": "execute_result"
        }
      ],
      "source": [
        "dataset.head(5)"
      ]
    },
    {
      "cell_type": "code",
      "execution_count": 5,
      "metadata": {
        "id": "f44kotAnTug3"
      },
      "outputs": [
        {
          "data": {
            "text/plain": [
              "Index(['Area', 'Item', 'Year', 'hg/ha_yield', 'average_rain_fall_mm_per_year',\n",
              "       'pesticides_tonnes', 'avg_temp'],\n",
              "      dtype='object')"
            ]
          },
          "execution_count": 5,
          "metadata": {},
          "output_type": "execute_result"
        }
      ],
      "source": [
        "# Columns\n",
        "columns = list(dataset.columns)\n",
        "dataset.columns"
      ]
    },
    {
      "cell_type": "code",
      "execution_count": 6,
      "metadata": {
        "id": "BFjp5RObTug6"
      },
      "outputs": [
        {
          "data": {
            "text/plain": [
              "array(['Maize', 'Potatoes', 'Rice, paddy', 'Sorghum', 'Soybeans', 'Wheat',\n",
              "       'Cassava', 'Sweet potatoes', 'Plantains and others', 'Yams'],\n",
              "      dtype=object)"
            ]
          },
          "execution_count": 6,
          "metadata": {},
          "output_type": "execute_result"
        }
      ],
      "source": [
        "# Crops available \n",
        "dataset.Item.unique()\n"
      ]
    },
    {
      "cell_type": "code",
      "execution_count": 7,
      "metadata": {
        "id": "kxDCMgjgTug9"
      },
      "outputs": [
        {
          "data": {
            "text/plain": [
              "Area                             False\n",
              "Item                             False\n",
              "Year                             False\n",
              "hg/ha_yield                      False\n",
              "average_rain_fall_mm_per_year    False\n",
              "pesticides_tonnes                False\n",
              "avg_temp                         False\n",
              "dtype: bool"
            ]
          },
          "execution_count": 7,
          "metadata": {},
          "output_type": "execute_result"
        }
      ],
      "source": [
        "# Shows NA or NAN\n",
        "dataset.isna().any()"
      ]
    },
    {
      "cell_type": "code",
      "execution_count": 8,
      "metadata": {
        "id": "L0b7Af51dZEd"
      },
      "outputs": [
        {
          "data": {
            "text/html": [
              "<div>\n",
              "<style scoped>\n",
              "    .dataframe tbody tr th:only-of-type {\n",
              "        vertical-align: middle;\n",
              "    }\n",
              "\n",
              "    .dataframe tbody tr th {\n",
              "        vertical-align: top;\n",
              "    }\n",
              "\n",
              "    .dataframe thead th {\n",
              "        text-align: right;\n",
              "    }\n",
              "</style>\n",
              "<table border=\"1\" class=\"dataframe\">\n",
              "  <thead>\n",
              "    <tr style=\"text-align: right;\">\n",
              "      <th></th>\n",
              "      <th>Year</th>\n",
              "      <th>hg/ha_yield</th>\n",
              "      <th>average_rain_fall_mm_per_year</th>\n",
              "      <th>pesticides_tonnes</th>\n",
              "      <th>avg_temp</th>\n",
              "    </tr>\n",
              "  </thead>\n",
              "  <tbody>\n",
              "    <tr>\n",
              "      <th>count</th>\n",
              "      <td>28242.000000</td>\n",
              "      <td>28242.000000</td>\n",
              "      <td>28242.00000</td>\n",
              "      <td>28242.000000</td>\n",
              "      <td>28242.000000</td>\n",
              "    </tr>\n",
              "    <tr>\n",
              "      <th>mean</th>\n",
              "      <td>2001.544296</td>\n",
              "      <td>77053.332094</td>\n",
              "      <td>1149.05598</td>\n",
              "      <td>37076.909344</td>\n",
              "      <td>20.542627</td>\n",
              "    </tr>\n",
              "    <tr>\n",
              "      <th>std</th>\n",
              "      <td>7.051905</td>\n",
              "      <td>84956.612897</td>\n",
              "      <td>709.81215</td>\n",
              "      <td>59958.784665</td>\n",
              "      <td>6.312051</td>\n",
              "    </tr>\n",
              "    <tr>\n",
              "      <th>min</th>\n",
              "      <td>1990.000000</td>\n",
              "      <td>50.000000</td>\n",
              "      <td>51.00000</td>\n",
              "      <td>0.040000</td>\n",
              "      <td>1.300000</td>\n",
              "    </tr>\n",
              "    <tr>\n",
              "      <th>25%</th>\n",
              "      <td>1995.000000</td>\n",
              "      <td>19919.250000</td>\n",
              "      <td>593.00000</td>\n",
              "      <td>1702.000000</td>\n",
              "      <td>16.702500</td>\n",
              "    </tr>\n",
              "    <tr>\n",
              "      <th>50%</th>\n",
              "      <td>2001.000000</td>\n",
              "      <td>38295.000000</td>\n",
              "      <td>1083.00000</td>\n",
              "      <td>17529.440000</td>\n",
              "      <td>21.510000</td>\n",
              "    </tr>\n",
              "    <tr>\n",
              "      <th>75%</th>\n",
              "      <td>2008.000000</td>\n",
              "      <td>104676.750000</td>\n",
              "      <td>1668.00000</td>\n",
              "      <td>48687.880000</td>\n",
              "      <td>26.000000</td>\n",
              "    </tr>\n",
              "    <tr>\n",
              "      <th>max</th>\n",
              "      <td>2013.000000</td>\n",
              "      <td>501412.000000</td>\n",
              "      <td>3240.00000</td>\n",
              "      <td>367778.000000</td>\n",
              "      <td>30.650000</td>\n",
              "    </tr>\n",
              "  </tbody>\n",
              "</table>\n",
              "</div>"
            ],
            "text/plain": [
              "               Year    hg/ha_yield  average_rain_fall_mm_per_year  \\\n",
              "count  28242.000000   28242.000000                    28242.00000   \n",
              "mean    2001.544296   77053.332094                     1149.05598   \n",
              "std        7.051905   84956.612897                      709.81215   \n",
              "min     1990.000000      50.000000                       51.00000   \n",
              "25%     1995.000000   19919.250000                      593.00000   \n",
              "50%     2001.000000   38295.000000                     1083.00000   \n",
              "75%     2008.000000  104676.750000                     1668.00000   \n",
              "max     2013.000000  501412.000000                     3240.00000   \n",
              "\n",
              "       pesticides_tonnes      avg_temp  \n",
              "count       28242.000000  28242.000000  \n",
              "mean        37076.909344     20.542627  \n",
              "std         59958.784665      6.312051  \n",
              "min             0.040000      1.300000  \n",
              "25%          1702.000000     16.702500  \n",
              "50%         17529.440000     21.510000  \n",
              "75%         48687.880000     26.000000  \n",
              "max        367778.000000     30.650000  "
            ]
          },
          "execution_count": 8,
          "metadata": {},
          "output_type": "execute_result"
        }
      ],
      "source": [
        "dataset.describe()"
      ]
    },
    {
      "cell_type": "code",
      "execution_count": 9,
      "metadata": {
        "id": "m0PIB4WGTug_"
      },
      "outputs": [
        {
          "data": {
            "text/plain": [
              "Year                             0.012243\n",
              "hg/ha_yield                      1.793229\n",
              "average_rain_fall_mm_per_year    0.853832\n",
              "pesticides_tonnes                3.490289\n",
              "avg_temp                        -0.741582\n",
              "dtype: float64"
            ]
          },
          "execution_count": 9,
          "metadata": {},
          "output_type": "execute_result"
        }
      ],
      "source": [
        "# Skew \n",
        "dataset.skew(numeric_only=True)"
      ]
    },
    {
      "cell_type": "code",
      "execution_count": 10,
      "metadata": {
        "id": "ZeA36pKog-Cn"
      },
      "outputs": [
        {
          "data": {
            "text/html": [
              "<div>\n",
              "<style scoped>\n",
              "    .dataframe tbody tr th:only-of-type {\n",
              "        vertical-align: middle;\n",
              "    }\n",
              "\n",
              "    .dataframe tbody tr th {\n",
              "        vertical-align: top;\n",
              "    }\n",
              "\n",
              "    .dataframe thead th {\n",
              "        text-align: right;\n",
              "    }\n",
              "</style>\n",
              "<table border=\"1\" class=\"dataframe\">\n",
              "  <thead>\n",
              "    <tr style=\"text-align: right;\">\n",
              "      <th></th>\n",
              "      <th>Area</th>\n",
              "      <th>Year</th>\n",
              "      <th>hg/ha_yield</th>\n",
              "      <th>average_rain_fall_mm_per_year</th>\n",
              "      <th>pesticides_tonnes</th>\n",
              "      <th>avg_temp</th>\n",
              "    </tr>\n",
              "    <tr>\n",
              "      <th>Item</th>\n",
              "      <th></th>\n",
              "      <th></th>\n",
              "      <th></th>\n",
              "      <th></th>\n",
              "      <th></th>\n",
              "      <th></th>\n",
              "    </tr>\n",
              "  </thead>\n",
              "  <tbody>\n",
              "    <tr>\n",
              "      <th>Cassava</th>\n",
              "      <td>2045</td>\n",
              "      <td>2045</td>\n",
              "      <td>2045</td>\n",
              "      <td>2045</td>\n",
              "      <td>2045</td>\n",
              "      <td>2045</td>\n",
              "    </tr>\n",
              "    <tr>\n",
              "      <th>Maize</th>\n",
              "      <td>4121</td>\n",
              "      <td>4121</td>\n",
              "      <td>4121</td>\n",
              "      <td>4121</td>\n",
              "      <td>4121</td>\n",
              "      <td>4121</td>\n",
              "    </tr>\n",
              "    <tr>\n",
              "      <th>Plantains and others</th>\n",
              "      <td>556</td>\n",
              "      <td>556</td>\n",
              "      <td>556</td>\n",
              "      <td>556</td>\n",
              "      <td>556</td>\n",
              "      <td>556</td>\n",
              "    </tr>\n",
              "    <tr>\n",
              "      <th>Potatoes</th>\n",
              "      <td>4276</td>\n",
              "      <td>4276</td>\n",
              "      <td>4276</td>\n",
              "      <td>4276</td>\n",
              "      <td>4276</td>\n",
              "      <td>4276</td>\n",
              "    </tr>\n",
              "    <tr>\n",
              "      <th>Rice, paddy</th>\n",
              "      <td>3388</td>\n",
              "      <td>3388</td>\n",
              "      <td>3388</td>\n",
              "      <td>3388</td>\n",
              "      <td>3388</td>\n",
              "      <td>3388</td>\n",
              "    </tr>\n",
              "    <tr>\n",
              "      <th>Sorghum</th>\n",
              "      <td>3039</td>\n",
              "      <td>3039</td>\n",
              "      <td>3039</td>\n",
              "      <td>3039</td>\n",
              "      <td>3039</td>\n",
              "      <td>3039</td>\n",
              "    </tr>\n",
              "    <tr>\n",
              "      <th>Soybeans</th>\n",
              "      <td>3223</td>\n",
              "      <td>3223</td>\n",
              "      <td>3223</td>\n",
              "      <td>3223</td>\n",
              "      <td>3223</td>\n",
              "      <td>3223</td>\n",
              "    </tr>\n",
              "    <tr>\n",
              "      <th>Sweet potatoes</th>\n",
              "      <td>2890</td>\n",
              "      <td>2890</td>\n",
              "      <td>2890</td>\n",
              "      <td>2890</td>\n",
              "      <td>2890</td>\n",
              "      <td>2890</td>\n",
              "    </tr>\n",
              "    <tr>\n",
              "      <th>Wheat</th>\n",
              "      <td>3857</td>\n",
              "      <td>3857</td>\n",
              "      <td>3857</td>\n",
              "      <td>3857</td>\n",
              "      <td>3857</td>\n",
              "      <td>3857</td>\n",
              "    </tr>\n",
              "    <tr>\n",
              "      <th>Yams</th>\n",
              "      <td>847</td>\n",
              "      <td>847</td>\n",
              "      <td>847</td>\n",
              "      <td>847</td>\n",
              "      <td>847</td>\n",
              "      <td>847</td>\n",
              "    </tr>\n",
              "  </tbody>\n",
              "</table>\n",
              "</div>"
            ],
            "text/plain": [
              "                      Area  Year  hg/ha_yield  average_rain_fall_mm_per_year  \\\n",
              "Item                                                                           \n",
              "Cassava               2045  2045         2045                           2045   \n",
              "Maize                 4121  4121         4121                           4121   \n",
              "Plantains and others   556   556          556                            556   \n",
              "Potatoes              4276  4276         4276                           4276   \n",
              "Rice, paddy           3388  3388         3388                           3388   \n",
              "Sorghum               3039  3039         3039                           3039   \n",
              "Soybeans              3223  3223         3223                           3223   \n",
              "Sweet potatoes        2890  2890         2890                           2890   \n",
              "Wheat                 3857  3857         3857                           3857   \n",
              "Yams                   847   847          847                            847   \n",
              "\n",
              "                      pesticides_tonnes  avg_temp  \n",
              "Item                                               \n",
              "Cassava                            2045      2045  \n",
              "Maize                              4121      4121  \n",
              "Plantains and others                556       556  \n",
              "Potatoes                           4276      4276  \n",
              "Rice, paddy                        3388      3388  \n",
              "Sorghum                            3039      3039  \n",
              "Soybeans                           3223      3223  \n",
              "Sweet potatoes                     2890      2890  \n",
              "Wheat                              3857      3857  \n",
              "Yams                                847       847  "
            ]
          },
          "execution_count": 10,
          "metadata": {},
          "output_type": "execute_result"
        }
      ],
      "source": [
        "# Check number of data for each crop \n",
        "dataset.groupby('Item').count()"
      ]
    },
    {
      "cell_type": "markdown",
      "metadata": {
        "id": "HntfKoRETug_"
      },
      "source": [
        "### Plot Data"
      ]
    },
    {
      "cell_type": "markdown",
      "metadata": {
        "id": "9qPqTsKPTug_"
      },
      "source": [
        "#### 03. Plot all variables"
      ]
    },
    {
      "cell_type": "code",
      "execution_count": 11,
      "metadata": {
        "id": "4tfy8sGsTuhA"
      },
      "outputs": [
        {
          "data": {
            "text/plain": [
              "<AxesSubplot: xlabel='Year'>"
            ]
          },
          "execution_count": 11,
          "metadata": {},
          "output_type": "execute_result"
        },
        {
          "data": {
            "image/png": "[encoded data removed]",
            "text/plain": [
              "<Figure size 640x480 with 1 Axes>"
            ]
          },
          "metadata": {},
          "output_type": "display_data"
        }
      ],
      "source": [
        "dataset.plot(x='Year')"
      ]
    },
    {
      "cell_type": "code",
      "execution_count": 12,
      "metadata": {
        "id": "4zbDU_AsWeGO"
      },
      "outputs": [
        {
          "data": {
            "text/plain": [
              "(1.0, 100.0)"
            ]
          },
          "execution_count": 12,
          "metadata": {},
          "output_type": "execute_result"
        },
        {
          "data": {
            "image/png": "[encoded data removed]",
            "text/plain": [
              "<Figure size 640x480 with 2 Axes>"
            ]
          },
          "metadata": {},
          "output_type": "display_data"
        }
      ],
      "source": [
        "# Plot all variables against time\n",
        "ax = dataset.plot.line(secondary_y=['avg_temp','average_rain_fall_mm_per_year'], x='Year', rot=0)\n",
        "ax.right_ax.set_ylim(1,100)"
      ]
    },
    {
      "cell_type": "code",
      "execution_count": 13,
      "metadata": {
        "id": "_oN09YO2TuhC"
      },
      "outputs": [
        {
          "data": {
            "text/plain": [
              "array([[<AxesSubplot: title={'center': 'Year'}>,\n",
              "        <AxesSubplot: title={'center': 'hg/ha_yield'}>],\n",
              "       [<AxesSubplot: title={'center': 'average_rain_fall_mm_per_year'}>,\n",
              "        <AxesSubplot: title={'center': 'pesticides_tonnes'}>],\n",
              "       [<AxesSubplot: title={'center': 'avg_temp'}>, <AxesSubplot: >]],\n",
              "      dtype=object)"
            ]
          },
          "execution_count": 13,
          "metadata": {},
          "output_type": "execute_result"
        },
        {
          "data": {
            "image/png": "[encoded data removed]",
            "text/plain": [
              "<Figure size 2000x1500 with 6 Axes>"
            ]
          },
          "metadata": {},
          "output_type": "display_data"
        }
      ],
      "source": [
        "#Plot histograms of all the variables in the dataset\n",
        "dataset.hist(bins=50, figsize = (20,15))"
      ]
    },
    {
      "cell_type": "markdown",
      "metadata": {
        "id": "oFXZlwuPTuhE"
      },
      "source": [
        "#### 04. Correlation matrix"
      ]
    },
    {
      "cell_type": "code",
      "execution_count": 14,
      "metadata": {
        "id": "XPhGEuQrTuhF"
      },
      "outputs": [
        {
          "data": {
            "text/plain": [
              "<AxesSubplot: >"
            ]
          },
          "execution_count": 14,
          "metadata": {},
          "output_type": "execute_result"
        },
        {
          "data": {
            "image/png": "[encoded data removed]",
            "text/plain": [
              "<Figure size 640x480 with 2 Axes>"
            ]
          },
          "metadata": {},
          "output_type": "display_data"
        }
      ],
      "source": [
        "# Correlation data \n",
        "corr = dataset.drop('Year', axis=1).corr()\n",
        "\n",
        "# Correlation matrix with seaborn (correlation val are -1 to 1, thats why vmin vmax)\n",
        "sns.heatmap(corr, vmin = -1, vmax = +1, annot = True, cmap = 'coolwarm')"
      ]
    },
    {
      "attachments": {},
      "cell_type": "markdown",
      "metadata": {
        "id": "nD6HUVgETuhH"
      },
      "source": [
        "# Functions"
      ]
    },
    {
      "cell_type": "markdown",
      "metadata": {
        "id": "-HtzNzkhTuhH"
      },
      "source": [
        "#### Checking Parameters"
      ]
    },
    {
      "cell_type": "code",
      "execution_count": 11,
      "metadata": {
        "id": "cAl7v0FRVVpo"
      },
      "outputs": [],
      "source": [
        "def parameter_check_class(pred, labels_test, features_test):\n",
        "    \"\"\"Determines R2, MAE, RMSE and Adjusted R2 by CLASS\"\"\"\n",
        "    ft_copy = features_test.copy()\n",
        "    lt_copy = labels_test.copy()\n",
        "    # Calculate R^2 and MAE for each class\n",
        "    r2_scores = {}\n",
        "    mae_scores = {}\n",
        "    mae_per_scores = {}\n",
        "    \n",
        "    # Reconvert Items feature into a categorical variable\n",
        "    item_cols = [col for col in ft_copy.columns if col.startswith('Item_')]\n",
        "    ft_copy['Items'] = ft_copy[item_cols].idxmax(axis=1).str.replace('Item_', '')\n",
        "    # Drop the one-hot encoded columns\n",
        "    ft_copy.drop(item_cols, axis=1, inplace=True)\n",
        "    \n",
        "    # Reset index so they match\n",
        "    ft_copy = ft_copy.reset_index(drop=True)\n",
        "    lt_copy = lt_copy.reset_index(drop=True)\n",
        "    \n",
        "    print('\\n')\n",
        "    # Group features by crop type\n",
        "    for crop, group in ft_copy.groupby(['Items']):\n",
        "        idx = group.index.tolist()\n",
        "        y_true = lt_copy.loc[idx].to_numpy()\n",
        "        r2 = r2_score(y_true, pred[idx])\n",
        "        mae = mean_absolute_error(y_true, pred[idx])\n",
        "\n",
        "        # Calculate the percentage mae\n",
        "        target_range = max(y_true) - min(y_true)\n",
        "        percentage_mae = (mae / target_range) * 100\n",
        "\n",
        "        mae_per_scores[crop] = percentage_mae\n",
        "        r2_scores[crop] = r2\n",
        "        mae_scores[crop] = mae\n",
        "\n",
        "        # print the results\n",
        "        print(f\"{crop}: R^2={r2:.2f}, MAE={mae:.2f}, MAE%={percentage_mae:.2f}%\")\n",
        "\n",
        "    return { 'r2': r2_scores, 'mae':mae_scores, 'mae%': mae_per_scores}"
      ]
    },
    {
      "cell_type": "code",
      "execution_count": 12,
      "metadata": {
        "id": "H5uAztvQTuhI"
      },
      "outputs": [],
      "source": [
        "def parameter_check(pred, labels_test):\n",
        "    \"\"\"Determines r2, mae, rmse and adjusted r2\"\"\"\n",
        "\n",
        "    # Calculate R-squared\n",
        "    r2 = r2_score(labels_test , pred)\n",
        "    print(f\"R^2: {r2:.3f}\")\n",
        "\n",
        "    # Calculate MAE\n",
        "    mae = mean_absolute_error(labels_test, pred)\n",
        "    print(f\"MAE: {mae:.3f}\")\n",
        "\n",
        "    # calculate the percentage mae\n",
        "    target_range = max(labels_test) - min(labels_test)\n",
        "    percentage_mae = (mae / target_range) * 100\n",
        "    print(f\"MAE(%): {percentage_mae:.2f}%\")\n",
        "\n",
        "    # Calculate RMSE\n",
        "    rmse = np.sqrt(mean_squared_error(labels_test, pred))\n",
        "    print(f\"RMSE {rmse:.3f}\")\n",
        "\n",
        "    # Calculate Adjusted R-squared\n",
        "    n = len(labels_test)\n",
        "    p = len(pred)\n",
        "    adj_r2 = 1 - (1 - r2) * (n - 1) / (n - p - 1)\n",
        "    print(f\"Adjusted R^2 {adj_r2:.3f}\")\n",
        "\n",
        "    return { 'r2': r2, 'mae':mae, 'rmse':rmse, 'adj_r2':adj_r2, 'mae%': percentage_mae}"
      ]
    },
    {
      "cell_type": "code",
      "execution_count": 13,
      "metadata": {},
      "outputs": [],
      "source": [
        "def plot_learning_curves(best_model, features_train, labels_train, cv):\n",
        "    \"\"\"Plot the learning curve of a model\"\"\"\n",
        "    \n",
        "    train_sizes, train_scores, val_scores = learning_curve(best_model, features_train, labels_train, \n",
        "                cv=cv, n_jobs=-1, shuffle=True, random_state=42)\n",
        "\n",
        "    train_scores_mean = np.mean(train_scores, axis=1)\n",
        "    train_scores_std = np.std(train_scores, axis=1)\n",
        "    val_scores_mean = np.mean(val_scores, axis=1)\n",
        "    val_scores_std = np.std(val_scores, axis=1)\n",
        "\n",
        "    plt.fill_between(train_sizes, train_scores_mean - train_scores_std,\n",
        "                    train_scores_mean + train_scores_std, alpha=0.1,\n",
        "                    color=\"r\")\n",
        "    plt.fill_between(train_sizes, val_scores_mean - val_scores_std,\n",
        "                    val_scores_mean + val_scores_std, alpha=0.1, color=\"g\")\n",
        "\n",
        "    plt.plot(train_sizes, train_scores_mean, 'o-', color=\"r\",\n",
        "            label=\"Train\")\n",
        "    plt.plot(train_sizes, val_scores_mean, 'o-', color=\"g\",\n",
        "            label=\"Val\")\n",
        "\n",
        "    plt.legend(loc=\"best\")\n",
        "    plt.show()"
      ]
    },
    {
      "cell_type": "markdown",
      "metadata": {
        "id": "_UEhuvDsVyFh"
      },
      "source": [
        "### Hyperparameters"
      ]
    },
    {
      "cell_type": "code",
      "execution_count": 21,
      "metadata": {
        "id": "6vPOgZtrTuhN"
      },
      "outputs": [],
      "source": [
        "# Parameter grids to search over using gridsearch (for each algorithm)\n",
        "params = {\n",
        "'svm' : {\n",
        "    'rgs__degree':[1], # 'rgs__degree':[0.01, 0.1, 1, 10],\n",
        "    'rgs__gamma' : [1,3,5],\n",
        "    # 'rgs__kernel' :['rbf', 'linear', 'poly' ,'sigmoid'],\n",
        "    # 'rgs__C' : [10, 100],\n",
        "    # 'rgs__coef0': [0.01, 10, 0.5],\n",
        "    # 'rgs__epsilon': [0.1, 0.5, 1],\n",
        "},\n",
        "'rf': {\n",
        "    'rgs__n_estimators':[5, 10, 50,],\n",
        "    'rgs__max_depth': [5, 10, 20],\n",
        "    'rgs__min_samples_split': [2,3,4],\n",
        "    'rgs__min_samples_leaf': [3,5]\n",
        "},\n",
        "'ada':{\n",
        "    'rgs__n_estimators':[10, 50, 100, 500],\n",
        "    'rgs__learning_rate': [0.0001, 0.001, 0.01, 0.1, 1.0]\n",
        "},\n",
        "'elastic':{\n",
        "    'rgs__alpha':[0.01, 0.1, 1.0, 2,0, 10.0,],\n",
        "    'rgs__l1_ratio':[0.1, 0.2, 0.3, 0.4, 0.5, 0.6, 0.7],\n",
        "},\n",
        "'xgb':{\n",
        "    \n",
        "    'rgs__n_estimators': [100,250,400,500],\n",
        "    'rgs__max_depth': [3, 6, 9, 12],\n",
        "    'rgs__learning_rate': [0.001, 0.05, 0.1, 0.20],\n",
        "    'rgs__min_child_weight': [1, 10, 100],\n",
        "    # 'rgs__gamma' : [0,0.1,0.5],\n",
        "    # 'rgs__reg_alpha' : [0, 0.1, 0.5],\n",
        "    # 'rgs__reg_lambda': [0, 0.1, 0.5],\n",
        "    \n",
        "},\n",
        "'sgdr' : {\n",
        "    'rgs__alpha':[1e-5, 1e-4, 1e-3, 1e-2, 1e-1, 0.0, 1.0, 10.0, 100.0],\n",
        "    'rgs__l1_ratio':np.arange(0, 1, 0.1),\n",
        "\n",
        "},\n",
        "'lgbmr' : {\n",
        "    'rgs__n_estimators': [50, 100, 400],\n",
        "    'rgs__max_depth': [-1, 0, 1],\n",
        "    'rgs__learning_rate': [0.05, 0.1, 0.20],\n",
        "    'rgs__min_child_weight': [0.001, 0.01, 0.1]\n",
        "    \n",
        "}\n",
        "}"
      ]
    },
    {
      "cell_type": "markdown",
      "metadata": {
        "id": "pQoAOcoxTuhK"
      },
      "source": [
        "### Pipeline"
      ]
    },
    {
      "cell_type": "code",
      "execution_count": 15,
      "metadata": {
        "id": "acGtI3kXTuhN"
      },
      "outputs": [],
      "source": [
        "def build_pipeline(params, regressor, features_train, labels_train, features_test, labels_test):\n",
        "    # Setting up a pipeline\n",
        "    pipe = Pipeline([\n",
        "        ('scaler', MinMaxScaler()),\n",
        "        ('rgs', regressor)\n",
        "    ])\n",
        "\n",
        "    # Cross validation\n",
        "    cv = RepeatedKFold(n_splits=5, n_repeats=3, random_state=42)\n",
        "\n",
        "    # Set up the grid search\n",
        "    gs = GridSearchCV(estimator=pipe,param_grid=params,n_jobs=-1, verbose=10, cv=cv,scoring='r2')\n",
        "\n",
        "    # Fit gs to training data\n",
        "    gs_results = gs.fit(features_train, labels_train)\n",
        "\n",
        "    # Plot learning curves\n",
        "    # Join test and train\n",
        "    plot_learning_curves(gs.best_estimator_, features_train, labels_train, cv)\n",
        "    \n",
        "    # Find best fit\n",
        "    print(f'Best score: {gs_results.best_score_}')\n",
        "    print(f'Best parameters: \\n{gs_results.best_params_}')\n",
        "\n",
        "    # Get score\n",
        "    print(f'\\nScore: {gs.score(features_test, labels_test)}')\n",
        "\n",
        "    # Predict results\n",
        "    labels_preds = gs.predict(features_test)\n",
        "    best_par = parameter_check(labels_preds, labels_test)\n",
        "    best_par_class = parameter_check_class(labels_preds, labels_test, features_test)\n",
        "    \n",
        "    return best_par, best_par_class, gs_results "
      ]
    },
    {
      "attachments": {},
      "cell_type": "markdown",
      "metadata": {
        "id": "9X3P60nETuhP"
      },
      "source": [
        "# Data Preprocessing"
      ]
    },
    {
      "cell_type": "markdown",
      "metadata": {
        "id": "PgyBWWAZTuhP"
      },
      "source": [
        "### 04. Handle Categorical Variables"
      ]
    },
    {
      "cell_type": "code",
      "execution_count": 16,
      "metadata": {
        "id": "kyzV-CnKTuhQ"
      },
      "outputs": [],
      "source": [
        "# Handle categorical variables\n",
        "# OneHotEncoder\n",
        "encoder = OneHotEncoder(handle_unknown='ignore')\n",
        "\n",
        "# fit and transform the categorical data in Area and Item\n",
        "encoded_data = encoder.fit_transform(dataset[['Item', 'Area']])\n",
        "\n",
        "# convert the encoded data back into a Pandas DataFrame\n",
        "encoded_df = pd.DataFrame(encoded_data.toarray(), columns=encoder.get_feature_names_out(['Item', 'Area']))\n",
        "df = pd.concat([dataset, encoded_df], axis=1)"
      ]
    },
    {
      "cell_type": "code",
      "execution_count": 17,
      "metadata": {},
      "outputs": [],
      "source": [
        "# Turn yield into logaritmic\n",
        "df['Log_Yield'] = np.log(df['hg/ha_yield'])"
      ]
    },
    {
      "cell_type": "markdown",
      "metadata": {
        "id": "-DPyCYpnMfAS"
      },
      "source": [
        "### 05. Remove Unnecesary Features"
      ]
    },
    {
      "cell_type": "code",
      "execution_count": 18,
      "metadata": {},
      "outputs": [],
      "source": [
        "# Create features and labels (and remove categorical variables)\n",
        "features = df.drop(['hg/ha_yield','Log_Yield','Item','Area', 'Year'], axis=1)\n",
        "labels = df['Log_Yield']"
      ]
    },
    {
      "cell_type": "markdown",
      "metadata": {
        "id": "aimFvCwLTuhQ"
      },
      "source": [
        "### 06. Split Dataset"
      ]
    },
    {
      "cell_type": "code",
      "execution_count": 19,
      "metadata": {
        "id": "b6ikh3EjTuhd"
      },
      "outputs": [
        {
          "name": "stdout",
          "output_type": "stream",
          "text": [
            "Train: 22593 features, 22593 labels      \n",
            "Test: 5649 features, 5649 labels\n"
          ]
        }
      ],
      "source": [
        "# Create training (75%) and test (25%) sets\n",
        "features_train, features_test , labels_train , labels_test = train_test_split(features, labels, test_size =0.2, random_state=42)\n",
        "# features_train, features_val, labels_train, labels_val = train_test_split(features_train, labels_train, test_size=0.2, random_state=42)\n",
        "\n",
        "print(f'Train: {len(features_train)} features, {len(labels_train)} labels\\\n",
        "      \\nTest: {len(features_test)} features, {len(labels_test)} labels')\n",
        "    # \\nVal: {len(features_val)} features, {len(labels_val)} labels\\')"
      ]
    },
    {
      "cell_type": "markdown",
      "metadata": {
        "id": "9WPm__iQTuhH"
      },
      "source": [
        "# Model Comparison"
      ]
    },
    {
      "cell_type": "markdown",
      "metadata": {
        "id": "XjmvIKMMTuhg"
      },
      "source": [
        "### 06. Run Models"
      ]
    },
    {
      "cell_type": "markdown",
      "metadata": {
        "id": "bNb2fsOlTuhm"
      },
      "source": [
        "Random Forest"
      ]
    },
    {
      "cell_type": "code",
      "execution_count": 24,
      "metadata": {
        "id": "IfGUQDPXTuhn"
      },
      "outputs": [
        {
          "name": "stdout",
          "output_type": "stream",
          "text": [
            "Fitting 15 folds for each of 54 candidates, totalling 810 fits\n"
          ]
        },
        {
          "data": {
            "image/png": "[encoded data removed]",
            "text/plain": [
              "<Figure size 640x480 with 1 Axes>"
            ]
          },
          "metadata": {},
          "output_type": "display_data"
        },
        {
          "name": "stdout",
          "output_type": "stream",
          "text": [
            "Best score: 0.9606559045414753\n",
            "Best parameters: \n",
            "{'rgs__max_depth': 20, 'rgs__min_samples_leaf': 3, 'rgs__min_samples_split': 4, 'rgs__n_estimators': 50}\n",
            "\n",
            "Score: 0.9656761461524792\n",
            "R^2: 0.966\n",
            "MAE: 0.122\n",
            "MAE(%): 1.56%\n",
            "RMSE 0.205\n",
            "Adjusted R^2 194.861\n",
            "\n",
            "\n",
            "Cassava: R^2=0.93, MAE=0.09, MAE%=2.69%\n",
            "Maize: R^2=0.87, MAE=0.20, MAE%=3.97%\n",
            "Plantains and others: R^2=0.91, MAE=0.11, MAE%=3.71%\n",
            "Potatoes: R^2=0.90, MAE=0.09, MAE%=2.50%\n",
            "Rice, paddy: R^2=0.90, MAE=0.11, MAE%=2.95%\n",
            "Sorghum: R^2=0.91, MAE=0.13, MAE%=2.77%\n",
            "Soybeans: R^2=0.88, MAE=0.10, MAE%=1.80%\n",
            "Sweet potatoes: R^2=0.91, MAE=0.09, MAE%=2.37%\n",
            "Wheat: R^2=0.88, MAE=0.16, MAE%=4.21%\n",
            "Yams: R^2=0.94, MAE=0.06, MAE%=2.38%\n"
          ]
        }
      ],
      "source": [
        "best_par_rf, best_par_rf_class, score_rf = build_pipeline(params['rf'], RandomForestRegressor(), features_train, labels_train, features_test, labels_test)"
      ]
    },
    {
      "cell_type": "markdown",
      "metadata": {
        "id": "MOh3ogbZTuhh"
      },
      "source": [
        "SVM"
      ]
    },
    {
      "cell_type": "code",
      "execution_count": 25,
      "metadata": {
        "id": "xkkUX3DPTuhi"
      },
      "outputs": [
        {
          "name": "stdout",
          "output_type": "stream",
          "text": [
            "Fitting 15 folds for each of 3 candidates, totalling 45 fits\n"
          ]
        },
        {
          "data": {
            "image/png": "[encoded data removed]",
            "text/plain": [
              "<Figure size 640x480 with 1 Axes>"
            ]
          },
          "metadata": {},
          "output_type": "display_data"
        },
        {
          "name": "stdout",
          "output_type": "stream",
          "text": [
            "Best score: 0.9519576946622003\n",
            "Best parameters: \n",
            "{'rgs__degree': 1, 'rgs__gamma': 5}\n",
            "\n",
            "Score: 0.9570543168862762\n",
            "R^2: 0.957\n",
            "MAE: 0.145\n",
            "MAE(%): 1.86%\n",
            "RMSE 0.229\n",
            "Adjusted R^2 243.557\n",
            "\n",
            "\n",
            "Cassava: R^2=0.89, MAE=0.14, MAE%=4.20%\n",
            "Maize: R^2=0.86, MAE=0.19, MAE%=3.83%\n",
            "Plantains and others: R^2=0.84, MAE=0.16, MAE%=5.36%\n",
            "Potatoes: R^2=0.87, MAE=0.13, MAE%=3.58%\n",
            "Rice, paddy: R^2=0.87, MAE=0.12, MAE%=3.28%\n",
            "Sorghum: R^2=0.88, MAE=0.17, MAE%=3.49%\n",
            "Soybeans: R^2=0.80, MAE=0.15, MAE%=2.75%\n",
            "Sweet potatoes: R^2=0.90, MAE=0.12, MAE%=3.31%\n",
            "Wheat: R^2=0.89, MAE=0.14, MAE%=3.65%\n",
            "Yams: R^2=0.80, MAE=0.11, MAE%=4.39%\n"
          ]
        }
      ],
      "source": [
        "best_par_svm, best_par_svm_class, score_svm = build_pipeline(params['svm'], SVR(), features_train, labels_train, features_test, labels_test)"
      ]
    },
    {
      "cell_type": "markdown",
      "metadata": {
        "id": "FDvLiMPKTuho"
      },
      "source": [
        "AdaBoost"
      ]
    },
    {
      "cell_type": "code",
      "execution_count": 26,
      "metadata": {
        "id": "jY4HO5KETuhq"
      },
      "outputs": [
        {
          "name": "stdout",
          "output_type": "stream",
          "text": [
            "Fitting 15 folds for each of 20 candidates, totalling 300 fits\n"
          ]
        },
        {
          "data": {
            "image/png": "[encoded data removed]",
            "text/plain": [
              "<Figure size 640x480 with 1 Axes>"
            ]
          },
          "metadata": {},
          "output_type": "display_data"
        },
        {
          "name": "stdout",
          "output_type": "stream",
          "text": [
            "Best score: 0.6094605044913383\n",
            "Best parameters: \n",
            "{'rgs__learning_rate': 0.1, 'rgs__n_estimators': 100}\n",
            "\n",
            "Score: 0.6067495775856343\n",
            "R^2: 0.607\n",
            "MAE: 0.559\n",
            "MAE(%): 7.18%\n",
            "RMSE 0.694\n",
            "Adjusted R^2 2222.078\n",
            "\n",
            "\n",
            "Cassava: R^2=-0.68, MAE=0.77, MAE%=22.47%\n",
            "Maize: R^2=0.02, MAE=0.63, MAE%=12.61%\n",
            "Plantains and others: R^2=-1.62, MAE=0.85, MAE%=28.63%\n",
            "Potatoes: R^2=0.33, MAE=0.35, MAE%=9.51%\n",
            "Rice, paddy: R^2=0.08, MAE=0.37, MAE%=10.35%\n",
            "Sorghum: R^2=0.12, MAE=0.63, MAE%=12.87%\n",
            "Soybeans: R^2=-0.59, MAE=0.52, MAE%=9.69%\n",
            "Sweet potatoes: R^2=-0.41, MAE=0.63, MAE%=17.23%\n",
            "Wheat: R^2=-0.28, MAE=0.56, MAE%=15.22%\n",
            "Yams: R^2=-3.43, MAE=0.94, MAE%=38.10%\n"
          ]
        }
      ],
      "source": [
        "best_par_ada, best_par_ada_class, score_ada = build_pipeline(params['ada'], AdaBoostRegressor(), features_train, labels_train, features_test, labels_test)"
      ]
    },
    {
      "cell_type": "markdown",
      "metadata": {
        "id": "bktSahwvsNEw"
      },
      "source": [
        "Elastic Net"
      ]
    },
    {
      "cell_type": "code",
      "execution_count": 27,
      "metadata": {
        "id": "lIkXe4U1sRg_"
      },
      "outputs": [
        {
          "name": "stdout",
          "output_type": "stream",
          "text": [
            "Fitting 15 folds for each of 42 candidates, totalling 630 fits\n"
          ]
        },
        {
          "data": {
            "image/png": "[encoded data removed]",
            "text/plain": [
              "<Figure size 640x480 with 1 Axes>"
            ]
          },
          "metadata": {},
          "output_type": "display_data"
        },
        {
          "name": "stdout",
          "output_type": "stream",
          "text": [
            "Best score: 0.8267463231270098\n",
            "Best parameters: \n",
            "{'rgs__alpha': 0, 'rgs__l1_ratio': 0.1}\n",
            "\n",
            "Score: 0.8289355093546181\n",
            "R^2: 0.829\n",
            "MAE: 0.348\n",
            "MAE(%): 4.46%\n",
            "RMSE 0.458\n",
            "Adjusted R^2 967.172\n",
            "\n",
            "\n",
            "Cassava: R^2=0.28, MAE=0.47, MAE%=13.66%\n",
            "Maize: R^2=0.59, MAE=0.37, MAE%=7.35%\n",
            "Plantains and others: R^2=0.41, MAE=0.39, MAE%=12.95%\n",
            "Potatoes: R^2=0.52, MAE=0.28, MAE%=7.55%\n",
            "Rice, paddy: R^2=0.50, MAE=0.25, MAE%=7.04%\n",
            "Sorghum: R^2=0.53, MAE=0.47, MAE%=9.65%\n",
            "Soybeans: R^2=0.33, MAE=0.32, MAE%=5.94%\n",
            "Sweet potatoes: R^2=0.46, MAE=0.33, MAE%=9.03%\n",
            "Wheat: R^2=0.43, MAE=0.36, MAE%=9.72%\n",
            "Yams: R^2=0.36, MAE=0.31, MAE%=12.73%\n"
          ]
        }
      ],
      "source": [
        "best_par_elastic, best_par_elastic_class, score_elastic = build_pipeline(params['elastic'], ElasticNet(), features_train, labels_train, features_test, labels_test)"
      ]
    },
    {
      "cell_type": "markdown",
      "metadata": {
        "id": "kWf7gsA5sQLO"
      },
      "source": [
        "X-Gradient Boost"
      ]
    },
    {
      "cell_type": "code",
      "execution_count": 22,
      "metadata": {
        "id": "NVkOYBossP0V"
      },
      "outputs": [
        {
          "name": "stdout",
          "output_type": "stream",
          "text": [
            "Fitting 15 folds for each of 192 candidates, totalling 2880 fits\n"
          ]
        },
        {
          "data": {
            "image/png": "[encoded data removed]",
            "text/plain": [
              "<Figure size 640x480 with 1 Axes>"
            ]
          },
          "metadata": {},
          "output_type": "display_data"
        },
        {
          "name": "stdout",
          "output_type": "stream",
          "text": [
            "Best score: 0.9708562677153753\n",
            "Best parameters: \n",
            "{'rgs__learning_rate': 0.2, 'rgs__max_depth': 12, 'rgs__min_child_weight': 1, 'rgs__n_estimators': 250}\n",
            "\n",
            "Score: 0.9756201272913286\n",
            "R^2: 0.976\n",
            "MAE: 0.093\n",
            "MAE(%): 1.19%\n",
            "RMSE 0.173\n",
            "Adjusted R^2 138.698\n",
            "\n",
            "\n",
            "Cassava: R^2=0.92, MAE=0.10, MAE%=2.82%\n",
            "Maize: R^2=0.93, MAE=0.12, MAE%=2.30%\n",
            "Plantains and others: R^2=0.92, MAE=0.10, MAE%=3.46%\n",
            "Potatoes: R^2=0.92, MAE=0.08, MAE%=2.28%\n",
            "Rice, paddy: R^2=0.92, MAE=0.08, MAE%=2.16%\n",
            "Sorghum: R^2=0.92, MAE=0.12, MAE%=2.53%\n",
            "Soybeans: R^2=0.91, MAE=0.08, MAE%=1.53%\n",
            "Sweet potatoes: R^2=0.93, MAE=0.09, MAE%=2.32%\n",
            "Wheat: R^2=0.94, MAE=0.09, MAE%=2.38%\n",
            "Yams: R^2=0.96, MAE=0.05, MAE%=2.12%\n"
          ]
        }
      ],
      "source": [
        "best_par_xgb, best_par_xgb_class, score_xgb = build_pipeline(params['xgb'], xgb.XGBRegressor(), features_train, labels_train, features_test, labels_test)"
      ]
    },
    {
      "cell_type": "markdown",
      "metadata": {
        "id": "xNzovO6tsXEt"
      },
      "source": [
        "SGDR Regressor"
      ]
    },
    {
      "cell_type": "code",
      "execution_count": 29,
      "metadata": {
        "id": "YL4WWCNHsdxg"
      },
      "outputs": [
        {
          "name": "stdout",
          "output_type": "stream",
          "text": [
            "Fitting 15 folds for each of 90 candidates, totalling 1350 fits\n"
          ]
        },
        {
          "data": {
            "image/png": "[encoded data removed]",
            "text/plain": [
              "<Figure size 640x480 with 1 Axes>"
            ]
          },
          "metadata": {},
          "output_type": "display_data"
        },
        {
          "name": "stdout",
          "output_type": "stream",
          "text": [
            "Best score: 0.8117970110054896\n",
            "Best parameters: \n",
            "{'rgs__alpha': 0.0, 'rgs__l1_ratio': 0.2}\n",
            "\n",
            "Score: 0.8173950402977945\n",
            "R^2: 0.817\n",
            "MAE: 0.359\n",
            "MAE(%): 4.60%\n",
            "RMSE 0.473\n",
            "Adjusted R^2 1032.353\n",
            "\n",
            "\n",
            "Cassava: R^2=0.24, MAE=0.48, MAE%=14.09%\n",
            "Maize: R^2=0.51, MAE=0.41, MAE%=8.11%\n",
            "Plantains and others: R^2=0.32, MAE=0.41, MAE%=13.63%\n",
            "Potatoes: R^2=0.50, MAE=0.28, MAE%=7.52%\n",
            "Rice, paddy: R^2=0.54, MAE=0.24, MAE%=6.80%\n",
            "Sorghum: R^2=0.50, MAE=0.49, MAE%=9.95%\n",
            "Soybeans: R^2=0.32, MAE=0.32, MAE%=5.92%\n",
            "Sweet potatoes: R^2=0.46, MAE=0.34, MAE%=9.23%\n",
            "Wheat: R^2=0.37, MAE=0.39, MAE%=10.43%\n",
            "Yams: R^2=0.43, MAE=0.29, MAE%=11.91%\n"
          ]
        }
      ],
      "source": [
        "best_par_sgdr, best_par_sgdr_class, score_sgdr = build_pipeline(params['sgdr'], SGDRegressor(), features_train, labels_train, features_test, labels_test)"
      ]
    },
    {
      "cell_type": "markdown",
      "metadata": {
        "id": "SMW8yPCese3C"
      },
      "source": [
        "LGBM Regressor"
      ]
    },
    {
      "cell_type": "code",
      "execution_count": 30,
      "metadata": {
        "id": "Djj3eWSJsXwJ"
      },
      "outputs": [
        {
          "name": "stdout",
          "output_type": "stream",
          "text": [
            "Fitting 15 folds for each of 81 candidates, totalling 1215 fits\n"
          ]
        },
        {
          "data": {
            "image/png": "[encoded data removed]",
            "text/plain": [
              "<Figure size 640x480 with 1 Axes>"
            ]
          },
          "metadata": {},
          "output_type": "display_data"
        },
        {
          "name": "stdout",
          "output_type": "stream",
          "text": [
            "Best score: 0.9644848943081156\n",
            "Best parameters: \n",
            "{'rgs__learning_rate': 0.2, 'rgs__max_depth': -1, 'rgs__min_child_weight': 0.001, 'rgs__n_estimators': 400}\n",
            "\n",
            "Score: 0.9691408570808274\n",
            "R^2: 0.969\n",
            "MAE: 0.122\n",
            "MAE(%): 1.57%\n",
            "RMSE 0.194\n",
            "Adjusted R^2 175.292\n",
            "\n",
            "\n",
            "Cassava: R^2=0.91, MAE=0.13, MAE%=3.64%\n",
            "Maize: R^2=0.91, MAE=0.15, MAE%=2.94%\n",
            "Plantains and others: R^2=0.85, MAE=0.16, MAE%=5.27%\n",
            "Potatoes: R^2=0.91, MAE=0.11, MAE%=2.84%\n",
            "Rice, paddy: R^2=0.90, MAE=0.10, MAE%=2.69%\n",
            "Sorghum: R^2=0.90, MAE=0.16, MAE%=3.24%\n",
            "Soybeans: R^2=0.88, MAE=0.12, MAE%=2.19%\n",
            "Sweet potatoes: R^2=0.90, MAE=0.12, MAE%=3.15%\n",
            "Wheat: R^2=0.92, MAE=0.12, MAE%=3.12%\n",
            "Yams: R^2=0.89, MAE=0.09, MAE%=3.49%\n"
          ]
        }
      ],
      "source": [
        "best_par_lgbmr, best_par_sgdr_class, score_lgbmr = build_pipeline(params['lgbmr'], LGBMRegressor(), features_train, labels_train, features_test, labels_test)"
      ]
    },
    {
      "cell_type": "markdown",
      "metadata": {
        "id": "mIZYVbSmTuhs"
      },
      "source": [
        "### 07. Comparison"
      ]
    },
    {
      "cell_type": "markdown",
      "metadata": {
        "id": "iczBQoJvTuht"
      },
      "source": [
        "#### Parameter Comparison"
      ]
    },
    {
      "cell_type": "code",
      "execution_count": 31,
      "metadata": {
        "id": "arwc1oJGTuht"
      },
      "outputs": [],
      "source": [
        "# Plot out different parameters\n",
        "compare = [best_par_svm, best_par_rf, best_par_ada, best_par_elastic, best_par_xgb, best_par_sgdr, best_par_lgbmr ]\n",
        "headers_comparison = ['SVM','RandomForest','AdaBoost', 'ElasticNet', 'XGradBoost', 'SGDR', 'LGBMR']"
      ]
    },
    {
      "cell_type": "code",
      "execution_count": 32,
      "metadata": {
        "id": "cgeJrYxITuhu"
      },
      "outputs": [
        {
          "data": {
            "text/html": [
              "<div>\n",
              "<style scoped>\n",
              "    .dataframe tbody tr th:only-of-type {\n",
              "        vertical-align: middle;\n",
              "    }\n",
              "\n",
              "    .dataframe tbody tr th {\n",
              "        vertical-align: top;\n",
              "    }\n",
              "\n",
              "    .dataframe thead th {\n",
              "        text-align: right;\n",
              "    }\n",
              "</style>\n",
              "<table border=\"1\" class=\"dataframe\">\n",
              "  <thead>\n",
              "    <tr style=\"text-align: right;\">\n",
              "      <th></th>\n",
              "      <th>r2</th>\n",
              "      <th>mae</th>\n",
              "      <th>rmse</th>\n",
              "      <th>adj_r2</th>\n",
              "      <th>mae%</th>\n",
              "    </tr>\n",
              "  </thead>\n",
              "  <tbody>\n",
              "    <tr>\n",
              "      <th>SVM</th>\n",
              "      <td>0.957054</td>\n",
              "      <td>0.145206</td>\n",
              "      <td>0.229398</td>\n",
              "      <td>243.557218</td>\n",
              "      <td>1.863663</td>\n",
              "    </tr>\n",
              "    <tr>\n",
              "      <th>RandomForest</th>\n",
              "      <td>0.965676</td>\n",
              "      <td>0.121869</td>\n",
              "      <td>0.205082</td>\n",
              "      <td>194.861127</td>\n",
              "      <td>1.564139</td>\n",
              "    </tr>\n",
              "    <tr>\n",
              "      <th>AdaBoost</th>\n",
              "      <td>0.606750</td>\n",
              "      <td>0.559179</td>\n",
              "      <td>0.694168</td>\n",
              "      <td>2222.078386</td>\n",
              "      <td>7.176852</td>\n",
              "    </tr>\n",
              "    <tr>\n",
              "      <th>ElasticNet</th>\n",
              "      <td>0.828936</td>\n",
              "      <td>0.347749</td>\n",
              "      <td>0.457836</td>\n",
              "      <td>967.172243</td>\n",
              "      <td>4.463218</td>\n",
              "    </tr>\n",
              "    <tr>\n",
              "      <th>XGradBoost</th>\n",
              "      <td>0.975926</td>\n",
              "      <td>0.096649</td>\n",
              "      <td>0.171753</td>\n",
              "      <td>136.969657</td>\n",
              "      <td>1.240449</td>\n",
              "    </tr>\n",
              "    <tr>\n",
              "      <th>SGDR</th>\n",
              "      <td>0.817395</td>\n",
              "      <td>0.358789</td>\n",
              "      <td>0.473027</td>\n",
              "      <td>1032.352812</td>\n",
              "      <td>4.604923</td>\n",
              "    </tr>\n",
              "    <tr>\n",
              "      <th>LGBMR</th>\n",
              "      <td>0.969141</td>\n",
              "      <td>0.121952</td>\n",
              "      <td>0.194456</td>\n",
              "      <td>175.292439</td>\n",
              "      <td>1.565207</td>\n",
              "    </tr>\n",
              "  </tbody>\n",
              "</table>\n",
              "</div>"
            ],
            "text/plain": [
              "                    r2       mae      rmse       adj_r2      mae%\n",
              "SVM           0.957054  0.145206  0.229398   243.557218  1.863663\n",
              "RandomForest  0.965676  0.121869  0.205082   194.861127  1.564139\n",
              "AdaBoost      0.606750  0.559179  0.694168  2222.078386  7.176852\n",
              "ElasticNet    0.828936  0.347749  0.457836   967.172243  4.463218\n",
              "XGradBoost    0.975926  0.096649  0.171753   136.969657  1.240449\n",
              "SGDR          0.817395  0.358789  0.473027  1032.352812  4.604923\n",
              "LGBMR         0.969141  0.121952  0.194456   175.292439  1.565207"
            ]
          },
          "execution_count": 32,
          "metadata": {},
          "output_type": "execute_result"
        }
      ],
      "source": [
        "compare_df = pd.DataFrame(compare)\n",
        "compare_df[\"results\"]=headers_comparison\n",
        "compare_df = compare_df.set_index('results', drop=True).rename_axis(None)\n",
        "compare_df"
      ]
    },
    {
      "attachments": {},
      "cell_type": "markdown",
      "metadata": {
        "id": "DiTrsub4hlmh"
      },
      "source": [
        "ANALYSIS: XGradBoost has great r2 and the lowest mae, so we'll be using that."
      ]
    },
    {
      "cell_type": "code",
      "execution_count": 33,
      "metadata": {
        "id": "Ms8mWQrVTuhv"
      },
      "outputs": [
        {
          "data": {
            "text/html": [
              "<div>\n",
              "<style scoped>\n",
              "    .dataframe tbody tr th:only-of-type {\n",
              "        vertical-align: middle;\n",
              "    }\n",
              "\n",
              "    .dataframe tbody tr th {\n",
              "        vertical-align: top;\n",
              "    }\n",
              "\n",
              "    .dataframe thead th {\n",
              "        text-align: right;\n",
              "    }\n",
              "</style>\n",
              "<table border=\"1\" class=\"dataframe\">\n",
              "  <thead>\n",
              "    <tr style=\"text-align: right;\">\n",
              "      <th></th>\n",
              "      <th>SVM</th>\n",
              "      <th>RandomForest</th>\n",
              "      <th>AdaBoost</th>\n",
              "      <th>ElasticNet</th>\n",
              "      <th>XGradBoost</th>\n",
              "      <th>SGDR</th>\n",
              "      <th>LGBMR</th>\n",
              "    </tr>\n",
              "  </thead>\n",
              "  <tbody>\n",
              "    <tr>\n",
              "      <th>r2</th>\n",
              "      <td>0.957054</td>\n",
              "      <td>0.965676</td>\n",
              "      <td>0.606750</td>\n",
              "      <td>0.828936</td>\n",
              "      <td>0.975926</td>\n",
              "      <td>0.817395</td>\n",
              "      <td>0.969141</td>\n",
              "    </tr>\n",
              "    <tr>\n",
              "      <th>mae</th>\n",
              "      <td>0.145206</td>\n",
              "      <td>0.121869</td>\n",
              "      <td>0.559179</td>\n",
              "      <td>0.347749</td>\n",
              "      <td>0.096649</td>\n",
              "      <td>0.358789</td>\n",
              "      <td>0.121952</td>\n",
              "    </tr>\n",
              "    <tr>\n",
              "      <th>rmse</th>\n",
              "      <td>0.229398</td>\n",
              "      <td>0.205082</td>\n",
              "      <td>0.694168</td>\n",
              "      <td>0.457836</td>\n",
              "      <td>0.171753</td>\n",
              "      <td>0.473027</td>\n",
              "      <td>0.194456</td>\n",
              "    </tr>\n",
              "    <tr>\n",
              "      <th>adj_r2</th>\n",
              "      <td>243.557218</td>\n",
              "      <td>194.861127</td>\n",
              "      <td>2222.078386</td>\n",
              "      <td>967.172243</td>\n",
              "      <td>136.969657</td>\n",
              "      <td>1032.352812</td>\n",
              "      <td>175.292439</td>\n",
              "    </tr>\n",
              "    <tr>\n",
              "      <th>mae%</th>\n",
              "      <td>1.863663</td>\n",
              "      <td>1.564139</td>\n",
              "      <td>7.176852</td>\n",
              "      <td>4.463218</td>\n",
              "      <td>1.240449</td>\n",
              "      <td>4.604923</td>\n",
              "      <td>1.565207</td>\n",
              "    </tr>\n",
              "  </tbody>\n",
              "</table>\n",
              "</div>"
            ],
            "text/plain": [
              "               SVM  RandomForest     AdaBoost  ElasticNet  XGradBoost  \\\n",
              "r2        0.957054      0.965676     0.606750    0.828936    0.975926   \n",
              "mae       0.145206      0.121869     0.559179    0.347749    0.096649   \n",
              "rmse      0.229398      0.205082     0.694168    0.457836    0.171753   \n",
              "adj_r2  243.557218    194.861127  2222.078386  967.172243  136.969657   \n",
              "mae%      1.863663      1.564139     7.176852    4.463218    1.240449   \n",
              "\n",
              "               SGDR       LGBMR  \n",
              "r2         0.817395    0.969141  \n",
              "mae        0.358789    0.121952  \n",
              "rmse       0.473027    0.194456  \n",
              "adj_r2  1032.352812  175.292439  \n",
              "mae%       4.604923    1.565207  "
            ]
          },
          "execution_count": 33,
          "metadata": {},
          "output_type": "execute_result"
        }
      ],
      "source": [
        "# compare_df = compare_df.drop(['SGDR'])\n",
        "compare_df = compare_df.T"
      ]
    },
    {
      "cell_type": "code",
      "execution_count": 34,
      "metadata": {},
      "outputs": [
        {
          "data": {
            "text/plain": [
              "<matplotlib.legend.Legend at 0x1e28231ed70>"
            ]
          },
          "execution_count": 34,
          "metadata": {},
          "output_type": "execute_result"
        },
        {
          "data": {
            "image/png": "[encoded data removed]",
            "text/plain": [
              "<Figure size 640x480 with 2 Axes>"
            ]
          },
          "metadata": {},
          "output_type": "display_data"
        }
      ],
      "source": [
        "import matplotlib.pyplot as plt\n",
        "\n",
        "#define subplot layout\n",
        "fig, axes = plt.subplots(nrows=1, ncols=2)\n",
        "\n",
        "#add DataFrames to subplots\n",
        "compare_df.loc[pd.CategoricalIndex(['r2'])].plot(kind='bar', ax=axes[0], legend=False)\n",
        "compare_df.loc[pd.CategoricalIndex(['mae%'])].plot(kind='bar', ax=axes[1]).legend(loc='center left',bbox_to_anchor=(1.0, 0.5))\n",
        "\n"
      ]
    },
    {
      "cell_type": "code",
      "execution_count": null,
      "metadata": {},
      "outputs": [
        {
          "data": {
            "text/plain": [
              "<matplotlib.legend.Legend at 0x1e28231ed70>"
            ]
          },
          "metadata": {},
          "output_type": "display_data"
        },
        {
          "data": {
            "image/png": "[encoded data removed]",
            "text/plain": [
              "<Figure size 640x480 with 2 Axes>"
            ]
          },
          "metadata": {},
          "output_type": "display_data"
        }
      ],
      "source": [
        "import matplotlib.pyplot as plt\n",
        "\n",
        "#define subplot layout\n",
        "fig, axes = plt.subplots(nrows=1, ncols=2)\n",
        "\n",
        "#add DataFrames to subplots\n",
        "compare_df.loc[pd.CategoricalIndex(['r2'])].plot(kind='bar', ax=axes[0], legend=False)\n",
        "compare_df.loc[pd.CategoricalIndex(['mae%'])].plot(kind='bar', ax=axes[1]).legend(loc='center left',bbox_to_anchor=(1.0, 0.5))\n",
        "\n"
      ]
    },
    {
      "cell_type": "markdown",
      "metadata": {
        "id": "37pSbCZ2Tuhv"
      },
      "source": [
        "#### Score Comparison"
      ]
    },
    {
      "cell_type": "code",
      "execution_count": 35,
      "metadata": {
        "id": "WobF-8nITuhw"
      },
      "outputs": [],
      "source": [
        "def get_scores(gs_results):\n",
        "    \"\"\"Return hs_results in dictionary\"\"\"\n",
        "    return {\n",
        "        'Best Score' : gs_results.best_score_,\n",
        "        'Best parameters': gs_results.best_params_,\n",
        "        'Means' : gs_results.cv_results_['mean_test_score'],\n",
        "        'Stds' : gs_results.cv_results_['std_test_score'],\n",
        "        'Params' : gs_results.cv_results_['params']\n",
        "        }"
      ]
    },
    {
      "cell_type": "code",
      "execution_count": 36,
      "metadata": {
        "id": "ShVhJYRkTuhw"
      },
      "outputs": [],
      "source": [
        "# Plot out different parameters\n",
        "score_objects = [score_svm, score_rf, score_ada, score_elastic, score_xgb, score_sgdr, score_lgbmr ]\n",
        "compare2 = [ get_scores(x) for x in score_objects  ]\n",
        "\n",
        "compare_df2 = pd.DataFrame(compare2)\n",
        "compare_df2[\"results\"]=headers_comparison\n",
        "compare_df2 = compare_df2.set_index('results', drop=True).rename_axis(None)"
      ]
    },
    {
      "cell_type": "code",
      "execution_count": 37,
      "metadata": {
        "id": "qy2B1Z_lTuhx"
      },
      "outputs": [
        {
          "data": {
            "text/html": [
              "<div>\n",
              "<style scoped>\n",
              "    .dataframe tbody tr th:only-of-type {\n",
              "        vertical-align: middle;\n",
              "    }\n",
              "\n",
              "    .dataframe tbody tr th {\n",
              "        vertical-align: top;\n",
              "    }\n",
              "\n",
              "    .dataframe thead th {\n",
              "        text-align: right;\n",
              "    }\n",
              "</style>\n",
              "<table border=\"1\" class=\"dataframe\">\n",
              "  <thead>\n",
              "    <tr style=\"text-align: right;\">\n",
              "      <th></th>\n",
              "      <th>Best Score</th>\n",
              "      <th>Best parameters</th>\n",
              "      <th>Means</th>\n",
              "      <th>Stds</th>\n",
              "      <th>Params</th>\n",
              "    </tr>\n",
              "  </thead>\n",
              "  <tbody>\n",
              "    <tr>\n",
              "      <th>SVM</th>\n",
              "      <td>0.951958</td>\n",
              "      <td>{'rgs__degree': 1, 'rgs__gamma': 5}</td>\n",
              "      <td>[0.9514287875043836, 0.9515307270055094, 0.951...</td>\n",
              "      <td>[0.0022444253560142003, 0.002335144010756293, ...</td>\n",
              "      <td>[{'rgs__degree': 1, 'rgs__gamma': 1}, {'rgs__d...</td>\n",
              "    </tr>\n",
              "    <tr>\n",
              "      <th>RandomForest</th>\n",
              "      <td>0.960656</td>\n",
              "      <td>{'rgs__max_depth': 20, 'rgs__min_samples_leaf'...</td>\n",
              "      <td>[0.6684508785835697, 0.6702708326680616, 0.670...</td>\n",
              "      <td>[0.010979093653624313, 0.010494198522532226, 0...</td>\n",
              "      <td>[{'rgs__max_depth': 5, 'rgs__min_samples_leaf'...</td>\n",
              "    </tr>\n",
              "    <tr>\n",
              "      <th>AdaBoost</th>\n",
              "      <td>0.609461</td>\n",
              "      <td>{'rgs__learning_rate': 0.1, 'rgs__n_estimators...</td>\n",
              "      <td>[0.5469174549120388, 0.5468175521422718, 0.547...</td>\n",
              "      <td>[0.010183499817106383, 0.011416743427857898, 0...</td>\n",
              "      <td>[{'rgs__learning_rate': 0.0001, 'rgs__n_estima...</td>\n",
              "    </tr>\n",
              "    <tr>\n",
              "      <th>ElasticNet</th>\n",
              "      <td>0.826746</td>\n",
              "      <td>{'rgs__alpha': 0, 'rgs__l1_ratio': 0.1}</td>\n",
              "      <td>[0.7666480340748348, 0.754529137534248, 0.7433...</td>\n",
              "      <td>[0.006228436536965788, 0.006704625187534993, 0...</td>\n",
              "      <td>[{'rgs__alpha': 0.01, 'rgs__l1_ratio': 0.1}, {...</td>\n",
              "    </tr>\n",
              "    <tr>\n",
              "      <th>XGradBoost</th>\n",
              "      <td>0.970490</td>\n",
              "      <td>{'rgs__learning_rate': 0.2, 'rgs__max_depth': ...</td>\n",
              "      <td>[0.8031400570263281, 0.8657124366696098, 0.884...</td>\n",
              "      <td>[0.00479795944138176, 0.0037471362254477576, 0...</td>\n",
              "      <td>[{'rgs__learning_rate': 0.05, 'rgs__max_depth'...</td>\n",
              "    </tr>\n",
              "    <tr>\n",
              "      <th>SGDR</th>\n",
              "      <td>0.811797</td>\n",
              "      <td>{'rgs__alpha': 0.0, 'rgs__l1_ratio': 0.2}</td>\n",
              "      <td>[0.8116147963257205, 0.8116515077617513, 0.811...</td>\n",
              "      <td>[0.004984658971228245, 0.005092764008741123, 0...</td>\n",
              "      <td>[{'rgs__alpha': 1e-05, 'rgs__l1_ratio': 0.0}, ...</td>\n",
              "    </tr>\n",
              "    <tr>\n",
              "      <th>LGBMR</th>\n",
              "      <td>0.964485</td>\n",
              "      <td>{'rgs__learning_rate': 0.2, 'rgs__max_depth': ...</td>\n",
              "      <td>[0.8700623058681017, 0.9131551451412375, 0.949...</td>\n",
              "      <td>[0.004573005350073521, 0.0032320477952243, 0.0...</td>\n",
              "      <td>[{'rgs__learning_rate': 0.05, 'rgs__max_depth'...</td>\n",
              "    </tr>\n",
              "  </tbody>\n",
              "</table>\n",
              "</div>"
            ],
            "text/plain": [
              "              Best Score                                    Best parameters  \\\n",
              "SVM             0.951958                {'rgs__degree': 1, 'rgs__gamma': 5}   \n",
              "RandomForest    0.960656  {'rgs__max_depth': 20, 'rgs__min_samples_leaf'...   \n",
              "AdaBoost        0.609461  {'rgs__learning_rate': 0.1, 'rgs__n_estimators...   \n",
              "ElasticNet      0.826746            {'rgs__alpha': 0, 'rgs__l1_ratio': 0.1}   \n",
              "XGradBoost      0.970490  {'rgs__learning_rate': 0.2, 'rgs__max_depth': ...   \n",
              "SGDR            0.811797          {'rgs__alpha': 0.0, 'rgs__l1_ratio': 0.2}   \n",
              "LGBMR           0.964485  {'rgs__learning_rate': 0.2, 'rgs__max_depth': ...   \n",
              "\n",
              "                                                          Means  \\\n",
              "SVM           [0.9514287875043836, 0.9515307270055094, 0.951...   \n",
              "RandomForest  [0.6684508785835697, 0.6702708326680616, 0.670...   \n",
              "AdaBoost      [0.5469174549120388, 0.5468175521422718, 0.547...   \n",
              "ElasticNet    [0.7666480340748348, 0.754529137534248, 0.7433...   \n",
              "XGradBoost    [0.8031400570263281, 0.8657124366696098, 0.884...   \n",
              "SGDR          [0.8116147963257205, 0.8116515077617513, 0.811...   \n",
              "LGBMR         [0.8700623058681017, 0.9131551451412375, 0.949...   \n",
              "\n",
              "                                                           Stds  \\\n",
              "SVM           [0.0022444253560142003, 0.002335144010756293, ...   \n",
              "RandomForest  [0.010979093653624313, 0.010494198522532226, 0...   \n",
              "AdaBoost      [0.010183499817106383, 0.011416743427857898, 0...   \n",
              "ElasticNet    [0.006228436536965788, 0.006704625187534993, 0...   \n",
              "XGradBoost    [0.00479795944138176, 0.0037471362254477576, 0...   \n",
              "SGDR          [0.004984658971228245, 0.005092764008741123, 0...   \n",
              "LGBMR         [0.004573005350073521, 0.0032320477952243, 0.0...   \n",
              "\n",
              "                                                         Params  \n",
              "SVM           [{'rgs__degree': 1, 'rgs__gamma': 1}, {'rgs__d...  \n",
              "RandomForest  [{'rgs__max_depth': 5, 'rgs__min_samples_leaf'...  \n",
              "AdaBoost      [{'rgs__learning_rate': 0.0001, 'rgs__n_estima...  \n",
              "ElasticNet    [{'rgs__alpha': 0.01, 'rgs__l1_ratio': 0.1}, {...  \n",
              "XGradBoost    [{'rgs__learning_rate': 0.05, 'rgs__max_depth'...  \n",
              "SGDR          [{'rgs__alpha': 1e-05, 'rgs__l1_ratio': 0.0}, ...  \n",
              "LGBMR         [{'rgs__learning_rate': 0.05, 'rgs__max_depth'...  "
            ]
          },
          "execution_count": 37,
          "metadata": {},
          "output_type": "execute_result"
        }
      ],
      "source": [
        "compare_df2"
      ]
    },
    {
      "cell_type": "code",
      "execution_count": 38,
      "metadata": {
        "id": "UpeoGjMvdNsf"
      },
      "outputs": [],
      "source": [
        "# compare_df2['Best Score'].T.iplot(kind='bar')"
      ]
    },
    {
      "cell_type": "code",
      "execution_count": 39,
      "metadata": {
        "id": "RyGKsxkmTuhy"
      },
      "outputs": [],
      "source": [
        "def plot_box(data):\n",
        "    plot = px.Figure()\n",
        "\n",
        "    for i,each in enumerate(data.to_list()):\n",
        "        plot.add_trace(px.Box(y=each, boxmean=True, name=headers_comparison[i]))\n",
        "\n",
        "    # plot.update_layout(template='plotly_dark', title=\"Algorthm Comparison\")\n",
        "    plot.show()"
      ]
    },
    {
      "cell_type": "code",
      "execution_count": 40,
      "metadata": {},
      "outputs": [
        {
          "data": {
            "application/vnd.plotly.v1+json": {
              "config": {
                "plotlyServerURL": "https://plot.ly"
              },
              "data": [
                {
                  "boxmean": true,
                  "name": "SVM",
                  "type": "box",
                  "y": [
                    0.0022444253560142003,
                    0.002335144010756293,
                    0.0023414964648473652
                  ]
                },
                {
                  "boxmean": true,
                  "name": "RandomForest",
                  "type": "box",
                  "y": [
                    0.010979093653624313,
                    0.010494198522532226,
                    0.011447741566739429,
                    0.009994714200512119,
                    0.011405382455706404,
                    0.010557327997337536,
                    0.012243485150475382,
                    0.010099258406315547,
                    0.009966503508053422,
                    0.01090581721790457,
                    0.010942662370771383,
                    0.010104953279755963,
                    0.01158679445317582,
                    0.008164890563432708,
                    0.010406736844961557,
                    0.010346282942926796,
                    0.01100335470374433,
                    0.010045518874297618,
                    0.005339005141388508,
                    0.004234302603689593,
                    0.004115045452168067,
                    0.005564510782128656,
                    0.0044418174325944505,
                    0.004495663123548256,
                    0.004424578432784461,
                    0.004795274074333065,
                    0.003837058303999452,
                    0.004106338605444079,
                    0.0041494132480163195,
                    0.004018556615458073,
                    0.004845585367362925,
                    0.004389645088903864,
                    0.004464565690794329,
                    0.005639213336055331,
                    0.00483037289613328,
                    0.003911497121742846,
                    0.0021803014641301253,
                    0.002153710887825959,
                    0.0021220805786087956,
                    0.0028866504048572494,
                    0.0022386880060183845,
                    0.001906826752682216,
                    0.0027317571974069697,
                    0.0019246266976851536,
                    0.002317495599018697,
                    0.002705108450467462,
                    0.002220634685378382,
                    0.002191084228313984,
                    0.002575868688094084,
                    0.002289952815837722,
                    0.002018963689842285,
                    0.002030297839496918,
                    0.0020465759822012727,
                    0.0021800044591001487
                  ]
                },
                {
                  "boxmean": true,
                  "name": "AdaBoost",
                  "type": "box",
                  "y": [
                    0.010183499817106383,
                    0.011416743427857898,
                    0.01117193204680595,
                    0.010676293290077821,
                    0.012094488045430563,
                    0.010671408970589128,
                    0.01177386410895162,
                    0.011201390432440653,
                    0.010993684519913673,
                    0.011569554848734932,
                    0.01099434146827503,
                    0.007794628561088488,
                    0.010905101471247158,
                    0.007942632565111985,
                    0.008544359352439655,
                    0.0150632919862038,
                    0.02082953931538539,
                    0.024251693983687553,
                    0.02192437240132327,
                    0.02521409817127476
                  ]
                },
                {
                  "boxmean": true,
                  "name": "ElasticNet",
                  "type": "box",
                  "y": [
                    0.006228436536965788,
                    0.006704625187534993,
                    0.007091216737712271,
                    0.0071817634718019385,
                    0.0073033727483257736,
                    0.00730596582868263,
                    0.007491743357078257,
                    0.006364305899676464,
                    0.006590100295097187,
                    0.006330122348721992,
                    0.006171093177704041,
                    0.00604196468709535,
                    0.006092175111224275,
                    0.005758826946934579,
                    0.0008491624879196106,
                    0.00040168022472801524,
                    0.00027050781820184787,
                    0.00027050781820184787,
                    0.00027050781820184787,
                    0.00027050781820184787,
                    0.00027050781820184787,
                    0.00030221857218364496,
                    0.00027050781820184787,
                    0.00027050781820184787,
                    0.00027050781820184787,
                    0.00027050781820184787,
                    0.00027050781820184787,
                    0.00027050781820184787,
                    0.004747689736625522,
                    0.004747689736625522,
                    0.004747689736625522,
                    0.004747689736625522,
                    0.004747689736625522,
                    0.004747689736625522,
                    0.004747689736625522,
                    0.00027050781820184787,
                    0.00027050781820184787,
                    0.00027050781820184787,
                    0.00027050781820184787,
                    0.00027050781820184787,
                    0.00027050781820184787,
                    0.00027050781820184787
                  ]
                },
                {
                  "boxmean": true,
                  "name": "XGradBoost",
                  "type": "box",
                  "y": [
                    0.00479795944138176,
                    0.0037471362254477576,
                    0.0029913976269047853,
                    0.005433604111075599,
                    0.0040913831286443865,
                    0.003548691929366784,
                    0.005630523330819913,
                    0.004993522811672438,
                    0.004861961431946943,
                    0.0029514175271402555,
                    0.002310420334420865,
                    0.002022618824421421,
                    0.003011235318175853,
                    0.002361526251012235,
                    0.0022503752450284435,
                    0.0044439350180640975,
                    0.00411891967800255,
                    0.0040466928964822705,
                    0.0019957876656239155,
                    0.0018072075659530994,
                    0.0017470963236804274,
                    0.001777251076978805,
                    0.0015169483707538167,
                    0.0015335108851204343,
                    0.004725823759693475,
                    0.004513585422975729,
                    0.003835987682411755,
                    0.003621680058822353,
                    0.0027349633286798017,
                    0.0027557164069225916,
                    0.003706470525879469,
                    0.0030059297215982612,
                    0.002473179208312402,
                    0.005677565706395055,
                    0.005336695386571955,
                    0.005004322669025441,
                    0.002609854227478685,
                    0.0014882752103098297,
                    0.0016049136057072616,
                    0.0028375843300575253,
                    0.0019169818907234341,
                    0.0014133892336835531,
                    0.0046909064537682425,
                    0.004236307843618182,
                    0.002996048131575545,
                    0.002215555290683543,
                    0.0016835215174136277,
                    0.0016501364867106908,
                    0.001724707399765944,
                    0.0015291624197996,
                    0.001443098545325988,
                    0.003933795366255422,
                    0.003266799479752143,
                    0.0027523384398079878,
                    0.002933387141519803,
                    0.002374053868630395,
                    0.002099043383458886,
                    0.0030432965255542737,
                    0.0023125206515113017,
                    0.002120822649028844,
                    0.005237294097969993,
                    0.004852278211641895,
                    0.0040712440685451365,
                    0.0018380588089790706,
                    0.0015385606889591014,
                    0.001500670705998819,
                    0.002250730238474661,
                    0.0015247428930062952,
                    0.0014899814840252813,
                    0.004011422155760408,
                    0.0029305448556774557,
                    0.0025316767068673356,
                    0.0016104544334633174,
                    0.001820309756829308,
                    0.002037542664169748,
                    0.0016239215130077194,
                    0.0013592324479681232,
                    0.0014666097567026957,
                    0.0031597163706365344,
                    0.0024216197014225206,
                    0.0022539295647663457
                  ]
                },
                {
                  "boxmean": true,
                  "name": "SGDR",
                  "type": "box",
                  "y": [
                    0.004984658971228245,
                    0.005092764008741123,
                    0.004972400339220392,
                    0.0051316305896177234,
                    0.005090777762299217,
                    0.004984305554671879,
                    0.005075031548131227,
                    0.005146731449640559,
                    0.005025934625795091,
                    0.005006655239170254,
                    0.00497445319864241,
                    0.004993805913333837,
                    0.005023070508612115,
                    0.005061556156977763,
                    0.005307517909140086,
                    0.005098009310037038,
                    0.005116122166300099,
                    0.005173237493819079,
                    0.005156708243372761,
                    0.0050126323562415115,
                    0.005130724758048606,
                    0.005206437558622381,
                    0.005147788830196543,
                    0.005182875335110723,
                    0.0051993400410591155,
                    0.005230071793587271,
                    0.00507033233698766,
                    0.005203290491256575,
                    0.005144763909402874,
                    0.005166884269647019,
                    0.005760916311781593,
                    0.005967606868611715,
                    0.005797443978087753,
                    0.0058601437909703005,
                    0.005922051947969068,
                    0.005926922755147215,
                    0.0060113080223509596,
                    0.005897723017343677,
                    0.0059388987982278586,
                    0.005991453831928758,
                    0.005543640259954867,
                    0.005248699354667308,
                    0.0059362759021480424,
                    0.005697775389866746,
                    0.005960055138875693,
                    0.005695083958298569,
                    0.0053361654536718435,
                    0.006233044040653881,
                    0.006055325362480686,
                    0.0055489977792259945,
                    0.005152221463104149,
                    0.004938358645017885,
                    0.0051883019934581285,
                    0.004915150336898552,
                    0.005205009893106111,
                    0.005062772907932792,
                    0.004883864450459586,
                    0.005073208021768451,
                    0.0049118057717283435,
                    0.0050566913069273155,
                    0.002699667375210656,
                    0.002304356498226469,
                    0.002358459081866068,
                    0.002101235537191307,
                    0.0028788377231291754,
                    0.0022890960610666435,
                    0.0025475495768621445,
                    0.0026294131205348184,
                    0.0032890702260590294,
                    0.002317114561434866,
                    0.0007976195697130811,
                    0.0015661100858403963,
                    0.0010366934245116968,
                    0.0013994457354581287,
                    0.0009970769938897717,
                    0.0009144906986505247,
                    0.0011223727730285448,
                    0.0007503612253154043,
                    0.0011067307368088802,
                    0.0009235699783837906,
                    0.0005124744415451622,
                    0.000648792029136401,
                    0.0006561289147275419,
                    0.0006332966620835696,
                    0.000515511024227406,
                    0.0006612107868465442,
                    0.0004543524605175461,
                    0.00031485746281920954,
                    0.0004666790042050224,
                    0.0006229645266821136
                  ]
                },
                {
                  "boxmean": true,
                  "name": "LGBMR",
                  "type": "box",
                  "y": [
                    0.004573005350073521,
                    0.0032320477952243,
                    0.0017656359392885814,
                    0.004573005350073521,
                    0.0032320477952243,
                    0.0017656359392885814,
                    0.004573005350073521,
                    0.0032320477952243,
                    0.0017656359392885814,
                    0.004573005350073521,
                    0.0032320477952243,
                    0.0017656359392885814,
                    0.004573005350073521,
                    0.0032320477952243,
                    0.0017656359392885814,
                    0.004573005350073521,
                    0.0032320477952243,
                    0.0017656359392885814,
                    0.006881044795626263,
                    0.00724183010717288,
                    0.005430884284180919,
                    0.006881044795626263,
                    0.00724183010717288,
                    0.005430884284180919,
                    0.006881044795626263,
                    0.00724183010717288,
                    0.005430884284180919,
                    0.0032984923665685803,
                    0.002746744323235732,
                    0.0016912544241012937,
                    0.0032984923665685803,
                    0.002746744323235732,
                    0.0016912544241012937,
                    0.0032984923665685803,
                    0.002746744323235732,
                    0.0016912544241012937,
                    0.0032984923665685803,
                    0.002746744323235732,
                    0.0016912544241012937,
                    0.0032984923665685803,
                    0.002746744323235732,
                    0.0016912544241012937,
                    0.0032984923665685803,
                    0.002746744323235732,
                    0.0016912544241012937,
                    0.007335794733876668,
                    0.006274480401860454,
                    0.005337181739281578,
                    0.007335794733876668,
                    0.006274480401860454,
                    0.005337181739281578,
                    0.007335794733876668,
                    0.006274480401860454,
                    0.005337181739281578,
                    0.0026366139743802287,
                    0.0019283429465618486,
                    0.0015926708413919696,
                    0.0026366139743802287,
                    0.0019283429465618486,
                    0.0015926708413919696,
                    0.0026366139743802287,
                    0.0019283429465618486,
                    0.0015926708413919696,
                    0.0026366139743802287,
                    0.0019283429465618486,
                    0.0015926708413919696,
                    0.0026366139743802287,
                    0.0019283429465618486,
                    0.0015926708413919696,
                    0.0026366139743802287,
                    0.0019283429465618486,
                    0.0015926708413919696,
                    0.006157429195506726,
                    0.005416287374398672,
                    0.005190132703946769,
                    0.006157429195506726,
                    0.005416287374398672,
                    0.005190132703946769,
                    0.006157429195506726,
                    0.005416287374398672,
                    0.005190132703946769
                  ]
                }
              ],
              "layout": {
                "template": {
                  "data": {
                    "bar": [
                      {
                        "error_x": {
                          "color": "#2a3f5f"
                        },
                        "error_y": {
                          "color": "#2a3f5f"
                        },
                        "marker": {
                          "line": {
                            "color": "#E5ECF6",
                            "width": 0.5
                          },
                          "pattern": {
                            "fillmode": "overlay",
                            "size": 10,
                            "solidity": 0.2
                          }
                        },
                        "type": "bar"
                      }
                    ],
                    "barpolar": [
                      {
                        "marker": {
                          "line": {
                            "color": "#E5ECF6",
                            "width": 0.5
                          },
                          "pattern": {
                            "fillmode": "overlay",
                            "size": 10,
                            "solidity": 0.2
                          }
                        },
                        "type": "barpolar"
                      }
                    ],
                    "carpet": [
                      {
                        "aaxis": {
                          "endlinecolor": "#2a3f5f",
                          "gridcolor": "white",
                          "linecolor": "white",
                          "minorgridcolor": "white",
                          "startlinecolor": "#2a3f5f"
                        },
                        "baxis": {
                          "endlinecolor": "#2a3f5f",
                          "gridcolor": "white",
                          "linecolor": "white",
                          "minorgridcolor": "white",
                          "startlinecolor": "#2a3f5f"
                        },
                        "type": "carpet"
                      }
                    ],
                    "choropleth": [
                      {
                        "colorbar": {
                          "outlinewidth": 0,
                          "ticks": ""
                        },
                        "type": "choropleth"
                      }
                    ],
                    "contour": [
                      {
                        "colorbar": {
                          "outlinewidth": 0,
                          "ticks": ""
                        },
                        "colorscale": [
                          [
                            0,
                            "#0d0887"
                          ],
                          [
                            0.1111111111111111,
                            "#46039f"
                          ],
                          [
                            0.2222222222222222,
                            "#7201a8"
                          ],
                          [
                            0.3333333333333333,
                            "#9c179e"
                          ],
                          [
                            0.4444444444444444,
                            "#bd3786"
                          ],
                          [
                            0.5555555555555556,
                            "#d8576b"
                          ],
                          [
                            0.6666666666666666,
                            "#ed7953"
                          ],
                          [
                            0.7777777777777778,
                            "#fb9f3a"
                          ],
                          [
                            0.8888888888888888,
                            "#fdca26"
                          ],
                          [
                            1,
                            "#f0f921"
                          ]
                        ],
                        "type": "contour"
                      }
                    ],
                    "contourcarpet": [
                      {
                        "colorbar": {
                          "outlinewidth": 0,
                          "ticks": ""
                        },
                        "type": "contourcarpet"
                      }
                    ],
                    "heatmap": [
                      {
                        "colorbar": {
                          "outlinewidth": 0,
                          "ticks": ""
                        },
                        "colorscale": [
                          [
                            0,
                            "#0d0887"
                          ],
                          [
                            0.1111111111111111,
                            "#46039f"
                          ],
                          [
                            0.2222222222222222,
                            "#7201a8"
                          ],
                          [
                            0.3333333333333333,
                            "#9c179e"
                          ],
                          [
                            0.4444444444444444,
                            "#bd3786"
                          ],
                          [
                            0.5555555555555556,
                            "#d8576b"
                          ],
                          [
                            0.6666666666666666,
                            "#ed7953"
                          ],
                          [
                            0.7777777777777778,
                            "#fb9f3a"
                          ],
                          [
                            0.8888888888888888,
                            "#fdca26"
                          ],
                          [
                            1,
                            "#f0f921"
                          ]
                        ],
                        "type": "heatmap"
                      }
                    ],
                    "heatmapgl": [
                      {
                        "colorbar": {
                          "outlinewidth": 0,
                          "ticks": ""
                        },
                        "colorscale": [
                          [
                            0,
                            "#0d0887"
                          ],
                          [
                            0.1111111111111111,
                            "#46039f"
                          ],
                          [
                            0.2222222222222222,
                            "#7201a8"
                          ],
                          [
                            0.3333333333333333,
                            "#9c179e"
                          ],
                          [
                            0.4444444444444444,
                            "#bd3786"
                          ],
                          [
                            0.5555555555555556,
                            "#d8576b"
                          ],
                          [
                            0.6666666666666666,
                            "#ed7953"
                          ],
                          [
                            0.7777777777777778,
                            "#fb9f3a"
                          ],
                          [
                            0.8888888888888888,
                            "#fdca26"
                          ],
                          [
                            1,
                            "#f0f921"
                          ]
                        ],
                        "type": "heatmapgl"
                      }
                    ],
                    "histogram": [
                      {
                        "marker": {
                          "pattern": {
                            "fillmode": "overlay",
                            "size": 10,
                            "solidity": 0.2
                          }
                        },
                        "type": "histogram"
                      }
                    ],
                    "histogram2d": [
                      {
                        "colorbar": {
                          "outlinewidth": 0,
                          "ticks": ""
                        },
                        "colorscale": [
                          [
                            0,
                            "#0d0887"
                          ],
                          [
                            0.1111111111111111,
                            "#46039f"
                          ],
                          [
                            0.2222222222222222,
                            "#7201a8"
                          ],
                          [
                            0.3333333333333333,
                            "#9c179e"
                          ],
                          [
                            0.4444444444444444,
                            "#bd3786"
                          ],
                          [
                            0.5555555555555556,
                            "#d8576b"
                          ],
                          [
                            0.6666666666666666,
                            "#ed7953"
                          ],
                          [
                            0.7777777777777778,
                            "#fb9f3a"
                          ],
                          [
                            0.8888888888888888,
                            "#fdca26"
                          ],
                          [
                            1,
                            "#f0f921"
                          ]
                        ],
                        "type": "histogram2d"
                      }
                    ],
                    "histogram2dcontour": [
                      {
                        "colorbar": {
                          "outlinewidth": 0,
                          "ticks": ""
                        },
                        "colorscale": [
                          [
                            0,
                            "#0d0887"
                          ],
                          [
                            0.1111111111111111,
                            "#46039f"
                          ],
                          [
                            0.2222222222222222,
                            "#7201a8"
                          ],
                          [
                            0.3333333333333333,
                            "#9c179e"
                          ],
                          [
                            0.4444444444444444,
                            "#bd3786"
                          ],
                          [
                            0.5555555555555556,
                            "#d8576b"
                          ],
                          [
                            0.6666666666666666,
                            "#ed7953"
                          ],
                          [
                            0.7777777777777778,
                            "#fb9f3a"
                          ],
                          [
                            0.8888888888888888,
                            "#fdca26"
                          ],
                          [
                            1,
                            "#f0f921"
                          ]
                        ],
                        "type": "histogram2dcontour"
                      }
                    ],
                    "mesh3d": [
                      {
                        "colorbar": {
                          "outlinewidth": 0,
                          "ticks": ""
                        },
                        "type": "mesh3d"
                      }
                    ],
                    "parcoords": [
                      {
                        "line": {
                          "colorbar": {
                            "outlinewidth": 0,
                            "ticks": ""
                          }
                        },
                        "type": "parcoords"
                      }
                    ],
                    "pie": [
                      {
                        "automargin": true,
                        "type": "pie"
                      }
                    ],
                    "scatter": [
                      {
                        "fillpattern": {
                          "fillmode": "overlay",
                          "size": 10,
                          "solidity": 0.2
                        },
                        "type": "scatter"
                      }
                    ],
                    "scatter3d": [
                      {
                        "line": {
                          "colorbar": {
                            "outlinewidth": 0,
                            "ticks": ""
                          }
                        },
                        "marker": {
                          "colorbar": {
                            "outlinewidth": 0,
                            "ticks": ""
                          }
                        },
                        "type": "scatter3d"
                      }
                    ],
                    "scattercarpet": [
                      {
                        "marker": {
                          "colorbar": {
                            "outlinewidth": 0,
                            "ticks": ""
                          }
                        },
                        "type": "scattercarpet"
                      }
                    ],
                    "scattergeo": [
                      {
                        "marker": {
                          "colorbar": {
                            "outlinewidth": 0,
                            "ticks": ""
                          }
                        },
                        "type": "scattergeo"
                      }
                    ],
                    "scattergl": [
                      {
                        "marker": {
                          "colorbar": {
                            "outlinewidth": 0,
                            "ticks": ""
                          }
                        },
                        "type": "scattergl"
                      }
                    ],
                    "scattermapbox": [
                      {
                        "marker": {
                          "colorbar": {
                            "outlinewidth": 0,
                            "ticks": ""
                          }
                        },
                        "type": "scattermapbox"
                      }
                    ],
                    "scatterpolar": [
                      {
                        "marker": {
                          "colorbar": {
                            "outlinewidth": 0,
                            "ticks": ""
                          }
                        },
                        "type": "scatterpolar"
                      }
                    ],
                    "scatterpolargl": [
                      {
                        "marker": {
                          "colorbar": {
                            "outlinewidth": 0,
                            "ticks": ""
                          }
                        },
                        "type": "scatterpolargl"
                      }
                    ],
                    "scatterternary": [
                      {
                        "marker": {
                          "colorbar": {
                            "outlinewidth": 0,
                            "ticks": ""
                          }
                        },
                        "type": "scatterternary"
                      }
                    ],
                    "surface": [
                      {
                        "colorbar": {
                          "outlinewidth": 0,
                          "ticks": ""
                        },
                        "colorscale": [
                          [
                            0,
                            "#0d0887"
                          ],
                          [
                            0.1111111111111111,
                            "#46039f"
                          ],
                          [
                            0.2222222222222222,
                            "#7201a8"
                          ],
                          [
                            0.3333333333333333,
                            "#9c179e"
                          ],
                          [
                            0.4444444444444444,
                            "#bd3786"
                          ],
                          [
                            0.5555555555555556,
                            "#d8576b"
                          ],
                          [
                            0.6666666666666666,
                            "#ed7953"
                          ],
                          [
                            0.7777777777777778,
                            "#fb9f3a"
                          ],
                          [
                            0.8888888888888888,
                            "#fdca26"
                          ],
                          [
                            1,
                            "#f0f921"
                          ]
                        ],
                        "type": "surface"
                      }
                    ],
                    "table": [
                      {
                        "cells": {
                          "fill": {
                            "color": "#EBF0F8"
                          },
                          "line": {
                            "color": "white"
                          }
                        },
                        "header": {
                          "fill": {
                            "color": "#C8D4E3"
                          },
                          "line": {
                            "color": "white"
                          }
                        },
                        "type": "table"
                      }
                    ]
                  },
                  "layout": {
                    "annotationdefaults": {
                      "arrowcolor": "#2a3f5f",
                      "arrowhead": 0,
                      "arrowwidth": 1
                    },
                    "autotypenumbers": "strict",
                    "coloraxis": {
                      "colorbar": {
                        "outlinewidth": 0,
                        "ticks": ""
                      }
                    },
                    "colorscale": {
                      "diverging": [
                        [
                          0,
                          "#8e0152"
                        ],
                        [
                          0.1,
                          "#c51b7d"
                        ],
                        [
                          0.2,
                          "#de77ae"
                        ],
                        [
                          0.3,
                          "#f1b6da"
                        ],
                        [
                          0.4,
                          "#fde0ef"
                        ],
                        [
                          0.5,
                          "#f7f7f7"
                        ],
                        [
                          0.6,
                          "#e6f5d0"
                        ],
                        [
                          0.7,
                          "#b8e186"
                        ],
                        [
                          0.8,
                          "#7fbc41"
                        ],
                        [
                          0.9,
                          "#4d9221"
                        ],
                        [
                          1,
                          "#276419"
                        ]
                      ],
                      "sequential": [
                        [
                          0,
                          "#0d0887"
                        ],
                        [
                          0.1111111111111111,
                          "#46039f"
                        ],
                        [
                          0.2222222222222222,
                          "#7201a8"
                        ],
                        [
                          0.3333333333333333,
                          "#9c179e"
                        ],
                        [
                          0.4444444444444444,
                          "#bd3786"
                        ],
                        [
                          0.5555555555555556,
                          "#d8576b"
                        ],
                        [
                          0.6666666666666666,
                          "#ed7953"
                        ],
                        [
                          0.7777777777777778,
                          "#fb9f3a"
                        ],
                        [
                          0.8888888888888888,
                          "#fdca26"
                        ],
                        [
                          1,
                          "#f0f921"
                        ]
                      ],
                      "sequentialminus": [
                        [
                          0,
                          "#0d0887"
                        ],
                        [
                          0.1111111111111111,
                          "#46039f"
                        ],
                        [
                          0.2222222222222222,
                          "#7201a8"
                        ],
                        [
                          0.3333333333333333,
                          "#9c179e"
                        ],
                        [
                          0.4444444444444444,
                          "#bd3786"
                        ],
                        [
                          0.5555555555555556,
                          "#d8576b"
                        ],
                        [
                          0.6666666666666666,
                          "#ed7953"
                        ],
                        [
                          0.7777777777777778,
                          "#fb9f3a"
                        ],
                        [
                          0.8888888888888888,
                          "#fdca26"
                        ],
                        [
                          1,
                          "#f0f921"
                        ]
                      ]
                    },
                    "colorway": [
                      "#636efa",
                      "#EF553B",
                      "#00cc96",
                      "#ab63fa",
                      "#FFA15A",
                      "#19d3f3",
                      "#FF6692",
                      "#B6E880",
                      "#FF97FF",
                      "#FECB52"
                    ],
                    "font": {
                      "color": "#2a3f5f"
                    },
                    "geo": {
                      "bgcolor": "white",
                      "lakecolor": "white",
                      "landcolor": "#E5ECF6",
                      "showlakes": true,
                      "showland": true,
                      "subunitcolor": "white"
                    },
                    "hoverlabel": {
                      "align": "left"
                    },
                    "hovermode": "closest",
                    "mapbox": {
                      "style": "light"
                    },
                    "paper_bgcolor": "white",
                    "plot_bgcolor": "#E5ECF6",
                    "polar": {
                      "angularaxis": {
                        "gridcolor": "white",
                        "linecolor": "white",
                        "ticks": ""
                      },
                      "bgcolor": "#E5ECF6",
                      "radialaxis": {
                        "gridcolor": "white",
                        "linecolor": "white",
                        "ticks": ""
                      }
                    },
                    "scene": {
                      "xaxis": {
                        "backgroundcolor": "#E5ECF6",
                        "gridcolor": "white",
                        "gridwidth": 2,
                        "linecolor": "white",
                        "showbackground": true,
                        "ticks": "",
                        "zerolinecolor": "white"
                      },
                      "yaxis": {
                        "backgroundcolor": "#E5ECF6",
                        "gridcolor": "white",
                        "gridwidth": 2,
                        "linecolor": "white",
                        "showbackground": true,
                        "ticks": "",
                        "zerolinecolor": "white"
                      },
                      "zaxis": {
                        "backgroundcolor": "#E5ECF6",
                        "gridcolor": "white",
                        "gridwidth": 2,
                        "linecolor": "white",
                        "showbackground": true,
                        "ticks": "",
                        "zerolinecolor": "white"
                      }
                    },
                    "shapedefaults": {
                      "line": {
                        "color": "#2a3f5f"
                      }
                    },
                    "ternary": {
                      "aaxis": {
                        "gridcolor": "white",
                        "linecolor": "white",
                        "ticks": ""
                      },
                      "baxis": {
                        "gridcolor": "white",
                        "linecolor": "white",
                        "ticks": ""
                      },
                      "bgcolor": "#E5ECF6",
                      "caxis": {
                        "gridcolor": "white",
                        "linecolor": "white",
                        "ticks": ""
                      }
                    },
                    "title": {
                      "x": 0.05
                    },
                    "xaxis": {
                      "automargin": true,
                      "gridcolor": "white",
                      "linecolor": "white",
                      "ticks": "",
                      "title": {
                        "standoff": 15
                      },
                      "zerolinecolor": "white",
                      "zerolinewidth": 2
                    },
                    "yaxis": {
                      "automargin": true,
                      "gridcolor": "white",
                      "linecolor": "white",
                      "ticks": "",
                      "title": {
                        "standoff": 15
                      },
                      "zerolinecolor": "white",
                      "zerolinewidth": 2
                    }
                  }
                }
              }
            },
            "text/html": [
              "<div>                            <div id=\"a51028fe-fce0-4b1d-90f0-ef1f2c351bd9\" class=\"plotly-graph-div\" style=\"height:525px; width:100%;\"></div>            <script type=\"text/javascript\">                require([\"plotly\"], function(Plotly) {                    window.PLOTLYENV=window.PLOTLYENV || {};                                    if (document.getElementById(\"a51028fe-fce0-4b1d-90f0-ef1f2c351bd9\")) {                    Plotly.newPlot(                        \"a51028fe-fce0-4b1d-90f0-ef1f2c351bd9\",                        [{\"boxmean\":true,\"name\":\"SVM\",\"y\":[0.0022444253560142003,0.002335144010756293,0.0023414964648473652],\"type\":\"box\"},{\"boxmean\":true,\"name\":\"RandomForest\",\"y\":[0.010979093653624313,0.010494198522532226,0.011447741566739429,0.009994714200512119,0.011405382455706404,0.010557327997337536,0.012243485150475382,0.010099258406315547,0.009966503508053422,0.01090581721790457,0.010942662370771383,0.010104953279755963,0.01158679445317582,0.008164890563432708,0.010406736844961557,0.010346282942926796,0.01100335470374433,0.010045518874297618,0.005339005141388508,0.004234302603689593,0.004115045452168067,0.005564510782128656,0.0044418174325944505,0.004495663123548256,0.004424578432784461,0.004795274074333065,0.003837058303999452,0.004106338605444079,0.0041494132480163195,0.004018556615458073,0.004845585367362925,0.004389645088903864,0.004464565690794329,0.005639213336055331,0.00483037289613328,0.003911497121742846,0.0021803014641301253,0.002153710887825959,0.0021220805786087956,0.0028866504048572494,0.0022386880060183845,0.001906826752682216,0.0027317571974069697,0.0019246266976851536,0.002317495599018697,0.002705108450467462,0.002220634685378382,0.002191084228313984,0.002575868688094084,0.002289952815837722,0.002018963689842285,0.002030297839496918,0.0020465759822012727,0.0021800044591001487],\"type\":\"box\"},{\"boxmean\":true,\"name\":\"AdaBoost\",\"y\":[0.010183499817106383,0.011416743427857898,0.01117193204680595,0.010676293290077821,0.012094488045430563,0.010671408970589128,0.01177386410895162,0.011201390432440653,0.010993684519913673,0.011569554848734932,0.01099434146827503,0.007794628561088488,0.010905101471247158,0.007942632565111985,0.008544359352439655,0.0150632919862038,0.02082953931538539,0.024251693983687553,0.02192437240132327,0.02521409817127476],\"type\":\"box\"},{\"boxmean\":true,\"name\":\"ElasticNet\",\"y\":[0.006228436536965788,0.006704625187534993,0.007091216737712271,0.0071817634718019385,0.0073033727483257736,0.00730596582868263,0.007491743357078257,0.006364305899676464,0.006590100295097187,0.006330122348721992,0.006171093177704041,0.00604196468709535,0.006092175111224275,0.005758826946934579,0.0008491624879196106,0.00040168022472801524,0.00027050781820184787,0.00027050781820184787,0.00027050781820184787,0.00027050781820184787,0.00027050781820184787,0.00030221857218364496,0.00027050781820184787,0.00027050781820184787,0.00027050781820184787,0.00027050781820184787,0.00027050781820184787,0.00027050781820184787,0.004747689736625522,0.004747689736625522,0.004747689736625522,0.004747689736625522,0.004747689736625522,0.004747689736625522,0.004747689736625522,0.00027050781820184787,0.00027050781820184787,0.00027050781820184787,0.00027050781820184787,0.00027050781820184787,0.00027050781820184787,0.00027050781820184787],\"type\":\"box\"},{\"boxmean\":true,\"name\":\"XGradBoost\",\"y\":[0.00479795944138176,0.0037471362254477576,0.0029913976269047853,0.005433604111075599,0.0040913831286443865,0.003548691929366784,0.005630523330819913,0.004993522811672438,0.004861961431946943,0.0029514175271402555,0.002310420334420865,0.002022618824421421,0.003011235318175853,0.002361526251012235,0.0022503752450284435,0.0044439350180640975,0.00411891967800255,0.0040466928964822705,0.0019957876656239155,0.0018072075659530994,0.0017470963236804274,0.001777251076978805,0.0015169483707538167,0.0015335108851204343,0.004725823759693475,0.004513585422975729,0.003835987682411755,0.003621680058822353,0.0027349633286798017,0.0027557164069225916,0.003706470525879469,0.0030059297215982612,0.002473179208312402,0.005677565706395055,0.005336695386571955,0.005004322669025441,0.002609854227478685,0.0014882752103098297,0.0016049136057072616,0.0028375843300575253,0.0019169818907234341,0.0014133892336835531,0.0046909064537682425,0.004236307843618182,0.002996048131575545,0.002215555290683543,0.0016835215174136277,0.0016501364867106908,0.001724707399765944,0.0015291624197996,0.001443098545325988,0.003933795366255422,0.003266799479752143,0.0027523384398079878,0.002933387141519803,0.002374053868630395,0.002099043383458886,0.0030432965255542737,0.0023125206515113017,0.002120822649028844,0.005237294097969993,0.004852278211641895,0.0040712440685451365,0.0018380588089790706,0.0015385606889591014,0.001500670705998819,0.002250730238474661,0.0015247428930062952,0.0014899814840252813,0.004011422155760408,0.0029305448556774557,0.0025316767068673356,0.0016104544334633174,0.001820309756829308,0.002037542664169748,0.0016239215130077194,0.0013592324479681232,0.0014666097567026957,0.0031597163706365344,0.0024216197014225206,0.0022539295647663457],\"type\":\"box\"},{\"boxmean\":true,\"name\":\"SGDR\",\"y\":[0.004984658971228245,0.005092764008741123,0.004972400339220392,0.0051316305896177234,0.005090777762299217,0.004984305554671879,0.005075031548131227,0.005146731449640559,0.005025934625795091,0.005006655239170254,0.00497445319864241,0.004993805913333837,0.005023070508612115,0.005061556156977763,0.005307517909140086,0.005098009310037038,0.005116122166300099,0.005173237493819079,0.005156708243372761,0.0050126323562415115,0.005130724758048606,0.005206437558622381,0.005147788830196543,0.005182875335110723,0.0051993400410591155,0.005230071793587271,0.00507033233698766,0.005203290491256575,0.005144763909402874,0.005166884269647019,0.005760916311781593,0.005967606868611715,0.005797443978087753,0.0058601437909703005,0.005922051947969068,0.005926922755147215,0.0060113080223509596,0.005897723017343677,0.0059388987982278586,0.005991453831928758,0.005543640259954867,0.005248699354667308,0.0059362759021480424,0.005697775389866746,0.005960055138875693,0.005695083958298569,0.0053361654536718435,0.006233044040653881,0.006055325362480686,0.0055489977792259945,0.005152221463104149,0.004938358645017885,0.0051883019934581285,0.004915150336898552,0.005205009893106111,0.005062772907932792,0.004883864450459586,0.005073208021768451,0.0049118057717283435,0.0050566913069273155,0.002699667375210656,0.002304356498226469,0.002358459081866068,0.002101235537191307,0.0028788377231291754,0.0022890960610666435,0.0025475495768621445,0.0026294131205348184,0.0032890702260590294,0.002317114561434866,0.0007976195697130811,0.0015661100858403963,0.0010366934245116968,0.0013994457354581287,0.0009970769938897717,0.0009144906986505247,0.0011223727730285448,0.0007503612253154043,0.0011067307368088802,0.0009235699783837906,0.0005124744415451622,0.000648792029136401,0.0006561289147275419,0.0006332966620835696,0.000515511024227406,0.0006612107868465442,0.0004543524605175461,0.00031485746281920954,0.0004666790042050224,0.0006229645266821136],\"type\":\"box\"},{\"boxmean\":true,\"name\":\"LGBMR\",\"y\":[0.004573005350073521,0.0032320477952243,0.0017656359392885814,0.004573005350073521,0.0032320477952243,0.0017656359392885814,0.004573005350073521,0.0032320477952243,0.0017656359392885814,0.004573005350073521,0.0032320477952243,0.0017656359392885814,0.004573005350073521,0.0032320477952243,0.0017656359392885814,0.004573005350073521,0.0032320477952243,0.0017656359392885814,0.006881044795626263,0.00724183010717288,0.005430884284180919,0.006881044795626263,0.00724183010717288,0.005430884284180919,0.006881044795626263,0.00724183010717288,0.005430884284180919,0.0032984923665685803,0.002746744323235732,0.0016912544241012937,0.0032984923665685803,0.002746744323235732,0.0016912544241012937,0.0032984923665685803,0.002746744323235732,0.0016912544241012937,0.0032984923665685803,0.002746744323235732,0.0016912544241012937,0.0032984923665685803,0.002746744323235732,0.0016912544241012937,0.0032984923665685803,0.002746744323235732,0.0016912544241012937,0.007335794733876668,0.006274480401860454,0.005337181739281578,0.007335794733876668,0.006274480401860454,0.005337181739281578,0.007335794733876668,0.006274480401860454,0.005337181739281578,0.0026366139743802287,0.0019283429465618486,0.0015926708413919696,0.0026366139743802287,0.0019283429465618486,0.0015926708413919696,0.0026366139743802287,0.0019283429465618486,0.0015926708413919696,0.0026366139743802287,0.0019283429465618486,0.0015926708413919696,0.0026366139743802287,0.0019283429465618486,0.0015926708413919696,0.0026366139743802287,0.0019283429465618486,0.0015926708413919696,0.006157429195506726,0.005416287374398672,0.005190132703946769,0.006157429195506726,0.005416287374398672,0.005190132703946769,0.006157429195506726,0.005416287374398672,0.005190132703946769],\"type\":\"box\"}],                        {\"template\":{\"data\":{\"histogram2dcontour\":[{\"type\":\"histogram2dcontour\",\"colorbar\":{\"outlinewidth\":0,\"ticks\":\"\"},\"colorscale\":[[0.0,\"#0d0887\"],[0.1111111111111111,\"#46039f\"],[0.2222222222222222,\"#7201a8\"],[0.3333333333333333,\"#9c179e\"],[0.4444444444444444,\"#bd3786\"],[0.5555555555555556,\"#d8576b\"],[0.6666666666666666,\"#ed7953\"],[0.7777777777777778,\"#fb9f3a\"],[0.8888888888888888,\"#fdca26\"],[1.0,\"#f0f921\"]]}],\"choropleth\":[{\"type\":\"choropleth\",\"colorbar\":{\"outlinewidth\":0,\"ticks\":\"\"}}],\"histogram2d\":[{\"type\":\"histogram2d\",\"colorbar\":{\"outlinewidth\":0,\"ticks\":\"\"},\"colorscale\":[[0.0,\"#0d0887\"],[0.1111111111111111,\"#46039f\"],[0.2222222222222222,\"#7201a8\"],[0.3333333333333333,\"#9c179e\"],[0.4444444444444444,\"#bd3786\"],[0.5555555555555556,\"#d8576b\"],[0.6666666666666666,\"#ed7953\"],[0.7777777777777778,\"#fb9f3a\"],[0.8888888888888888,\"#fdca26\"],[1.0,\"#f0f921\"]]}],\"heatmap\":[{\"type\":\"heatmap\",\"colorbar\":{\"outlinewidth\":0,\"ticks\":\"\"},\"colorscale\":[[0.0,\"#0d0887\"],[0.1111111111111111,\"#46039f\"],[0.2222222222222222,\"#7201a8\"],[0.3333333333333333,\"#9c179e\"],[0.4444444444444444,\"#bd3786\"],[0.5555555555555556,\"#d8576b\"],[0.6666666666666666,\"#ed7953\"],[0.7777777777777778,\"#fb9f3a\"],[0.8888888888888888,\"#fdca26\"],[1.0,\"#f0f921\"]]}],\"heatmapgl\":[{\"type\":\"heatmapgl\",\"colorbar\":{\"outlinewidth\":0,\"ticks\":\"\"},\"colorscale\":[[0.0,\"#0d0887\"],[0.1111111111111111,\"#46039f\"],[0.2222222222222222,\"#7201a8\"],[0.3333333333333333,\"#9c179e\"],[0.4444444444444444,\"#bd3786\"],[0.5555555555555556,\"#d8576b\"],[0.6666666666666666,\"#ed7953\"],[0.7777777777777778,\"#fb9f3a\"],[0.8888888888888888,\"#fdca26\"],[1.0,\"#f0f921\"]]}],\"contourcarpet\":[{\"type\":\"contourcarpet\",\"colorbar\":{\"outlinewidth\":0,\"ticks\":\"\"}}],\"contour\":[{\"type\":\"contour\",\"colorbar\":{\"outlinewidth\":0,\"ticks\":\"\"},\"colorscale\":[[0.0,\"#0d0887\"],[0.1111111111111111,\"#46039f\"],[0.2222222222222222,\"#7201a8\"],[0.3333333333333333,\"#9c179e\"],[0.4444444444444444,\"#bd3786\"],[0.5555555555555556,\"#d8576b\"],[0.6666666666666666,\"#ed7953\"],[0.7777777777777778,\"#fb9f3a\"],[0.8888888888888888,\"#fdca26\"],[1.0,\"#f0f921\"]]}],\"surface\":[{\"type\":\"surface\",\"colorbar\":{\"outlinewidth\":0,\"ticks\":\"\"},\"colorscale\":[[0.0,\"#0d0887\"],[0.1111111111111111,\"#46039f\"],[0.2222222222222222,\"#7201a8\"],[0.3333333333333333,\"#9c179e\"],[0.4444444444444444,\"#bd3786\"],[0.5555555555555556,\"#d8576b\"],[0.6666666666666666,\"#ed7953\"],[0.7777777777777778,\"#fb9f3a\"],[0.8888888888888888,\"#fdca26\"],[1.0,\"#f0f921\"]]}],\"mesh3d\":[{\"type\":\"mesh3d\",\"colorbar\":{\"outlinewidth\":0,\"ticks\":\"\"}}],\"scatter\":[{\"fillpattern\":{\"fillmode\":\"overlay\",\"size\":10,\"solidity\":0.2},\"type\":\"scatter\"}],\"parcoords\":[{\"type\":\"parcoords\",\"line\":{\"colorbar\":{\"outlinewidth\":0,\"ticks\":\"\"}}}],\"scatterpolargl\":[{\"type\":\"scatterpolargl\",\"marker\":{\"colorbar\":{\"outlinewidth\":0,\"ticks\":\"\"}}}],\"bar\":[{\"error_x\":{\"color\":\"#2a3f5f\"},\"error_y\":{\"color\":\"#2a3f5f\"},\"marker\":{\"line\":{\"color\":\"#E5ECF6\",\"width\":0.5},\"pattern\":{\"fillmode\":\"overlay\",\"size\":10,\"solidity\":0.2}},\"type\":\"bar\"}],\"scattergeo\":[{\"type\":\"scattergeo\",\"marker\":{\"colorbar\":{\"outlinewidth\":0,\"ticks\":\"\"}}}],\"scatterpolar\":[{\"type\":\"scatterpolar\",\"marker\":{\"colorbar\":{\"outlinewidth\":0,\"ticks\":\"\"}}}],\"histogram\":[{\"marker\":{\"pattern\":{\"fillmode\":\"overlay\",\"size\":10,\"solidity\":0.2}},\"type\":\"histogram\"}],\"scattergl\":[{\"type\":\"scattergl\",\"marker\":{\"colorbar\":{\"outlinewidth\":0,\"ticks\":\"\"}}}],\"scatter3d\":[{\"type\":\"scatter3d\",\"line\":{\"colorbar\":{\"outlinewidth\":0,\"ticks\":\"\"}},\"marker\":{\"colorbar\":{\"outlinewidth\":0,\"ticks\":\"\"}}}],\"scattermapbox\":[{\"type\":\"scattermapbox\",\"marker\":{\"colorbar\":{\"outlinewidth\":0,\"ticks\":\"\"}}}],\"scatterternary\":[{\"type\":\"scatterternary\",\"marker\":{\"colorbar\":{\"outlinewidth\":0,\"ticks\":\"\"}}}],\"scattercarpet\":[{\"type\":\"scattercarpet\",\"marker\":{\"colorbar\":{\"outlinewidth\":0,\"ticks\":\"\"}}}],\"carpet\":[{\"aaxis\":{\"endlinecolor\":\"#2a3f5f\",\"gridcolor\":\"white\",\"linecolor\":\"white\",\"minorgridcolor\":\"white\",\"startlinecolor\":\"#2a3f5f\"},\"baxis\":{\"endlinecolor\":\"#2a3f5f\",\"gridcolor\":\"white\",\"linecolor\":\"white\",\"minorgridcolor\":\"white\",\"startlinecolor\":\"#2a3f5f\"},\"type\":\"carpet\"}],\"table\":[{\"cells\":{\"fill\":{\"color\":\"#EBF0F8\"},\"line\":{\"color\":\"white\"}},\"header\":{\"fill\":{\"color\":\"#C8D4E3\"},\"line\":{\"color\":\"white\"}},\"type\":\"table\"}],\"barpolar\":[{\"marker\":{\"line\":{\"color\":\"#E5ECF6\",\"width\":0.5},\"pattern\":{\"fillmode\":\"overlay\",\"size\":10,\"solidity\":0.2}},\"type\":\"barpolar\"}],\"pie\":[{\"automargin\":true,\"type\":\"pie\"}]},\"layout\":{\"autotypenumbers\":\"strict\",\"colorway\":[\"#636efa\",\"#EF553B\",\"#00cc96\",\"#ab63fa\",\"#FFA15A\",\"#19d3f3\",\"#FF6692\",\"#B6E880\",\"#FF97FF\",\"#FECB52\"],\"font\":{\"color\":\"#2a3f5f\"},\"hovermode\":\"closest\",\"hoverlabel\":{\"align\":\"left\"},\"paper_bgcolor\":\"white\",\"plot_bgcolor\":\"#E5ECF6\",\"polar\":{\"bgcolor\":\"#E5ECF6\",\"angularaxis\":{\"gridcolor\":\"white\",\"linecolor\":\"white\",\"ticks\":\"\"},\"radialaxis\":{\"gridcolor\":\"white\",\"linecolor\":\"white\",\"ticks\":\"\"}},\"ternary\":{\"bgcolor\":\"#E5ECF6\",\"aaxis\":{\"gridcolor\":\"white\",\"linecolor\":\"white\",\"ticks\":\"\"},\"baxis\":{\"gridcolor\":\"white\",\"linecolor\":\"white\",\"ticks\":\"\"},\"caxis\":{\"gridcolor\":\"white\",\"linecolor\":\"white\",\"ticks\":\"\"}},\"coloraxis\":{\"colorbar\":{\"outlinewidth\":0,\"ticks\":\"\"}},\"colorscale\":{\"sequential\":[[0.0,\"#0d0887\"],[0.1111111111111111,\"#46039f\"],[0.2222222222222222,\"#7201a8\"],[0.3333333333333333,\"#9c179e\"],[0.4444444444444444,\"#bd3786\"],[0.5555555555555556,\"#d8576b\"],[0.6666666666666666,\"#ed7953\"],[0.7777777777777778,\"#fb9f3a\"],[0.8888888888888888,\"#fdca26\"],[1.0,\"#f0f921\"]],\"sequentialminus\":[[0.0,\"#0d0887\"],[0.1111111111111111,\"#46039f\"],[0.2222222222222222,\"#7201a8\"],[0.3333333333333333,\"#9c179e\"],[0.4444444444444444,\"#bd3786\"],[0.5555555555555556,\"#d8576b\"],[0.6666666666666666,\"#ed7953\"],[0.7777777777777778,\"#fb9f3a\"],[0.8888888888888888,\"#fdca26\"],[1.0,\"#f0f921\"]],\"diverging\":[[0,\"#8e0152\"],[0.1,\"#c51b7d\"],[0.2,\"#de77ae\"],[0.3,\"#f1b6da\"],[0.4,\"#fde0ef\"],[0.5,\"#f7f7f7\"],[0.6,\"#e6f5d0\"],[0.7,\"#b8e186\"],[0.8,\"#7fbc41\"],[0.9,\"#4d9221\"],[1,\"#276419\"]]},\"xaxis\":{\"gridcolor\":\"white\",\"linecolor\":\"white\",\"ticks\":\"\",\"title\":{\"standoff\":15},\"zerolinecolor\":\"white\",\"automargin\":true,\"zerolinewidth\":2},\"yaxis\":{\"gridcolor\":\"white\",\"linecolor\":\"white\",\"ticks\":\"\",\"title\":{\"standoff\":15},\"zerolinecolor\":\"white\",\"automargin\":true,\"zerolinewidth\":2},\"scene\":{\"xaxis\":{\"backgroundcolor\":\"#E5ECF6\",\"gridcolor\":\"white\",\"linecolor\":\"white\",\"showbackground\":true,\"ticks\":\"\",\"zerolinecolor\":\"white\",\"gridwidth\":2},\"yaxis\":{\"backgroundcolor\":\"#E5ECF6\",\"gridcolor\":\"white\",\"linecolor\":\"white\",\"showbackground\":true,\"ticks\":\"\",\"zerolinecolor\":\"white\",\"gridwidth\":2},\"zaxis\":{\"backgroundcolor\":\"#E5ECF6\",\"gridcolor\":\"white\",\"linecolor\":\"white\",\"showbackground\":true,\"ticks\":\"\",\"zerolinecolor\":\"white\",\"gridwidth\":2}},\"shapedefaults\":{\"line\":{\"color\":\"#2a3f5f\"}},\"annotationdefaults\":{\"arrowcolor\":\"#2a3f5f\",\"arrowhead\":0,\"arrowwidth\":1},\"geo\":{\"bgcolor\":\"white\",\"landcolor\":\"#E5ECF6\",\"subunitcolor\":\"white\",\"showland\":true,\"showlakes\":true,\"lakecolor\":\"white\"},\"title\":{\"x\":0.05},\"mapbox\":{\"style\":\"light\"}}}},                        {\"responsive\": true}                    ).then(function(){\n",
              "                            \n",
              "var gd = document.getElementById('a51028fe-fce0-4b1d-90f0-ef1f2c351bd9');\n",
              "var x = new MutationObserver(function (mutations, observer) {{\n",
              "        var display = window.getComputedStyle(gd).display;\n",
              "        if (!display || display === 'none') {{\n",
              "            console.log([gd, 'removed!']);\n",
              "            Plotly.purge(gd);\n",
              "            observer.disconnect();\n",
              "        }}\n",
              "}});\n",
              "\n",
              "// Listen for the removal of the full notebook cells\n",
              "var notebookContainer = gd.closest('#notebook-container');\n",
              "if (notebookContainer) {{\n",
              "    x.observe(notebookContainer, {childList: true});\n",
              "}}\n",
              "\n",
              "// Listen for the clearing of the current output cell\n",
              "var outputEl = gd.closest('.output');\n",
              "if (outputEl) {{\n",
              "    x.observe(outputEl, {childList: true});\n",
              "}}\n",
              "\n",
              "                        })                };                });            </script>        </div>"
            ]
          },
          "metadata": {},
          "output_type": "display_data"
        }
      ],
      "source": [
        "plot_box(compare_df2['Stds'])"
      ]
    },
    {
      "cell_type": "code",
      "execution_count": 41,
      "metadata": {},
      "outputs": [
        {
          "data": {
            "application/vnd.plotly.v1+json": {
              "config": {
                "plotlyServerURL": "https://plot.ly"
              },
              "data": [
                {
                  "boxmean": true,
                  "name": "SVM",
                  "type": "box",
                  "y": [
                    0.9514287875043836,
                    0.9515307270055094,
                    0.9519576946622003
                  ]
                },
                {
                  "boxmean": true,
                  "name": "RandomForest",
                  "type": "box",
                  "y": [
                    0.6684508785835697,
                    0.6702708326680616,
                    0.670820871955278,
                    0.6664172756286167,
                    0.6707707143196248,
                    0.6709938889911632,
                    0.6687770499720116,
                    0.670469056395668,
                    0.6713892429062561,
                    0.6670104901869239,
                    0.6687438763477285,
                    0.6708558177344793,
                    0.6676486948141503,
                    0.6695697805721996,
                    0.6703358613344491,
                    0.66963619079796,
                    0.6698151977438279,
                    0.6714665541472293,
                    0.8734003011492619,
                    0.8770297626088774,
                    0.8790745983910127,
                    0.8742012559549137,
                    0.877707206948682,
                    0.8790749467062996,
                    0.8744949621433225,
                    0.8768464289721832,
                    0.8790389548030743,
                    0.8731510953314039,
                    0.8761342802043824,
                    0.8784018322649331,
                    0.8748535279372319,
                    0.8758249196794202,
                    0.8782197826399644,
                    0.8737788622195058,
                    0.8753406743386083,
                    0.8782177366701105,
                    0.9563269511606616,
                    0.9590181833437766,
                    0.9603863605255636,
                    0.9562178380265026,
                    0.9588697242654113,
                    0.960455757643771,
                    0.9565054767052208,
                    0.9593834569314338,
                    0.9606559045414753,
                    0.9546149843679197,
                    0.9564131321063061,
                    0.9581195011457175,
                    0.9541783996939773,
                    0.9560413742589404,
                    0.9580751669573918,
                    0.9546442846413219,
                    0.9562262074791656,
                    0.9579679850990305
                  ]
                },
                {
                  "boxmean": true,
                  "name": "AdaBoost",
                  "type": "box",
                  "y": [
                    0.5469174549120388,
                    0.5468175521422718,
                    0.5472726644523539,
                    0.5472634532032637,
                    0.5457126543144591,
                    0.5470563675474058,
                    0.5474663318819691,
                    0.5460458307184616,
                    0.5474113949100272,
                    0.5471268211139788,
                    0.5446587580510621,
                    0.5855771061482109,
                    0.5452929073799563,
                    0.5848913268124929,
                    0.6094605044913383,
                    0.5741639576881925,
                    0.5988830898825774,
                    0.5578166965664545,
                    0.5584667525787275,
                    0.5615176331914744
                  ]
                },
                {
                  "boxmean": true,
                  "name": "ElasticNet",
                  "type": "box",
                  "y": [
                    0.7666480340748348,
                    0.754529137534248,
                    0.7433372246677556,
                    0.7339711391867687,
                    0.726844495229206,
                    0.7211002786379176,
                    0.7157079886050667,
                    0.516829243730751,
                    0.48561720692130783,
                    0.4596234626435464,
                    0.4372631815311265,
                    0.4098778758288002,
                    0.3800010706439108,
                    0.3497755653110055,
                    0.043686901339999445,
                    0.003490652890356283,
                    -0.00021673051586484544,
                    -0.00021673051586484544,
                    -0.00021673051586484544,
                    -0.00021673051586484544,
                    -0.00021673051586484544,
                    0.0015709893888368705,
                    -0.00021673051586484544,
                    -0.00021673051586484544,
                    -0.00021673051586484544,
                    -0.00021673051586484544,
                    -0.00021673051586484544,
                    -0.00021673051586484544,
                    0.8267463231270098,
                    0.8267463231270098,
                    0.8267463231270098,
                    0.8267463231270098,
                    0.8267463231270098,
                    0.8267463231270098,
                    0.8267463231270098,
                    -0.00021673051586484544,
                    -0.00021673051586484544,
                    -0.00021673051586484544,
                    -0.00021673051586484544,
                    -0.00021673051586484544,
                    -0.00021673051586484544,
                    -0.00021673051586484544
                  ]
                },
                {
                  "boxmean": true,
                  "name": "XGradBoost",
                  "type": "box",
                  "y": [
                    0.8031400570263281,
                    0.8657124366696098,
                    0.8848221663754189,
                    0.8036671312551433,
                    0.8658420783624828,
                    0.8846149567821375,
                    0.7910483610021991,
                    0.8485603405778801,
                    0.8609920019039387,
                    0.9026836290087292,
                    0.9326682208692619,
                    0.9422666345560269,
                    0.9014806394544306,
                    0.9309388718251813,
                    0.9403260783397462,
                    0.8669298398646885,
                    0.8953225164352996,
                    0.9067901383489795,
                    0.9318914894014444,
                    0.9547296474118565,
                    0.9623114820621864,
                    0.9301378560185608,
                    0.952419156404806,
                    0.9603486937723316,
                    0.8903584164871607,
                    0.9168597122750666,
                    0.927555849543033,
                    0.8572738402302195,
                    0.8938573429753273,
                    0.908099065107118,
                    0.8570696280746462,
                    0.8933949021260607,
                    0.9072704562395572,
                    0.8413949600467027,
                    0.8665973403367363,
                    0.8759738992387432,
                    0.9275662324934907,
                    0.9478160419427148,
                    0.9576561902708082,
                    0.9257444621608577,
                    0.9458142963019196,
                    0.9552662632783459,
                    0.8900983014522014,
                    0.9133886221991736,
                    0.9246915465536044,
                    0.9510364451510417,
                    0.9656430930500043,
                    0.9689105404933827,
                    0.9488024409673185,
                    0.9631101539880136,
                    0.9666170159833535,
                    0.9123081263948923,
                    0.933000148393259,
                    0.9421243394392846,
                    0.8890337581048683,
                    0.9193519549933027,
                    0.9354879937159849,
                    0.8889830986234658,
                    0.9180457024404204,
                    0.9344166200378369,
                    0.863171969832132,
                    0.8837831063713159,
                    0.8968903949751404,
                    0.9439177032729661,
                    0.9631205756043859,
                    0.9678016270849724,
                    0.9418145734537346,
                    0.9600501785133887,
                    0.9646991275153971,
                    0.9078425724466098,
                    0.9306023188774398,
                    0.9402406703461322,
                    0.9629967122154799,
                    0.9698010616548113,
                    0.970489714118561,
                    0.9606920252744925,
                    0.967501577215239,
                    0.9687706300924217,
                    0.9279505084624904,
                    0.94622253381547,
                    0.953225564992826
                  ]
                },
                {
                  "boxmean": true,
                  "name": "SGDR",
                  "type": "box",
                  "y": [
                    0.8116147963257205,
                    0.8116515077617513,
                    0.8116008824006168,
                    0.8114874949575607,
                    0.8116856897782896,
                    0.8116174452584547,
                    0.8115315857273698,
                    0.8114974551595869,
                    0.8113952301240724,
                    0.8115722621806625,
                    0.8114436939944436,
                    0.8111393496503444,
                    0.8110876532852256,
                    0.8112769323097903,
                    0.8112727297878768,
                    0.8111651888322317,
                    0.811391379442797,
                    0.8113796191363505,
                    0.8112735573325015,
                    0.811233962887053,
                    0.8087196524002234,
                    0.8087052577372894,
                    0.8086194295001815,
                    0.8085974733754508,
                    0.8087388852515855,
                    0.8086529900449719,
                    0.8086252271353185,
                    0.8087372218949483,
                    0.8087093579732769,
                    0.8086576973638187,
                    0.7745859616321351,
                    0.7746599563432689,
                    0.7744410044931995,
                    0.7745157321493173,
                    0.7745209360959041,
                    0.7745665583316914,
                    0.77445165292736,
                    0.7743997825370833,
                    0.774598288245992,
                    0.7744162068068973,
                    0.5583860115723416,
                    0.5586444575006367,
                    0.5587103332951454,
                    0.5585795780450032,
                    0.55890838579103,
                    0.5584966961394833,
                    0.5585373667898289,
                    0.5583530739895168,
                    0.5586923192510251,
                    0.5584110722733481,
                    0.8115031325149832,
                    0.8114693331971247,
                    0.8117970110054896,
                    0.8115557740773417,
                    0.8115099327426474,
                    0.8116676944466151,
                    0.8116799020898681,
                    0.8116977370267818,
                    0.8117299815354568,
                    0.8116193041825464,
                    0.14030548076211058,
                    0.13939968288873714,
                    0.1400872765574804,
                    0.14083488456269933,
                    0.14012021162052465,
                    0.13989659990974096,
                    0.13901765055788268,
                    0.1398575982837778,
                    0.13957053919944012,
                    0.1400025305109866,
                    0.015984101462510274,
                    0.01575958530273438,
                    0.01615959992636633,
                    0.0164889403401274,
                    0.015960182991763626,
                    0.016178290919496453,
                    0.015933953004044463,
                    0.016150725927630175,
                    0.015531735846841829,
                    0.016106733501876747,
                    0.0013741594893288708,
                    0.0012690881636197471,
                    0.001205504968885333,
                    0.0013788499346530185,
                    0.0010866095737695888,
                    0.0013737778391185247,
                    0.0013548858612913623,
                    0.001465874608170137,
                    0.0010663273085108763,
                    0.001422331413340694
                  ]
                },
                {
                  "boxmean": true,
                  "name": "LGBMR",
                  "type": "box",
                  "y": [
                    0.8700623058681017,
                    0.9131551451412375,
                    0.9493390627985397,
                    0.8700623058681017,
                    0.9131551451412375,
                    0.9493390627985397,
                    0.8700623058681017,
                    0.9131551451412375,
                    0.9493390627985397,
                    0.8700623058681017,
                    0.9131551451412375,
                    0.9493390627985397,
                    0.8700623058681017,
                    0.9131551451412375,
                    0.9493390627985397,
                    0.8700623058681017,
                    0.9131551451412375,
                    0.9493390627985397,
                    0.4344515108398471,
                    0.5648458213156299,
                    0.7507140941745886,
                    0.4344515108398471,
                    0.5648458213156299,
                    0.7507140941745886,
                    0.4344515108398471,
                    0.5648458213156299,
                    0.7507140941745886,
                    0.913360515154269,
                    0.9343738768367736,
                    0.9596487874596297,
                    0.913360515154269,
                    0.9343738768367736,
                    0.9596487874596297,
                    0.913360515154269,
                    0.9343738768367736,
                    0.9596487874596297,
                    0.913360515154269,
                    0.9343738768367736,
                    0.9596487874596297,
                    0.913360515154269,
                    0.9343738768367736,
                    0.9596487874596297,
                    0.913360515154269,
                    0.9343738768367736,
                    0.9596487874596297,
                    0.5692378696657782,
                    0.681234337795582,
                    0.790567154118907,
                    0.5692378696657782,
                    0.681234337795582,
                    0.790567154118907,
                    0.5692378696657782,
                    0.681234337795582,
                    0.790567154118907,
                    0.9344760872059773,
                    0.9494926797040038,
                    0.9644848943081156,
                    0.9344760872059773,
                    0.9494926797040038,
                    0.9644848943081156,
                    0.9344760872059773,
                    0.9494926797040038,
                    0.9644848943081156,
                    0.9344760872059773,
                    0.9494926797040038,
                    0.9644848943081156,
                    0.9344760872059773,
                    0.9494926797040038,
                    0.9644848943081156,
                    0.9344760872059773,
                    0.9494926797040038,
                    0.9644848943081156,
                    0.688589977844504,
                    0.7562567100758364,
                    0.8141828336876303,
                    0.688589977844504,
                    0.7562567100758364,
                    0.8141828336876303,
                    0.688589977844504,
                    0.7562567100758364,
                    0.8141828336876303
                  ]
                }
              ],
              "layout": {
                "template": {
                  "data": {
                    "bar": [
                      {
                        "error_x": {
                          "color": "#2a3f5f"
                        },
                        "error_y": {
                          "color": "#2a3f5f"
                        },
                        "marker": {
                          "line": {
                            "color": "#E5ECF6",
                            "width": 0.5
                          },
                          "pattern": {
                            "fillmode": "overlay",
                            "size": 10,
                            "solidity": 0.2
                          }
                        },
                        "type": "bar"
                      }
                    ],
                    "barpolar": [
                      {
                        "marker": {
                          "line": {
                            "color": "#E5ECF6",
                            "width": 0.5
                          },
                          "pattern": {
                            "fillmode": "overlay",
                            "size": 10,
                            "solidity": 0.2
                          }
                        },
                        "type": "barpolar"
                      }
                    ],
                    "carpet": [
                      {
                        "aaxis": {
                          "endlinecolor": "#2a3f5f",
                          "gridcolor": "white",
                          "linecolor": "white",
                          "minorgridcolor": "white",
                          "startlinecolor": "#2a3f5f"
                        },
                        "baxis": {
                          "endlinecolor": "#2a3f5f",
                          "gridcolor": "white",
                          "linecolor": "white",
                          "minorgridcolor": "white",
                          "startlinecolor": "#2a3f5f"
                        },
                        "type": "carpet"
                      }
                    ],
                    "choropleth": [
                      {
                        "colorbar": {
                          "outlinewidth": 0,
                          "ticks": ""
                        },
                        "type": "choropleth"
                      }
                    ],
                    "contour": [
                      {
                        "colorbar": {
                          "outlinewidth": 0,
                          "ticks": ""
                        },
                        "colorscale": [
                          [
                            0,
                            "#0d0887"
                          ],
                          [
                            0.1111111111111111,
                            "#46039f"
                          ],
                          [
                            0.2222222222222222,
                            "#7201a8"
                          ],
                          [
                            0.3333333333333333,
                            "#9c179e"
                          ],
                          [
                            0.4444444444444444,
                            "#bd3786"
                          ],
                          [
                            0.5555555555555556,
                            "#d8576b"
                          ],
                          [
                            0.6666666666666666,
                            "#ed7953"
                          ],
                          [
                            0.7777777777777778,
                            "#fb9f3a"
                          ],
                          [
                            0.8888888888888888,
                            "#fdca26"
                          ],
                          [
                            1,
                            "#f0f921"
                          ]
                        ],
                        "type": "contour"
                      }
                    ],
                    "contourcarpet": [
                      {
                        "colorbar": {
                          "outlinewidth": 0,
                          "ticks": ""
                        },
                        "type": "contourcarpet"
                      }
                    ],
                    "heatmap": [
                      {
                        "colorbar": {
                          "outlinewidth": 0,
                          "ticks": ""
                        },
                        "colorscale": [
                          [
                            0,
                            "#0d0887"
                          ],
                          [
                            0.1111111111111111,
                            "#46039f"
                          ],
                          [
                            0.2222222222222222,
                            "#7201a8"
                          ],
                          [
                            0.3333333333333333,
                            "#9c179e"
                          ],
                          [
                            0.4444444444444444,
                            "#bd3786"
                          ],
                          [
                            0.5555555555555556,
                            "#d8576b"
                          ],
                          [
                            0.6666666666666666,
                            "#ed7953"
                          ],
                          [
                            0.7777777777777778,
                            "#fb9f3a"
                          ],
                          [
                            0.8888888888888888,
                            "#fdca26"
                          ],
                          [
                            1,
                            "#f0f921"
                          ]
                        ],
                        "type": "heatmap"
                      }
                    ],
                    "heatmapgl": [
                      {
                        "colorbar": {
                          "outlinewidth": 0,
                          "ticks": ""
                        },
                        "colorscale": [
                          [
                            0,
                            "#0d0887"
                          ],
                          [
                            0.1111111111111111,
                            "#46039f"
                          ],
                          [
                            0.2222222222222222,
                            "#7201a8"
                          ],
                          [
                            0.3333333333333333,
                            "#9c179e"
                          ],
                          [
                            0.4444444444444444,
                            "#bd3786"
                          ],
                          [
                            0.5555555555555556,
                            "#d8576b"
                          ],
                          [
                            0.6666666666666666,
                            "#ed7953"
                          ],
                          [
                            0.7777777777777778,
                            "#fb9f3a"
                          ],
                          [
                            0.8888888888888888,
                            "#fdca26"
                          ],
                          [
                            1,
                            "#f0f921"
                          ]
                        ],
                        "type": "heatmapgl"
                      }
                    ],
                    "histogram": [
                      {
                        "marker": {
                          "pattern": {
                            "fillmode": "overlay",
                            "size": 10,
                            "solidity": 0.2
                          }
                        },
                        "type": "histogram"
                      }
                    ],
                    "histogram2d": [
                      {
                        "colorbar": {
                          "outlinewidth": 0,
                          "ticks": ""
                        },
                        "colorscale": [
                          [
                            0,
                            "#0d0887"
                          ],
                          [
                            0.1111111111111111,
                            "#46039f"
                          ],
                          [
                            0.2222222222222222,
                            "#7201a8"
                          ],
                          [
                            0.3333333333333333,
                            "#9c179e"
                          ],
                          [
                            0.4444444444444444,
                            "#bd3786"
                          ],
                          [
                            0.5555555555555556,
                            "#d8576b"
                          ],
                          [
                            0.6666666666666666,
                            "#ed7953"
                          ],
                          [
                            0.7777777777777778,
                            "#fb9f3a"
                          ],
                          [
                            0.8888888888888888,
                            "#fdca26"
                          ],
                          [
                            1,
                            "#f0f921"
                          ]
                        ],
                        "type": "histogram2d"
                      }
                    ],
                    "histogram2dcontour": [
                      {
                        "colorbar": {
                          "outlinewidth": 0,
                          "ticks": ""
                        },
                        "colorscale": [
                          [
                            0,
                            "#0d0887"
                          ],
                          [
                            0.1111111111111111,
                            "#46039f"
                          ],
                          [
                            0.2222222222222222,
                            "#7201a8"
                          ],
                          [
                            0.3333333333333333,
                            "#9c179e"
                          ],
                          [
                            0.4444444444444444,
                            "#bd3786"
                          ],
                          [
                            0.5555555555555556,
                            "#d8576b"
                          ],
                          [
                            0.6666666666666666,
                            "#ed7953"
                          ],
                          [
                            0.7777777777777778,
                            "#fb9f3a"
                          ],
                          [
                            0.8888888888888888,
                            "#fdca26"
                          ],
                          [
                            1,
                            "#f0f921"
                          ]
                        ],
                        "type": "histogram2dcontour"
                      }
                    ],
                    "mesh3d": [
                      {
                        "colorbar": {
                          "outlinewidth": 0,
                          "ticks": ""
                        },
                        "type": "mesh3d"
                      }
                    ],
                    "parcoords": [
                      {
                        "line": {
                          "colorbar": {
                            "outlinewidth": 0,
                            "ticks": ""
                          }
                        },
                        "type": "parcoords"
                      }
                    ],
                    "pie": [
                      {
                        "automargin": true,
                        "type": "pie"
                      }
                    ],
                    "scatter": [
                      {
                        "fillpattern": {
                          "fillmode": "overlay",
                          "size": 10,
                          "solidity": 0.2
                        },
                        "type": "scatter"
                      }
                    ],
                    "scatter3d": [
                      {
                        "line": {
                          "colorbar": {
                            "outlinewidth": 0,
                            "ticks": ""
                          }
                        },
                        "marker": {
                          "colorbar": {
                            "outlinewidth": 0,
                            "ticks": ""
                          }
                        },
                        "type": "scatter3d"
                      }
                    ],
                    "scattercarpet": [
                      {
                        "marker": {
                          "colorbar": {
                            "outlinewidth": 0,
                            "ticks": ""
                          }
                        },
                        "type": "scattercarpet"
                      }
                    ],
                    "scattergeo": [
                      {
                        "marker": {
                          "colorbar": {
                            "outlinewidth": 0,
                            "ticks": ""
                          }
                        },
                        "type": "scattergeo"
                      }
                    ],
                    "scattergl": [
                      {
                        "marker": {
                          "colorbar": {
                            "outlinewidth": 0,
                            "ticks": ""
                          }
                        },
                        "type": "scattergl"
                      }
                    ],
                    "scattermapbox": [
                      {
                        "marker": {
                          "colorbar": {
                            "outlinewidth": 0,
                            "ticks": ""
                          }
                        },
                        "type": "scattermapbox"
                      }
                    ],
                    "scatterpolar": [
                      {
                        "marker": {
                          "colorbar": {
                            "outlinewidth": 0,
                            "ticks": ""
                          }
                        },
                        "type": "scatterpolar"
                      }
                    ],
                    "scatterpolargl": [
                      {
                        "marker": {
                          "colorbar": {
                            "outlinewidth": 0,
                            "ticks": ""
                          }
                        },
                        "type": "scatterpolargl"
                      }
                    ],
                    "scatterternary": [
                      {
                        "marker": {
                          "colorbar": {
                            "outlinewidth": 0,
                            "ticks": ""
                          }
                        },
                        "type": "scatterternary"
                      }
                    ],
                    "surface": [
                      {
                        "colorbar": {
                          "outlinewidth": 0,
                          "ticks": ""
                        },
                        "colorscale": [
                          [
                            0,
                            "#0d0887"
                          ],
                          [
                            0.1111111111111111,
                            "#46039f"
                          ],
                          [
                            0.2222222222222222,
                            "#7201a8"
                          ],
                          [
                            0.3333333333333333,
                            "#9c179e"
                          ],
                          [
                            0.4444444444444444,
                            "#bd3786"
                          ],
                          [
                            0.5555555555555556,
                            "#d8576b"
                          ],
                          [
                            0.6666666666666666,
                            "#ed7953"
                          ],
                          [
                            0.7777777777777778,
                            "#fb9f3a"
                          ],
                          [
                            0.8888888888888888,
                            "#fdca26"
                          ],
                          [
                            1,
                            "#f0f921"
                          ]
                        ],
                        "type": "surface"
                      }
                    ],
                    "table": [
                      {
                        "cells": {
                          "fill": {
                            "color": "#EBF0F8"
                          },
                          "line": {
                            "color": "white"
                          }
                        },
                        "header": {
                          "fill": {
                            "color": "#C8D4E3"
                          },
                          "line": {
                            "color": "white"
                          }
                        },
                        "type": "table"
                      }
                    ]
                  },
                  "layout": {
                    "annotationdefaults": {
                      "arrowcolor": "#2a3f5f",
                      "arrowhead": 0,
                      "arrowwidth": 1
                    },
                    "autotypenumbers": "strict",
                    "coloraxis": {
                      "colorbar": {
                        "outlinewidth": 0,
                        "ticks": ""
                      }
                    },
                    "colorscale": {
                      "diverging": [
                        [
                          0,
                          "#8e0152"
                        ],
                        [
                          0.1,
                          "#c51b7d"
                        ],
                        [
                          0.2,
                          "#de77ae"
                        ],
                        [
                          0.3,
                          "#f1b6da"
                        ],
                        [
                          0.4,
                          "#fde0ef"
                        ],
                        [
                          0.5,
                          "#f7f7f7"
                        ],
                        [
                          0.6,
                          "#e6f5d0"
                        ],
                        [
                          0.7,
                          "#b8e186"
                        ],
                        [
                          0.8,
                          "#7fbc41"
                        ],
                        [
                          0.9,
                          "#4d9221"
                        ],
                        [
                          1,
                          "#276419"
                        ]
                      ],
                      "sequential": [
                        [
                          0,
                          "#0d0887"
                        ],
                        [
                          0.1111111111111111,
                          "#46039f"
                        ],
                        [
                          0.2222222222222222,
                          "#7201a8"
                        ],
                        [
                          0.3333333333333333,
                          "#9c179e"
                        ],
                        [
                          0.4444444444444444,
                          "#bd3786"
                        ],
                        [
                          0.5555555555555556,
                          "#d8576b"
                        ],
                        [
                          0.6666666666666666,
                          "#ed7953"
                        ],
                        [
                          0.7777777777777778,
                          "#fb9f3a"
                        ],
                        [
                          0.8888888888888888,
                          "#fdca26"
                        ],
                        [
                          1,
                          "#f0f921"
                        ]
                      ],
                      "sequentialminus": [
                        [
                          0,
                          "#0d0887"
                        ],
                        [
                          0.1111111111111111,
                          "#46039f"
                        ],
                        [
                          0.2222222222222222,
                          "#7201a8"
                        ],
                        [
                          0.3333333333333333,
                          "#9c179e"
                        ],
                        [
                          0.4444444444444444,
                          "#bd3786"
                        ],
                        [
                          0.5555555555555556,
                          "#d8576b"
                        ],
                        [
                          0.6666666666666666,
                          "#ed7953"
                        ],
                        [
                          0.7777777777777778,
                          "#fb9f3a"
                        ],
                        [
                          0.8888888888888888,
                          "#fdca26"
                        ],
                        [
                          1,
                          "#f0f921"
                        ]
                      ]
                    },
                    "colorway": [
                      "#636efa",
                      "#EF553B",
                      "#00cc96",
                      "#ab63fa",
                      "#FFA15A",
                      "#19d3f3",
                      "#FF6692",
                      "#B6E880",
                      "#FF97FF",
                      "#FECB52"
                    ],
                    "font": {
                      "color": "#2a3f5f"
                    },
                    "geo": {
                      "bgcolor": "white",
                      "lakecolor": "white",
                      "landcolor": "#E5ECF6",
                      "showlakes": true,
                      "showland": true,
                      "subunitcolor": "white"
                    },
                    "hoverlabel": {
                      "align": "left"
                    },
                    "hovermode": "closest",
                    "mapbox": {
                      "style": "light"
                    },
                    "paper_bgcolor": "white",
                    "plot_bgcolor": "#E5ECF6",
                    "polar": {
                      "angularaxis": {
                        "gridcolor": "white",
                        "linecolor": "white",
                        "ticks": ""
                      },
                      "bgcolor": "#E5ECF6",
                      "radialaxis": {
                        "gridcolor": "white",
                        "linecolor": "white",
                        "ticks": ""
                      }
                    },
                    "scene": {
                      "xaxis": {
                        "backgroundcolor": "#E5ECF6",
                        "gridcolor": "white",
                        "gridwidth": 2,
                        "linecolor": "white",
                        "showbackground": true,
                        "ticks": "",
                        "zerolinecolor": "white"
                      },
                      "yaxis": {
                        "backgroundcolor": "#E5ECF6",
                        "gridcolor": "white",
                        "gridwidth": 2,
                        "linecolor": "white",
                        "showbackground": true,
                        "ticks": "",
                        "zerolinecolor": "white"
                      },
                      "zaxis": {
                        "backgroundcolor": "#E5ECF6",
                        "gridcolor": "white",
                        "gridwidth": 2,
                        "linecolor": "white",
                        "showbackground": true,
                        "ticks": "",
                        "zerolinecolor": "white"
                      }
                    },
                    "shapedefaults": {
                      "line": {
                        "color": "#2a3f5f"
                      }
                    },
                    "ternary": {
                      "aaxis": {
                        "gridcolor": "white",
                        "linecolor": "white",
                        "ticks": ""
                      },
                      "baxis": {
                        "gridcolor": "white",
                        "linecolor": "white",
                        "ticks": ""
                      },
                      "bgcolor": "#E5ECF6",
                      "caxis": {
                        "gridcolor": "white",
                        "linecolor": "white",
                        "ticks": ""
                      }
                    },
                    "title": {
                      "x": 0.05
                    },
                    "xaxis": {
                      "automargin": true,
                      "gridcolor": "white",
                      "linecolor": "white",
                      "ticks": "",
                      "title": {
                        "standoff": 15
                      },
                      "zerolinecolor": "white",
                      "zerolinewidth": 2
                    },
                    "yaxis": {
                      "automargin": true,
                      "gridcolor": "white",
                      "linecolor": "white",
                      "ticks": "",
                      "title": {
                        "standoff": 15
                      },
                      "zerolinecolor": "white",
                      "zerolinewidth": 2
                    }
                  }
                }
              }
            },
            "text/html": [
              "<div>                            <div id=\"e29d1d5b-1d4c-4f6e-a98b-ae3202b2d3e3\" class=\"plotly-graph-div\" style=\"height:525px; width:100%;\"></div>            <script type=\"text/javascript\">                require([\"plotly\"], function(Plotly) {                    window.PLOTLYENV=window.PLOTLYENV || {};                                    if (document.getElementById(\"e29d1d5b-1d4c-4f6e-a98b-ae3202b2d3e3\")) {                    Plotly.newPlot(                        \"e29d1d5b-1d4c-4f6e-a98b-ae3202b2d3e3\",                        [{\"boxmean\":true,\"name\":\"SVM\",\"y\":[0.9514287875043836,0.9515307270055094,0.9519576946622003],\"type\":\"box\"},{\"boxmean\":true,\"name\":\"RandomForest\",\"y\":[0.6684508785835697,0.6702708326680616,0.670820871955278,0.6664172756286167,0.6707707143196248,0.6709938889911632,0.6687770499720116,0.670469056395668,0.6713892429062561,0.6670104901869239,0.6687438763477285,0.6708558177344793,0.6676486948141503,0.6695697805721996,0.6703358613344491,0.66963619079796,0.6698151977438279,0.6714665541472293,0.8734003011492619,0.8770297626088774,0.8790745983910127,0.8742012559549137,0.877707206948682,0.8790749467062996,0.8744949621433225,0.8768464289721832,0.8790389548030743,0.8731510953314039,0.8761342802043824,0.8784018322649331,0.8748535279372319,0.8758249196794202,0.8782197826399644,0.8737788622195058,0.8753406743386083,0.8782177366701105,0.9563269511606616,0.9590181833437766,0.9603863605255636,0.9562178380265026,0.9588697242654113,0.960455757643771,0.9565054767052208,0.9593834569314338,0.9606559045414753,0.9546149843679197,0.9564131321063061,0.9581195011457175,0.9541783996939773,0.9560413742589404,0.9580751669573918,0.9546442846413219,0.9562262074791656,0.9579679850990305],\"type\":\"box\"},{\"boxmean\":true,\"name\":\"AdaBoost\",\"y\":[0.5469174549120388,0.5468175521422718,0.5472726644523539,0.5472634532032637,0.5457126543144591,0.5470563675474058,0.5474663318819691,0.5460458307184616,0.5474113949100272,0.5471268211139788,0.5446587580510621,0.5855771061482109,0.5452929073799563,0.5848913268124929,0.6094605044913383,0.5741639576881925,0.5988830898825774,0.5578166965664545,0.5584667525787275,0.5615176331914744],\"type\":\"box\"},{\"boxmean\":true,\"name\":\"ElasticNet\",\"y\":[0.7666480340748348,0.754529137534248,0.7433372246677556,0.7339711391867687,0.726844495229206,0.7211002786379176,0.7157079886050667,0.516829243730751,0.48561720692130783,0.4596234626435464,0.4372631815311265,0.4098778758288002,0.3800010706439108,0.3497755653110055,0.043686901339999445,0.003490652890356283,-0.00021673051586484544,-0.00021673051586484544,-0.00021673051586484544,-0.00021673051586484544,-0.00021673051586484544,0.0015709893888368705,-0.00021673051586484544,-0.00021673051586484544,-0.00021673051586484544,-0.00021673051586484544,-0.00021673051586484544,-0.00021673051586484544,0.8267463231270098,0.8267463231270098,0.8267463231270098,0.8267463231270098,0.8267463231270098,0.8267463231270098,0.8267463231270098,-0.00021673051586484544,-0.00021673051586484544,-0.00021673051586484544,-0.00021673051586484544,-0.00021673051586484544,-0.00021673051586484544,-0.00021673051586484544],\"type\":\"box\"},{\"boxmean\":true,\"name\":\"XGradBoost\",\"y\":[0.8031400570263281,0.8657124366696098,0.8848221663754189,0.8036671312551433,0.8658420783624828,0.8846149567821375,0.7910483610021991,0.8485603405778801,0.8609920019039387,0.9026836290087292,0.9326682208692619,0.9422666345560269,0.9014806394544306,0.9309388718251813,0.9403260783397462,0.8669298398646885,0.8953225164352996,0.9067901383489795,0.9318914894014444,0.9547296474118565,0.9623114820621864,0.9301378560185608,0.952419156404806,0.9603486937723316,0.8903584164871607,0.9168597122750666,0.927555849543033,0.8572738402302195,0.8938573429753273,0.908099065107118,0.8570696280746462,0.8933949021260607,0.9072704562395572,0.8413949600467027,0.8665973403367363,0.8759738992387432,0.9275662324934907,0.9478160419427148,0.9576561902708082,0.9257444621608577,0.9458142963019196,0.9552662632783459,0.8900983014522014,0.9133886221991736,0.9246915465536044,0.9510364451510417,0.9656430930500043,0.9689105404933827,0.9488024409673185,0.9631101539880136,0.9666170159833535,0.9123081263948923,0.933000148393259,0.9421243394392846,0.8890337581048683,0.9193519549933027,0.9354879937159849,0.8889830986234658,0.9180457024404204,0.9344166200378369,0.863171969832132,0.8837831063713159,0.8968903949751404,0.9439177032729661,0.9631205756043859,0.9678016270849724,0.9418145734537346,0.9600501785133887,0.9646991275153971,0.9078425724466098,0.9306023188774398,0.9402406703461322,0.9629967122154799,0.9698010616548113,0.970489714118561,0.9606920252744925,0.967501577215239,0.9687706300924217,0.9279505084624904,0.94622253381547,0.953225564992826],\"type\":\"box\"},{\"boxmean\":true,\"name\":\"SGDR\",\"y\":[0.8116147963257205,0.8116515077617513,0.8116008824006168,0.8114874949575607,0.8116856897782896,0.8116174452584547,0.8115315857273698,0.8114974551595869,0.8113952301240724,0.8115722621806625,0.8114436939944436,0.8111393496503444,0.8110876532852256,0.8112769323097903,0.8112727297878768,0.8111651888322317,0.811391379442797,0.8113796191363505,0.8112735573325015,0.811233962887053,0.8087196524002234,0.8087052577372894,0.8086194295001815,0.8085974733754508,0.8087388852515855,0.8086529900449719,0.8086252271353185,0.8087372218949483,0.8087093579732769,0.8086576973638187,0.7745859616321351,0.7746599563432689,0.7744410044931995,0.7745157321493173,0.7745209360959041,0.7745665583316914,0.77445165292736,0.7743997825370833,0.774598288245992,0.7744162068068973,0.5583860115723416,0.5586444575006367,0.5587103332951454,0.5585795780450032,0.55890838579103,0.5584966961394833,0.5585373667898289,0.5583530739895168,0.5586923192510251,0.5584110722733481,0.8115031325149832,0.8114693331971247,0.8117970110054896,0.8115557740773417,0.8115099327426474,0.8116676944466151,0.8116799020898681,0.8116977370267818,0.8117299815354568,0.8116193041825464,0.14030548076211058,0.13939968288873714,0.1400872765574804,0.14083488456269933,0.14012021162052465,0.13989659990974096,0.13901765055788268,0.1398575982837778,0.13957053919944012,0.1400025305109866,0.015984101462510274,0.01575958530273438,0.01615959992636633,0.0164889403401274,0.015960182991763626,0.016178290919496453,0.015933953004044463,0.016150725927630175,0.015531735846841829,0.016106733501876747,0.0013741594893288708,0.0012690881636197471,0.001205504968885333,0.0013788499346530185,0.0010866095737695888,0.0013737778391185247,0.0013548858612913623,0.001465874608170137,0.0010663273085108763,0.001422331413340694],\"type\":\"box\"},{\"boxmean\":true,\"name\":\"LGBMR\",\"y\":[0.8700623058681017,0.9131551451412375,0.9493390627985397,0.8700623058681017,0.9131551451412375,0.9493390627985397,0.8700623058681017,0.9131551451412375,0.9493390627985397,0.8700623058681017,0.9131551451412375,0.9493390627985397,0.8700623058681017,0.9131551451412375,0.9493390627985397,0.8700623058681017,0.9131551451412375,0.9493390627985397,0.4344515108398471,0.5648458213156299,0.7507140941745886,0.4344515108398471,0.5648458213156299,0.7507140941745886,0.4344515108398471,0.5648458213156299,0.7507140941745886,0.913360515154269,0.9343738768367736,0.9596487874596297,0.913360515154269,0.9343738768367736,0.9596487874596297,0.913360515154269,0.9343738768367736,0.9596487874596297,0.913360515154269,0.9343738768367736,0.9596487874596297,0.913360515154269,0.9343738768367736,0.9596487874596297,0.913360515154269,0.9343738768367736,0.9596487874596297,0.5692378696657782,0.681234337795582,0.790567154118907,0.5692378696657782,0.681234337795582,0.790567154118907,0.5692378696657782,0.681234337795582,0.790567154118907,0.9344760872059773,0.9494926797040038,0.9644848943081156,0.9344760872059773,0.9494926797040038,0.9644848943081156,0.9344760872059773,0.9494926797040038,0.9644848943081156,0.9344760872059773,0.9494926797040038,0.9644848943081156,0.9344760872059773,0.9494926797040038,0.9644848943081156,0.9344760872059773,0.9494926797040038,0.9644848943081156,0.688589977844504,0.7562567100758364,0.8141828336876303,0.688589977844504,0.7562567100758364,0.8141828336876303,0.688589977844504,0.7562567100758364,0.8141828336876303],\"type\":\"box\"}],                        {\"template\":{\"data\":{\"histogram2dcontour\":[{\"type\":\"histogram2dcontour\",\"colorbar\":{\"outlinewidth\":0,\"ticks\":\"\"},\"colorscale\":[[0.0,\"#0d0887\"],[0.1111111111111111,\"#46039f\"],[0.2222222222222222,\"#7201a8\"],[0.3333333333333333,\"#9c179e\"],[0.4444444444444444,\"#bd3786\"],[0.5555555555555556,\"#d8576b\"],[0.6666666666666666,\"#ed7953\"],[0.7777777777777778,\"#fb9f3a\"],[0.8888888888888888,\"#fdca26\"],[1.0,\"#f0f921\"]]}],\"choropleth\":[{\"type\":\"choropleth\",\"colorbar\":{\"outlinewidth\":0,\"ticks\":\"\"}}],\"histogram2d\":[{\"type\":\"histogram2d\",\"colorbar\":{\"outlinewidth\":0,\"ticks\":\"\"},\"colorscale\":[[0.0,\"#0d0887\"],[0.1111111111111111,\"#46039f\"],[0.2222222222222222,\"#7201a8\"],[0.3333333333333333,\"#9c179e\"],[0.4444444444444444,\"#bd3786\"],[0.5555555555555556,\"#d8576b\"],[0.6666666666666666,\"#ed7953\"],[0.7777777777777778,\"#fb9f3a\"],[0.8888888888888888,\"#fdca26\"],[1.0,\"#f0f921\"]]}],\"heatmap\":[{\"type\":\"heatmap\",\"colorbar\":{\"outlinewidth\":0,\"ticks\":\"\"},\"colorscale\":[[0.0,\"#0d0887\"],[0.1111111111111111,\"#46039f\"],[0.2222222222222222,\"#7201a8\"],[0.3333333333333333,\"#9c179e\"],[0.4444444444444444,\"#bd3786\"],[0.5555555555555556,\"#d8576b\"],[0.6666666666666666,\"#ed7953\"],[0.7777777777777778,\"#fb9f3a\"],[0.8888888888888888,\"#fdca26\"],[1.0,\"#f0f921\"]]}],\"heatmapgl\":[{\"type\":\"heatmapgl\",\"colorbar\":{\"outlinewidth\":0,\"ticks\":\"\"},\"colorscale\":[[0.0,\"#0d0887\"],[0.1111111111111111,\"#46039f\"],[0.2222222222222222,\"#7201a8\"],[0.3333333333333333,\"#9c179e\"],[0.4444444444444444,\"#bd3786\"],[0.5555555555555556,\"#d8576b\"],[0.6666666666666666,\"#ed7953\"],[0.7777777777777778,\"#fb9f3a\"],[0.8888888888888888,\"#fdca26\"],[1.0,\"#f0f921\"]]}],\"contourcarpet\":[{\"type\":\"contourcarpet\",\"colorbar\":{\"outlinewidth\":0,\"ticks\":\"\"}}],\"contour\":[{\"type\":\"contour\",\"colorbar\":{\"outlinewidth\":0,\"ticks\":\"\"},\"colorscale\":[[0.0,\"#0d0887\"],[0.1111111111111111,\"#46039f\"],[0.2222222222222222,\"#7201a8\"],[0.3333333333333333,\"#9c179e\"],[0.4444444444444444,\"#bd3786\"],[0.5555555555555556,\"#d8576b\"],[0.6666666666666666,\"#ed7953\"],[0.7777777777777778,\"#fb9f3a\"],[0.8888888888888888,\"#fdca26\"],[1.0,\"#f0f921\"]]}],\"surface\":[{\"type\":\"surface\",\"colorbar\":{\"outlinewidth\":0,\"ticks\":\"\"},\"colorscale\":[[0.0,\"#0d0887\"],[0.1111111111111111,\"#46039f\"],[0.2222222222222222,\"#7201a8\"],[0.3333333333333333,\"#9c179e\"],[0.4444444444444444,\"#bd3786\"],[0.5555555555555556,\"#d8576b\"],[0.6666666666666666,\"#ed7953\"],[0.7777777777777778,\"#fb9f3a\"],[0.8888888888888888,\"#fdca26\"],[1.0,\"#f0f921\"]]}],\"mesh3d\":[{\"type\":\"mesh3d\",\"colorbar\":{\"outlinewidth\":0,\"ticks\":\"\"}}],\"scatter\":[{\"fillpattern\":{\"fillmode\":\"overlay\",\"size\":10,\"solidity\":0.2},\"type\":\"scatter\"}],\"parcoords\":[{\"type\":\"parcoords\",\"line\":{\"colorbar\":{\"outlinewidth\":0,\"ticks\":\"\"}}}],\"scatterpolargl\":[{\"type\":\"scatterpolargl\",\"marker\":{\"colorbar\":{\"outlinewidth\":0,\"ticks\":\"\"}}}],\"bar\":[{\"error_x\":{\"color\":\"#2a3f5f\"},\"error_y\":{\"color\":\"#2a3f5f\"},\"marker\":{\"line\":{\"color\":\"#E5ECF6\",\"width\":0.5},\"pattern\":{\"fillmode\":\"overlay\",\"size\":10,\"solidity\":0.2}},\"type\":\"bar\"}],\"scattergeo\":[{\"type\":\"scattergeo\",\"marker\":{\"colorbar\":{\"outlinewidth\":0,\"ticks\":\"\"}}}],\"scatterpolar\":[{\"type\":\"scatterpolar\",\"marker\":{\"colorbar\":{\"outlinewidth\":0,\"ticks\":\"\"}}}],\"histogram\":[{\"marker\":{\"pattern\":{\"fillmode\":\"overlay\",\"size\":10,\"solidity\":0.2}},\"type\":\"histogram\"}],\"scattergl\":[{\"type\":\"scattergl\",\"marker\":{\"colorbar\":{\"outlinewidth\":0,\"ticks\":\"\"}}}],\"scatter3d\":[{\"type\":\"scatter3d\",\"line\":{\"colorbar\":{\"outlinewidth\":0,\"ticks\":\"\"}},\"marker\":{\"colorbar\":{\"outlinewidth\":0,\"ticks\":\"\"}}}],\"scattermapbox\":[{\"type\":\"scattermapbox\",\"marker\":{\"colorbar\":{\"outlinewidth\":0,\"ticks\":\"\"}}}],\"scatterternary\":[{\"type\":\"scatterternary\",\"marker\":{\"colorbar\":{\"outlinewidth\":0,\"ticks\":\"\"}}}],\"scattercarpet\":[{\"type\":\"scattercarpet\",\"marker\":{\"colorbar\":{\"outlinewidth\":0,\"ticks\":\"\"}}}],\"carpet\":[{\"aaxis\":{\"endlinecolor\":\"#2a3f5f\",\"gridcolor\":\"white\",\"linecolor\":\"white\",\"minorgridcolor\":\"white\",\"startlinecolor\":\"#2a3f5f\"},\"baxis\":{\"endlinecolor\":\"#2a3f5f\",\"gridcolor\":\"white\",\"linecolor\":\"white\",\"minorgridcolor\":\"white\",\"startlinecolor\":\"#2a3f5f\"},\"type\":\"carpet\"}],\"table\":[{\"cells\":{\"fill\":{\"color\":\"#EBF0F8\"},\"line\":{\"color\":\"white\"}},\"header\":{\"fill\":{\"color\":\"#C8D4E3\"},\"line\":{\"color\":\"white\"}},\"type\":\"table\"}],\"barpolar\":[{\"marker\":{\"line\":{\"color\":\"#E5ECF6\",\"width\":0.5},\"pattern\":{\"fillmode\":\"overlay\",\"size\":10,\"solidity\":0.2}},\"type\":\"barpolar\"}],\"pie\":[{\"automargin\":true,\"type\":\"pie\"}]},\"layout\":{\"autotypenumbers\":\"strict\",\"colorway\":[\"#636efa\",\"#EF553B\",\"#00cc96\",\"#ab63fa\",\"#FFA15A\",\"#19d3f3\",\"#FF6692\",\"#B6E880\",\"#FF97FF\",\"#FECB52\"],\"font\":{\"color\":\"#2a3f5f\"},\"hovermode\":\"closest\",\"hoverlabel\":{\"align\":\"left\"},\"paper_bgcolor\":\"white\",\"plot_bgcolor\":\"#E5ECF6\",\"polar\":{\"bgcolor\":\"#E5ECF6\",\"angularaxis\":{\"gridcolor\":\"white\",\"linecolor\":\"white\",\"ticks\":\"\"},\"radialaxis\":{\"gridcolor\":\"white\",\"linecolor\":\"white\",\"ticks\":\"\"}},\"ternary\":{\"bgcolor\":\"#E5ECF6\",\"aaxis\":{\"gridcolor\":\"white\",\"linecolor\":\"white\",\"ticks\":\"\"},\"baxis\":{\"gridcolor\":\"white\",\"linecolor\":\"white\",\"ticks\":\"\"},\"caxis\":{\"gridcolor\":\"white\",\"linecolor\":\"white\",\"ticks\":\"\"}},\"coloraxis\":{\"colorbar\":{\"outlinewidth\":0,\"ticks\":\"\"}},\"colorscale\":{\"sequential\":[[0.0,\"#0d0887\"],[0.1111111111111111,\"#46039f\"],[0.2222222222222222,\"#7201a8\"],[0.3333333333333333,\"#9c179e\"],[0.4444444444444444,\"#bd3786\"],[0.5555555555555556,\"#d8576b\"],[0.6666666666666666,\"#ed7953\"],[0.7777777777777778,\"#fb9f3a\"],[0.8888888888888888,\"#fdca26\"],[1.0,\"#f0f921\"]],\"sequentialminus\":[[0.0,\"#0d0887\"],[0.1111111111111111,\"#46039f\"],[0.2222222222222222,\"#7201a8\"],[0.3333333333333333,\"#9c179e\"],[0.4444444444444444,\"#bd3786\"],[0.5555555555555556,\"#d8576b\"],[0.6666666666666666,\"#ed7953\"],[0.7777777777777778,\"#fb9f3a\"],[0.8888888888888888,\"#fdca26\"],[1.0,\"#f0f921\"]],\"diverging\":[[0,\"#8e0152\"],[0.1,\"#c51b7d\"],[0.2,\"#de77ae\"],[0.3,\"#f1b6da\"],[0.4,\"#fde0ef\"],[0.5,\"#f7f7f7\"],[0.6,\"#e6f5d0\"],[0.7,\"#b8e186\"],[0.8,\"#7fbc41\"],[0.9,\"#4d9221\"],[1,\"#276419\"]]},\"xaxis\":{\"gridcolor\":\"white\",\"linecolor\":\"white\",\"ticks\":\"\",\"title\":{\"standoff\":15},\"zerolinecolor\":\"white\",\"automargin\":true,\"zerolinewidth\":2},\"yaxis\":{\"gridcolor\":\"white\",\"linecolor\":\"white\",\"ticks\":\"\",\"title\":{\"standoff\":15},\"zerolinecolor\":\"white\",\"automargin\":true,\"zerolinewidth\":2},\"scene\":{\"xaxis\":{\"backgroundcolor\":\"#E5ECF6\",\"gridcolor\":\"white\",\"linecolor\":\"white\",\"showbackground\":true,\"ticks\":\"\",\"zerolinecolor\":\"white\",\"gridwidth\":2},\"yaxis\":{\"backgroundcolor\":\"#E5ECF6\",\"gridcolor\":\"white\",\"linecolor\":\"white\",\"showbackground\":true,\"ticks\":\"\",\"zerolinecolor\":\"white\",\"gridwidth\":2},\"zaxis\":{\"backgroundcolor\":\"#E5ECF6\",\"gridcolor\":\"white\",\"linecolor\":\"white\",\"showbackground\":true,\"ticks\":\"\",\"zerolinecolor\":\"white\",\"gridwidth\":2}},\"shapedefaults\":{\"line\":{\"color\":\"#2a3f5f\"}},\"annotationdefaults\":{\"arrowcolor\":\"#2a3f5f\",\"arrowhead\":0,\"arrowwidth\":1},\"geo\":{\"bgcolor\":\"white\",\"landcolor\":\"#E5ECF6\",\"subunitcolor\":\"white\",\"showland\":true,\"showlakes\":true,\"lakecolor\":\"white\"},\"title\":{\"x\":0.05},\"mapbox\":{\"style\":\"light\"}}}},                        {\"responsive\": true}                    ).then(function(){\n",
              "                            \n",
              "var gd = document.getElementById('e29d1d5b-1d4c-4f6e-a98b-ae3202b2d3e3');\n",
              "var x = new MutationObserver(function (mutations, observer) {{\n",
              "        var display = window.getComputedStyle(gd).display;\n",
              "        if (!display || display === 'none') {{\n",
              "            console.log([gd, 'removed!']);\n",
              "            Plotly.purge(gd);\n",
              "            observer.disconnect();\n",
              "        }}\n",
              "}});\n",
              "\n",
              "// Listen for the removal of the full notebook cells\n",
              "var notebookContainer = gd.closest('#notebook-container');\n",
              "if (notebookContainer) {{\n",
              "    x.observe(notebookContainer, {childList: true});\n",
              "}}\n",
              "\n",
              "// Listen for the clearing of the current output cell\n",
              "var outputEl = gd.closest('.output');\n",
              "if (outputEl) {{\n",
              "    x.observe(outputEl, {childList: true});\n",
              "}}\n",
              "\n",
              "                        })                };                });            </script>        </div>"
            ]
          },
          "metadata": {},
          "output_type": "display_data"
        }
      ],
      "source": [
        "plot_box(compare_df2['Means'])"
      ]
    },
    {
      "cell_type": "code",
      "execution_count": null,
      "metadata": {},
      "outputs": [],
      "source": []
    }
  ],
  "metadata": {
    "colab": {
      "provenance": []
    },
    "kernelspec": {
      "display_name": ".venv",
      "language": "python",
      "name": "python3"
    },
    "language_info": {
      "codemirror_mode": {
        "name": "ipython",
        "version": 3
      },
      "file_extension": ".py",
      "mimetype": "text/x-python",
      "name": "python",
      "nbconvert_exporter": "python",
      "pygments_lexer": "ipython3",
      "version": "3.10.9"
    },
    "vscode": {
      "interpreter": {
        "hash": "b57c1bdcf2f75a772382c2c6b67d75b5655ca9f267036d5d4b2c3177e44ba38d"
      }
    }
  },
  "nbformat": 4,
  "nbformat_minor": 0
}
