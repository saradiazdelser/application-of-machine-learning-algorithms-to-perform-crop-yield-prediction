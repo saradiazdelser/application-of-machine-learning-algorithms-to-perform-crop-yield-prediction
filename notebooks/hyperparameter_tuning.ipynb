{
 "cells": [
  {
   "attachments": {},
   "cell_type": "markdown",
   "metadata": {
    "id": "pAveNqyJTugF"
   },
   "source": [
    "## Imports"
   ]
  },
  {
   "cell_type": "code",
   "execution_count": 1,
   "metadata": {},
   "outputs": [],
   "source": [
    "# %pip install numpy pandas matplotlib scikit-learn seaborn cufflinks xgboost plotly lightgb imbalanced-learn geopandas"
   ]
  },
  {
   "cell_type": "code",
   "execution_count": 2,
   "metadata": {
    "colab": {
     "base_uri": "https://localhost:8080/",
     "height": 17
    },
    "id": "laP_Hx1DTugL",
    "outputId": "05d97bff-ea3a-4611-d5d3-3680c37be226"
   },
   "outputs": [
    {
     "data": {
      "text/html": [
       "        <script type=\"text/javascript\">\n",
       "        window.PlotlyConfig = {MathJaxConfig: 'local'};\n",
       "        if (window.MathJax && window.MathJax.Hub && window.MathJax.Hub.Config) {window.MathJax.Hub.Config({SVG: {font: \"STIX-Web\"}});}\n",
       "        if (typeof require !== 'undefined') {\n",
       "        require.undef(\"plotly\");\n",
       "        requirejs.config({\n",
       "            paths: {\n",
       "                'plotly': ['https://cdn.plot.ly/plotly-2.18.0.min']\n",
       "            }\n",
       "        });\n",
       "        require(['plotly'], function(Plotly) {\n",
       "            window._Plotly = Plotly;\n",
       "        });\n",
       "        }\n",
       "        </script>\n",
       "        "
      ]
     },
     "metadata": {},
     "output_type": "display_data"
    },
    {
     "data": {
      "text/html": [
       "        <script type=\"text/javascript\">\n",
       "        window.PlotlyConfig = {MathJaxConfig: 'local'};\n",
       "        if (window.MathJax && window.MathJax.Hub && window.MathJax.Hub.Config) {window.MathJax.Hub.Config({SVG: {font: \"STIX-Web\"}});}\n",
       "        if (typeof require !== 'undefined') {\n",
       "        require.undef(\"plotly\");\n",
       "        requirejs.config({\n",
       "            paths: {\n",
       "                'plotly': ['https://cdn.plot.ly/plotly-2.18.0.min']\n",
       "            }\n",
       "        });\n",
       "        require(['plotly'], function(Plotly) {\n",
       "            window._Plotly = Plotly;\n",
       "        });\n",
       "        }\n",
       "        </script>\n",
       "        "
      ]
     },
     "metadata": {},
     "output_type": "display_data"
    }
   ],
   "source": [
    "\n",
    "import pandas as pd\n",
    "import matplotlib.pyplot as plt\n",
    "\n",
    "import seaborn as sns\n",
    "import cufflinks as cf\n",
    "import numpy as np\n",
    "import geopandas as gpd\n",
    "\n",
    "from sklearn.model_selection import train_test_split\n",
    "\n",
    "from sklearn.preprocessing import MinMaxScaler\n",
    "from sklearn.preprocessing import OneHotEncoder\n",
    "\n",
    "from sklearn.pipeline import Pipeline\n",
    "from sklearn.model_selection import GridSearchCV, learning_curve\n",
    "from sklearn.model_selection import RepeatedKFold\n",
    "from sklearn.metrics import mean_absolute_error, mean_squared_error, r2_score\n",
    "\n",
    "import xgboost as xgb\n",
    "\n",
    "import plotly.graph_objects as px\n",
    "\n",
    "\n",
    "# Int cufflinks\n",
    "# making all charts public and setting a global theme\n",
    "cf.set_config_file(theme='ggplot',offline=True)\n",
    "\n",
    "# Ignore warnings\n",
    "import warnings\n",
    "warnings.filterwarnings(\"ignore\")\n",
    "\n",
    "# Set matplotlib in Darkmode\n",
    "# plt.style.use('light_background')\n",
    "\n",
    "# Set Pandas to display all columsn\n",
    "pd.set_option(\"display.max.columns\", None)\n",
    "sns.set_palette(\"husl\")  # Set the color palette\n"
   ]
  },
  {
   "attachments": {},
   "cell_type": "markdown",
   "metadata": {
    "id": "t0wqKSwETugS"
   },
   "source": [
    "# Dataset Overview"
   ]
  },
  {
   "attachments": {},
   "cell_type": "markdown",
   "metadata": {
    "id": "a-MnPZ9_TugX"
   },
   "source": [
    "### 01. Load the dataset"
   ]
  },
  {
   "cell_type": "code",
   "execution_count": 3,
   "metadata": {
    "colab": {
     "base_uri": "https://localhost:8080/",
     "height": 329
    },
    "id": "9A6cGuSeTugZ",
    "outputId": "8f9190e2-5a24-4d74-b0cb-1b472aa778aa"
   },
   "outputs": [],
   "source": [
    "dataset = pd.read_csv('data_preprocessing/yield_df.csv', encoding='utf-8', index_col=[0])\n",
    "dataset = dataset.rename(columns={'hg/ha_yield': 'Crop Yield (hg/ha)', 'Item': 'Crop', 'average_rain_fall_mm_per_year': 'Rainfall (mm/year)', 'pesticides_tonnes': 'Pesticides (tonnes)', 'avg_temp': 'Temperature (Celsius)'})"
   ]
  },
  {
   "attachments": {},
   "cell_type": "markdown",
   "metadata": {},
   "source": [
    "# Data Preprocessing"
   ]
  },
  {
   "attachments": {},
   "cell_type": "markdown",
   "metadata": {},
   "source": [
    "### 02. Handle Categorical Variables"
   ]
  },
  {
   "cell_type": "code",
   "execution_count": 4,
   "metadata": {},
   "outputs": [],
   "source": [
    "# Handle categorical variables\n",
    "# OneHotEncoder\n",
    "encoder = OneHotEncoder(handle_unknown='ignore')\n",
    "\n",
    "# fit and transform the categorical data in Area and Item\n",
    "encoded_data = encoder.fit_transform(dataset[[\"Crop\", 'Area']])\n",
    "\n",
    "# convert the encoded data back into a Pandas DataFrame\n",
    "encoded_df = pd.DataFrame(encoded_data.toarray(), columns=encoder.get_feature_names_out([\"Crop\", 'Area']))\n",
    "df = pd.concat([dataset, encoded_df], axis=1)"
   ]
  },
  {
   "attachments": {},
   "cell_type": "markdown",
   "metadata": {},
   "source": [
    "### 03. Remove Unnecesary Features"
   ]
  },
  {
   "cell_type": "code",
   "execution_count": 5,
   "metadata": {},
   "outputs": [],
   "source": [
    "# Create features and labels (and remove categorical variables)\n",
    "features = df.drop(['Crop Yield (hg/ha)',\"Crop\",'Area', 'Rainfall (mm/year)'], axis=1)\n",
    "labels = df['Crop Yield (hg/ha)']"
   ]
  },
  {
   "attachments": {},
   "cell_type": "markdown",
   "metadata": {},
   "source": [
    "### 04. Split Dataset"
   ]
  },
  {
   "cell_type": "code",
   "execution_count": 6,
   "metadata": {},
   "outputs": [
    {
     "name": "stdout",
     "output_type": "stream",
     "text": [
      "Train: 22593 features, 22593 labels      \n",
      "Test: 5649 features, 5649 labels\n"
     ]
    }
   ],
   "source": [
    "# Create training (80%) and test (20%) sets\n",
    "features_train, features_test , labels_train , labels_test = train_test_split(features, labels, test_size =0.2, random_state=42)\n",
    "# features_train, features_val, labels_train, labels_val = train_test_split(features_train, labels_train, test_size=0.2, random_state=42)\n",
    "\n",
    "print(f'Train: {len(features_train)} features, {len(labels_train)} labels\\\n",
    "      \\nTest: {len(features_test)} features, {len(labels_test)} labels')\n",
    "    # \\nVal: {len(features_val)} features, {len(labels_val)} labels\\')"
   ]
  },
  {
   "attachments": {},
   "cell_type": "markdown",
   "metadata": {
    "id": "nD6HUVgETuhH"
   },
   "source": [
    "# Functions"
   ]
  },
  {
   "attachments": {},
   "cell_type": "markdown",
   "metadata": {
    "id": "-HtzNzkhTuhH"
   },
   "source": [
    "#### Checking Parameters"
   ]
  },
  {
   "cell_type": "code",
   "execution_count": 7,
   "metadata": {
    "id": "cAl7v0FRVVpo"
   },
   "outputs": [],
   "source": [
    "def parameter_check_class(pred, labels_test, features_test):\n",
    "    \"\"\"Determines R2, MAE, RMSE and Adjusted R2 by CLASS\"\"\"\n",
    "    ft_copy = features_test.copy()\n",
    "    lt_copy = labels_test.copy()\n",
    "    # Calculate R^2 and MAE for each class\n",
    "    r2_scores = {}\n",
    "    mae_scores = {}\n",
    "    mae_per_scores = {}\n",
    "    \n",
    "    # Reconvert Items feature into a categorical variable\n",
    "    item_cols = [col for col in ft_copy.columns if col.startswith('Crop_')]\n",
    "    ft_copy['Crop'] = ft_copy[item_cols].idxmax(axis=1).str.replace('Crop_', '')\n",
    "    # Drop the one-hot encoded columns\n",
    "    ft_copy.drop(item_cols, axis=1, inplace=True)\n",
    "    \n",
    "    # Reset index so they match\n",
    "    ft_copy = ft_copy.reset_index(drop=True)\n",
    "    lt_copy = lt_copy.reset_index(drop=True)\n",
    "    \n",
    "    print('\\n')\n",
    "    # Group features by crop type\n",
    "    for crop, group in ft_copy.groupby(['Crop']):\n",
    "        idx = group.index.tolist()\n",
    "        y_true = lt_copy.loc[idx].to_numpy()\n",
    "        r2 = r2_score(y_true, pred[idx])\n",
    "        mae = mean_absolute_error(y_true, pred[idx])\n",
    "\n",
    "        # Calculate the percentage mae\n",
    "        target_range = max(y_true) - min(y_true)\n",
    "        percentage_mae = (mae / target_range) * 100\n",
    "\n",
    "        mae_per_scores[crop] = percentage_mae\n",
    "        r2_scores[crop] = r2\n",
    "        mae_scores[crop] = mae\n",
    "\n",
    "        # print the results\n",
    "        print(f\"{crop}: R^2={r2:.2f}, MAE={mae:.2f}, MAE%={percentage_mae:.2f}%\")\n",
    "\n",
    "    return { 'r2': r2_scores, 'mae':mae_scores, 'mae%': mae_per_scores}"
   ]
  },
  {
   "cell_type": "code",
   "execution_count": 8,
   "metadata": {
    "id": "H5uAztvQTuhI"
   },
   "outputs": [],
   "source": [
    "def parameter_check(pred, labels_test):\n",
    "    \"\"\"Determines r2, mae, rmse and adjusted r2\"\"\"\n",
    "\n",
    "    # Calculate R-squared\n",
    "    r2 = r2_score(labels_test , pred)\n",
    "    print(f\"R^2: {r2:.3f}\")\n",
    "\n",
    "    # Calculate MAE\n",
    "    mae = mean_absolute_error(labels_test, pred)\n",
    "    print(f\"MAE: {mae:.3f}\")\n",
    "\n",
    "    # calculate the percentage mae\n",
    "    target_range = max(labels_test) - min(labels_test)\n",
    "    percentage_mae = (mae / target_range) * 100\n",
    "    print(f\"MAE(%): {percentage_mae:.2f}%\")\n",
    "\n",
    "    # Calculate RMSE\n",
    "    rmse = np.sqrt(mean_squared_error(labels_test, pred))\n",
    "    print(f\"RMSE {rmse:.3f}\")\n",
    "\n",
    "    # Calculate Adjusted R-squared\n",
    "    n = len(labels_test)\n",
    "    p = len(pred)\n",
    "    adj_r2 = 1 - (1 - r2) * (n - 1) / (n - p - 1)\n",
    "    print(f\"Adjusted R^2 {adj_r2:.3f}\")\n",
    "\n",
    "    return { 'r2': r2, 'mae':mae, 'rmse':rmse, 'adj_r2':adj_r2, 'mae%': percentage_mae}"
   ]
  },
  {
   "cell_type": "code",
   "execution_count": 9,
   "metadata": {},
   "outputs": [],
   "source": [
    "def plot_learning_curves(best_model, features_train, labels_train, cv, title):\n",
    "    \"\"\"Plot the learning curve of a model\"\"\"\n",
    "    \n",
    "    train_sizes, train_scores, val_scores = learning_curve(best_model, features_train, labels_train, \n",
    "                cv=cv, n_jobs=-1, shuffle=True, random_state=42)\n",
    "\n",
    "    train_scores_mean = np.mean(train_scores, axis=1)\n",
    "    train_scores_std = np.std(train_scores, axis=1)\n",
    "    val_scores_mean = np.mean(val_scores, axis=1)\n",
    "    val_scores_std = np.std(val_scores, axis=1)\n",
    "\n",
    "    plt.fill_between(train_sizes, train_scores_mean - train_scores_std,\n",
    "                    train_scores_mean + train_scores_std, alpha=0.1,\n",
    "                    color=\"hotpink\")\n",
    "    plt.fill_between(train_sizes, val_scores_mean - val_scores_std,\n",
    "                    val_scores_mean + val_scores_std, alpha=0.1, color=\"blue\")\n",
    "\n",
    "    plt.plot(train_sizes, train_scores_mean, 'o-', color=\"hotpink\",\n",
    "            label=\"Train\")\n",
    "    plt.plot(train_sizes, val_scores_mean, 'o-', color=\"blue\",\n",
    "            label=\"Val\")\n",
    "    plt.title(f'Model {title}')\n",
    "    plt.legend(loc=\"best\")\n",
    "    plt.show()"
   ]
  },
  {
   "attachments": {},
   "cell_type": "markdown",
   "metadata": {},
   "source": [
    "### 05. Paramter Grid"
   ]
  },
  {
   "attachments": {},
   "cell_type": "markdown",
   "metadata": {
    "id": "_UEhuvDsVyFh"
   },
   "source": [
    "### Hyperparameters"
   ]
  },
  {
   "cell_type": "code",
   "execution_count": 10,
   "metadata": {
    "id": "6vPOgZtrTuhN"
   },
   "outputs": [],
   "source": [
    "# Parameter grids to search over using gridsearch\n",
    "params = {\n",
    "    'rgs__n_estimators': [100,200,300],\n",
    "    'rgs__max_depth': [3, 6, 12],\n",
    "    'rgs__learning_rate': [0.05, 0.1, 0.20],\n",
    "    'rgs__min_child_weight': [1, 10],\n",
    "    'rgs__gamma' : [0,0.1,0.5],\n",
    "    'rgs__reg_alpha' : [0, 0.1, 0.5],\n",
    "    'rgs__reg_lambda': [0, 0.1, 0.5],\n",
    "}"
   ]
  },
  {
   "cell_type": "code",
   "execution_count": 35,
   "metadata": {},
   "outputs": [
    {
     "data": {
      "text/html": [
       "<div>\n",
       "<style scoped>\n",
       "    .dataframe tbody tr th:only-of-type {\n",
       "        vertical-align: middle;\n",
       "    }\n",
       "\n",
       "    .dataframe tbody tr th {\n",
       "        vertical-align: top;\n",
       "    }\n",
       "\n",
       "    .dataframe thead th {\n",
       "        text-align: right;\n",
       "    }\n",
       "</style>\n",
       "<table border=\"1\" class=\"dataframe\">\n",
       "  <thead>\n",
       "    <tr style=\"text-align: right;\">\n",
       "      <th></th>\n",
       "      <th>0</th>\n",
       "      <th>1</th>\n",
       "      <th>2</th>\n",
       "    </tr>\n",
       "  </thead>\n",
       "  <tbody>\n",
       "    <tr>\n",
       "      <th>rgs__n_estimators</th>\n",
       "      <td>300.00</td>\n",
       "      <td>NaN</td>\n",
       "      <td>NaN</td>\n",
       "    </tr>\n",
       "    <tr>\n",
       "      <th>rgs__max_depth</th>\n",
       "      <td>3.00</td>\n",
       "      <td>6.0</td>\n",
       "      <td>12.0</td>\n",
       "    </tr>\n",
       "    <tr>\n",
       "      <th>rgs__learning_rate</th>\n",
       "      <td>0.05</td>\n",
       "      <td>0.1</td>\n",
       "      <td>0.2</td>\n",
       "    </tr>\n",
       "    <tr>\n",
       "      <th>rgs__min_child_weight</th>\n",
       "      <td>1.00</td>\n",
       "      <td>10.0</td>\n",
       "      <td>NaN</td>\n",
       "    </tr>\n",
       "    <tr>\n",
       "      <th>rgs__gamma</th>\n",
       "      <td>0.00</td>\n",
       "      <td>0.1</td>\n",
       "      <td>0.5</td>\n",
       "    </tr>\n",
       "    <tr>\n",
       "      <th>rgs__reg_alpha</th>\n",
       "      <td>0.00</td>\n",
       "      <td>0.1</td>\n",
       "      <td>0.5</td>\n",
       "    </tr>\n",
       "    <tr>\n",
       "      <th>rgs__reg_lambda</th>\n",
       "      <td>0.00</td>\n",
       "      <td>0.1</td>\n",
       "      <td>0.5</td>\n",
       "    </tr>\n",
       "  </tbody>\n",
       "</table>\n",
       "</div>"
      ],
      "text/plain": [
       "                            0     1     2\n",
       "rgs__n_estimators      300.00   NaN   NaN\n",
       "rgs__max_depth           3.00   6.0  12.0\n",
       "rgs__learning_rate       0.05   0.1   0.2\n",
       "rgs__min_child_weight    1.00  10.0   NaN\n",
       "rgs__gamma               0.00   0.1   0.5\n",
       "rgs__reg_alpha           0.00   0.1   0.5\n",
       "rgs__reg_lambda          0.00   0.1   0.5"
      ]
     },
     "execution_count": 35,
     "metadata": {},
     "output_type": "execute_result"
    }
   ],
   "source": [
    "pd.DataFrame.from_dict(params, orient='index')"
   ]
  },
  {
   "attachments": {},
   "cell_type": "markdown",
   "metadata": {
    "id": "pQoAOcoxTuhK"
   },
   "source": [
    "### Pipeline"
   ]
  },
  {
   "cell_type": "code",
   "execution_count": 11,
   "metadata": {
    "id": "acGtI3kXTuhN"
   },
   "outputs": [],
   "source": [
    "def build_pipeline(params, regressor, features_train, labels_train, features_test, labels_test):\n",
    "    # Setting up a pipeline\n",
    "    pipe = Pipeline([\n",
    "        ('scaler', MinMaxScaler()),\n",
    "        ('rgs', regressor)\n",
    "    ])\n",
    "\n",
    "    # Cross validation\n",
    "    cv = RepeatedKFold(n_splits=5, n_repeats=3, random_state=42)\n",
    "\n",
    "    # Set up the grid search\n",
    "    gs = GridSearchCV(estimator=pipe,param_grid=params,n_jobs=-1, verbose=10, cv=cv,scoring='r2')\n",
    "\n",
    "    # Fit gs to training data\n",
    "    gs_results = gs.fit(features_train, labels_train)\n",
    "\n",
    "    # Plot learning curves\n",
    "    plot_learning_curves(gs.best_estimator_, features_train, labels_train, cv, 'XGBRegressor()')\n",
    "    \n",
    "    # Find best fit\n",
    "    print(f'Best score: {gs_results.best_score_}')\n",
    "    print(f'Best parameters: \\n{gs_results.best_params_}')\n",
    "\n",
    "    # Get score\n",
    "    print(f'\\nScore: {gs.score(features_test, labels_test)}')\n",
    "\n",
    "    # Predict results\n",
    "    labels_preds = gs.predict(features_test)\n",
    "    best_par = parameter_check(labels_preds, labels_test)\n",
    "    best_par_class = parameter_check_class(labels_preds, labels_test, features_test)\n",
    "    \n",
    "    return best_par, best_par_class, gs_results "
   ]
  },
  {
   "attachments": {},
   "cell_type": "markdown",
   "metadata": {
    "id": "9WPm__iQTuhH"
   },
   "source": [
    "# Model Training"
   ]
  },
  {
   "attachments": {},
   "cell_type": "markdown",
   "metadata": {
    "id": "XjmvIKMMTuhg"
   },
   "source": [
    "### 06. Hyperparameter Tuning"
   ]
  },
  {
   "attachments": {},
   "cell_type": "markdown",
   "metadata": {
    "id": "kWf7gsA5sQLO"
   },
   "source": [
    "X-Gradient Boost"
   ]
  },
  {
   "cell_type": "code",
   "execution_count": 12,
   "metadata": {
    "id": "NVkOYBossP0V"
   },
   "outputs": [
    {
     "name": "stdout",
     "output_type": "stream",
     "text": [
      "Fitting 15 folds for each of 486 candidates, totalling 7290 fits\n"
     ]
    },
    {
     "data": {
      "image/png": "[encoded data removed]",
      "text/plain": [
       "<Figure size 640x480 with 1 Axes>"
      ]
     },
     "metadata": {},
     "output_type": "display_data"
    },
    {
     "name": "stdout",
     "output_type": "stream",
     "text": [
      "Best score: 0.9857008649293898\n",
      "Best parameters: \n",
      "{'rgs__gamma': 0.5, 'rgs__learning_rate': 0.2, 'rgs__max_depth': 12, 'rgs__min_child_weight': 1, 'rgs__n_estimators': 300, 'rgs__reg_alpha': 0.5, 'rgs__reg_lambda': 0.5}\n",
      "\n",
      "Score: 0.988286079155458\n",
      "R^2: 0.988\n",
      "MAE: 3661.640\n",
      "MAE(%): 0.76%\n",
      "RMSE 9217.860\n",
      "Adjusted R^2 67.160\n",
      "\n",
      "\n",
      "Cassava: R^2=0.99, MAE=4798.50, MAE%=1.29%\n",
      "Maize: R^2=0.97, MAE=2404.51, MAE%=1.92%\n",
      "Plantains and others: R^2=0.92, MAE=8117.96, MAE%=2.04%\n",
      "Potatoes: R^2=0.97, MAE=8693.65, MAE%=1.84%\n",
      "Rice, paddy: R^2=0.96, MAE=2102.58, MAE%=2.12%\n",
      "Sorghum: R^2=0.94, MAE=1872.06, MAE%=2.48%\n",
      "Soybeans: R^2=0.91, MAE=1195.22, MAE%=2.89%\n",
      "Sweet potatoes: R^2=0.98, MAE=4859.90, MAE%=1.44%\n",
      "Wheat: R^2=0.95, MAE=2046.19, MAE%=2.13%\n",
      "Yams: R^2=0.99, MAE=3473.81, MAE%=1.63%\n"
     ]
    }
   ],
   "source": [
    "best_par_xgb, best_par_xgb_class, score_xgb = build_pipeline(params, xgb.XGBRegressor(), features_train, labels_train, features_test, labels_test)"
   ]
  },
  {
   "cell_type": "code",
   "execution_count": 31,
   "metadata": {},
   "outputs": [
    {
     "data": {
      "text/html": [
       "<div>\n",
       "<style scoped>\n",
       "    .dataframe tbody tr th:only-of-type {\n",
       "        vertical-align: middle;\n",
       "    }\n",
       "\n",
       "    .dataframe tbody tr th {\n",
       "        vertical-align: top;\n",
       "    }\n",
       "\n",
       "    .dataframe thead th {\n",
       "        text-align: right;\n",
       "    }\n",
       "</style>\n",
       "<table border=\"1\" class=\"dataframe\">\n",
       "  <thead>\n",
       "    <tr style=\"text-align: right;\">\n",
       "      <th></th>\n",
       "      <th>r2</th>\n",
       "      <th>mae</th>\n",
       "      <th>rmse</th>\n",
       "      <th>adj_r2</th>\n",
       "      <th>mae%</th>\n",
       "    </tr>\n",
       "  </thead>\n",
       "  <tbody>\n",
       "    <tr>\n",
       "      <th>Model</th>\n",
       "      <td>0.988286</td>\n",
       "      <td>3661.640046</td>\n",
       "      <td>9217.8598</td>\n",
       "      <td>67.160225</td>\n",
       "      <td>0.75692</td>\n",
       "    </tr>\n",
       "  </tbody>\n",
       "</table>\n",
       "</div>"
      ],
      "text/plain": [
       "             r2          mae       rmse     adj_r2     mae%\n",
       "Model  0.988286  3661.640046  9217.8598  67.160225  0.75692"
      ]
     },
     "execution_count": 31,
     "metadata": {},
     "output_type": "execute_result"
    }
   ],
   "source": [
    "pd.DataFrame.from_dict(best_par_xgb, orient='index', columns=['Model']).T"
   ]
  },
  {
   "cell_type": "code",
   "execution_count": 29,
   "metadata": {},
   "outputs": [
    {
     "data": {
      "text/html": [
       "<div>\n",
       "<style scoped>\n",
       "    .dataframe tbody tr th:only-of-type {\n",
       "        vertical-align: middle;\n",
       "    }\n",
       "\n",
       "    .dataframe tbody tr th {\n",
       "        vertical-align: top;\n",
       "    }\n",
       "\n",
       "    .dataframe thead th {\n",
       "        text-align: right;\n",
       "    }\n",
       "</style>\n",
       "<table border=\"1\" class=\"dataframe\">\n",
       "  <thead>\n",
       "    <tr style=\"text-align: right;\">\n",
       "      <th></th>\n",
       "      <th>r2</th>\n",
       "      <th>mae</th>\n",
       "      <th>mae%</th>\n",
       "    </tr>\n",
       "  </thead>\n",
       "  <tbody>\n",
       "    <tr>\n",
       "      <th>Cassava</th>\n",
       "      <td>0.985485</td>\n",
       "      <td>4798.499921</td>\n",
       "      <td>1.285193</td>\n",
       "    </tr>\n",
       "    <tr>\n",
       "      <th>Maize</th>\n",
       "      <td>0.970338</td>\n",
       "      <td>2404.510434</td>\n",
       "      <td>1.916632</td>\n",
       "    </tr>\n",
       "    <tr>\n",
       "      <th>Plantains and others</th>\n",
       "      <td>0.924819</td>\n",
       "      <td>8117.963816</td>\n",
       "      <td>2.044029</td>\n",
       "    </tr>\n",
       "    <tr>\n",
       "      <th>Potatoes</th>\n",
       "      <td>0.965109</td>\n",
       "      <td>8693.647797</td>\n",
       "      <td>1.841340</td>\n",
       "    </tr>\n",
       "    <tr>\n",
       "      <th>Rice, paddy</th>\n",
       "      <td>0.962729</td>\n",
       "      <td>2102.583525</td>\n",
       "      <td>2.116531</td>\n",
       "    </tr>\n",
       "    <tr>\n",
       "      <th>Sorghum</th>\n",
       "      <td>0.943424</td>\n",
       "      <td>1872.056600</td>\n",
       "      <td>2.482109</td>\n",
       "    </tr>\n",
       "    <tr>\n",
       "      <th>Soybeans</th>\n",
       "      <td>0.908057</td>\n",
       "      <td>1195.223740</td>\n",
       "      <td>2.886386</td>\n",
       "    </tr>\n",
       "    <tr>\n",
       "      <th>Sweet potatoes</th>\n",
       "      <td>0.976809</td>\n",
       "      <td>4859.903446</td>\n",
       "      <td>1.435425</td>\n",
       "    </tr>\n",
       "    <tr>\n",
       "      <th>Wheat</th>\n",
       "      <td>0.951262</td>\n",
       "      <td>2046.192248</td>\n",
       "      <td>2.126444</td>\n",
       "    </tr>\n",
       "    <tr>\n",
       "      <th>Yams</th>\n",
       "      <td>0.986989</td>\n",
       "      <td>3473.810883</td>\n",
       "      <td>1.626925</td>\n",
       "    </tr>\n",
       "  </tbody>\n",
       "</table>\n",
       "</div>"
      ],
      "text/plain": [
       "                            r2          mae      mae%\n",
       "Cassava               0.985485  4798.499921  1.285193\n",
       "Maize                 0.970338  2404.510434  1.916632\n",
       "Plantains and others  0.924819  8117.963816  2.044029\n",
       "Potatoes              0.965109  8693.647797  1.841340\n",
       "Rice, paddy           0.962729  2102.583525  2.116531\n",
       "Sorghum               0.943424  1872.056600  2.482109\n",
       "Soybeans              0.908057  1195.223740  2.886386\n",
       "Sweet potatoes        0.976809  4859.903446  1.435425\n",
       "Wheat                 0.951262  2046.192248  2.126444\n",
       "Yams                  0.986989  3473.810883  1.626925"
      ]
     },
     "execution_count": 29,
     "metadata": {},
     "output_type": "execute_result"
    }
   ],
   "source": [
    "pd.DataFrame.from_dict(best_par_xgb_class, orient='index').T\n"
   ]
  },
  {
   "cell_type": "code",
   "execution_count": null,
   "metadata": {},
   "outputs": [],
   "source": []
  }
 ],
 "metadata": {
  "colab": {
   "provenance": []
  },
  "kernelspec": {
   "display_name": ".venv",
   "language": "python",
   "name": "python3"
  },
  "language_info": {
   "codemirror_mode": {
    "name": "ipython",
    "version": 3
   },
   "file_extension": ".py",
   "mimetype": "text/x-python",
   "name": "python",
   "nbconvert_exporter": "python",
   "pygments_lexer": "ipython3",
   "version": "3.10.9"
  },
  "vscode": {
   "interpreter": {
    "hash": "b57c1bdcf2f75a772382c2c6b67d75b5655ca9f267036d5d4b2c3177e44ba38d"
   }
  }
 },
 "nbformat": 4,
 "nbformat_minor": 0
}
