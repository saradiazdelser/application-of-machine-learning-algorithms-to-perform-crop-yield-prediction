{
  "cells": [
    {
      "cell_type": "markdown",
      "metadata": {
        "id": "pAveNqyJTugF"
      },
      "source": [
        "## Imports"
      ]
    },
    {
      "cell_type": "code",
      "execution_count": null,
      "metadata": {
        "colab": {
          "base_uri": "https://localhost:8080/",
          "height": 17
        },
        "id": "laP_Hx1DTugL",
        "outputId": "58e5cc8f-a87d-43a8-cd15-14a7fdafeb3b"
      },
      "outputs": [
        {
          "ename": "",
          "evalue": "",
          "output_type": "error",
          "traceback": [
            "\u001b[1;31mRunning cells with 'data_preprocessing.venv' requires ipykernel package.\n",
            "\u001b[1;31mRun the following command to install 'ipykernel' into the Python environment. \n",
            "\u001b[1;31mCommand: 'c:/Users/diazsa/Documents/PROJECTS/TFM/Crop_Yield_Predicction_TFM/data_preprocessing.venv/Scripts/python.exe -m pip install ipykernel -U --force-reinstall'"
          ]
        }
      ],
      "source": [
        "import pandas as pd\n",
        "import matplotlib.pyplot as plt\n",
        "\n",
        "import seaborn as sns\n",
        "import cufflinks as cf\n",
        "import numpy as np\n",
        "\n",
        "from sklearn.metrics import mean_absolute_error, mean_squared_error, r2_score\n",
        "\n",
        "from sklearn.model_selection import train_test_split\n",
        "from sklearn.pipeline import Pipeline\n",
        "from sklearn.model_selection import GridSearchCV\n",
        "\n",
        "from sklearn.model_selection import RepeatedKFold\n",
        "from sklearn.model_selection import KFold\n",
        "\n",
        "from sklearn.preprocessing import MinMaxScaler\n",
        "from sklearn.preprocessing import OneHotEncoder\n",
        "\n",
        "from sklearn.svm import SVR\n",
        "from sklearn.ensemble import RandomForestRegressor\n",
        "from sklearn.ensemble import AdaBoostRegressor\n",
        "# from sklearn.ensemble import GradientBoostingRegressor\n",
        "from sklearn.linear_model import ElasticNet\n",
        "from sklearn.linear_model import SGDRegressor\n",
        "# from sklearn.linear_model import BayesianRidge\n",
        "# from catboost import CatBoostRegressor\n",
        "# from sklearn.kernel_ridge import KernelRidge\n",
        "from xgboost.sklearn import XGBRegressor\n",
        "from lightgbm import LGBMRegressor\n",
        "\n",
        "\n",
        "import plotly.graph_objects as px\n",
        "\n",
        "\n",
        "# Int cufflinks\n",
        "# making all charts public and setting a global theme\n",
        "cf.set_config_file(theme='ggplot',offline=True)\n",
        "\n",
        "# Ignore warnings\n",
        "import warnings\n",
        "warnings.filterwarnings(\"ignore\")\n",
        "\n",
        "# Set matplotlib in Darkmode\n",
        "# plt.style.use('light_background')\n",
        "\n",
        "# Set Pandas to display all columsn\n",
        "pd.set_option(\"display.max.columns\", None)\n"
      ]
    },
    {
      "cell_type": "markdown",
      "metadata": {
        "id": "t0wqKSwETugS"
      },
      "source": [
        "# Dataset Overview"
      ]
    },
    {
      "cell_type": "markdown",
      "metadata": {
        "id": "a-MnPZ9_TugX"
      },
      "source": [
        "### 01. Load the dataset"
      ]
    },
    {
      "cell_type": "code",
      "execution_count": null,
      "metadata": {
        "id": "9A6cGuSeTugZ"
      },
      "outputs": [],
      "source": [
        "dataset = pd.read_csv('yield_df.csv', encoding='utf-8', index_col=[0])"
      ]
    },
    {
      "cell_type": "markdown",
      "metadata": {
        "id": "3Dq2jrN-Tugb"
      },
      "source": [
        "### 02. Explore the dataset"
      ]
    },
    {
      "cell_type": "markdown",
      "metadata": {
        "id": "mr8zRA1WTugd"
      },
      "source": [
        "Explore files"
      ]
    },
    {
      "cell_type": "code",
      "execution_count": null,
      "metadata": {
        "colab": {
          "base_uri": "https://localhost:8080/"
        },
        "id": "6ALrwxRNTugq",
        "outputId": "3e5d16d1-9fba-4bb7-cf80-7cad9b1f6793"
      },
      "outputs": [
        {
          "name": "stdout",
          "output_type": "stream",
          "text": [
            "<class 'pandas.core.frame.DataFrame'>\n",
            "Int64Index: 28242 entries, 0 to 28241\n",
            "Data columns (total 7 columns):\n",
            " #   Column                         Non-Null Count  Dtype  \n",
            "---  ------                         --------------  -----  \n",
            " 0   Area                           28242 non-null  object \n",
            " 1   Item                           28242 non-null  object \n",
            " 2   Year                           28242 non-null  int64  \n",
            " 3   hg/ha_yield                    28242 non-null  int64  \n",
            " 4   average_rain_fall_mm_per_year  28242 non-null  float64\n",
            " 5   pesticides_tonnes              28242 non-null  float64\n",
            " 6   avg_temp                       28242 non-null  float64\n",
            "dtypes: float64(3), int64(2), object(2)\n",
            "memory usage: 1.7+ MB\n"
          ]
        }
      ],
      "source": [
        "# Whole dataset\n",
        "dataset.info()"
      ]
    },
    {
      "cell_type": "markdown",
      "metadata": {
        "id": "Pbdmop8tTugs"
      },
      "source": [
        "Select files (<i>yield_df.csv</i>)"
      ]
    },
    {
      "cell_type": "code",
      "execution_count": null,
      "metadata": {
        "colab": {
          "base_uri": "https://localhost:8080/",
          "height": 206
        },
        "id": "kCE3MC9qTugu",
        "outputId": "4d4874ba-4eeb-479c-e872-2bdbcba6232a"
      },
      "outputs": [
        {
          "data": {
            "text/html": [
              "\n",
              "  <div id=\"df-c9ba7cb4-7e24-433d-ba42-10aaf8c6342b\">\n",
              "    <div class=\"colab-df-container\">\n",
              "      <div>\n",
              "<style scoped>\n",
              "    .dataframe tbody tr th:only-of-type {\n",
              "        vertical-align: middle;\n",
              "    }\n",
              "\n",
              "    .dataframe tbody tr th {\n",
              "        vertical-align: top;\n",
              "    }\n",
              "\n",
              "    .dataframe thead th {\n",
              "        text-align: right;\n",
              "    }\n",
              "</style>\n",
              "<table border=\"1\" class=\"dataframe\">\n",
              "  <thead>\n",
              "    <tr style=\"text-align: right;\">\n",
              "      <th></th>\n",
              "      <th>Area</th>\n",
              "      <th>Item</th>\n",
              "      <th>Year</th>\n",
              "      <th>hg/ha_yield</th>\n",
              "      <th>average_rain_fall_mm_per_year</th>\n",
              "      <th>pesticides_tonnes</th>\n",
              "      <th>avg_temp</th>\n",
              "    </tr>\n",
              "  </thead>\n",
              "  <tbody>\n",
              "    <tr>\n",
              "      <th>0</th>\n",
              "      <td>Albania</td>\n",
              "      <td>Maize</td>\n",
              "      <td>1990</td>\n",
              "      <td>36613</td>\n",
              "      <td>1485.0</td>\n",
              "      <td>121.0</td>\n",
              "      <td>16.37</td>\n",
              "    </tr>\n",
              "    <tr>\n",
              "      <th>1</th>\n",
              "      <td>Albania</td>\n",
              "      <td>Potatoes</td>\n",
              "      <td>1990</td>\n",
              "      <td>66667</td>\n",
              "      <td>1485.0</td>\n",
              "      <td>121.0</td>\n",
              "      <td>16.37</td>\n",
              "    </tr>\n",
              "    <tr>\n",
              "      <th>2</th>\n",
              "      <td>Albania</td>\n",
              "      <td>Rice, paddy</td>\n",
              "      <td>1990</td>\n",
              "      <td>23333</td>\n",
              "      <td>1485.0</td>\n",
              "      <td>121.0</td>\n",
              "      <td>16.37</td>\n",
              "    </tr>\n",
              "    <tr>\n",
              "      <th>3</th>\n",
              "      <td>Albania</td>\n",
              "      <td>Sorghum</td>\n",
              "      <td>1990</td>\n",
              "      <td>12500</td>\n",
              "      <td>1485.0</td>\n",
              "      <td>121.0</td>\n",
              "      <td>16.37</td>\n",
              "    </tr>\n",
              "    <tr>\n",
              "      <th>4</th>\n",
              "      <td>Albania</td>\n",
              "      <td>Soybeans</td>\n",
              "      <td>1990</td>\n",
              "      <td>7000</td>\n",
              "      <td>1485.0</td>\n",
              "      <td>121.0</td>\n",
              "      <td>16.37</td>\n",
              "    </tr>\n",
              "  </tbody>\n",
              "</table>\n",
              "</div>\n",
              "      <button class=\"colab-df-convert\" onclick=\"convertToInteractive('df-c9ba7cb4-7e24-433d-ba42-10aaf8c6342b')\"\n",
              "              title=\"Convert this dataframe to an interactive table.\"\n",
              "              style=\"display:none;\">\n",
              "        \n",
              "  <svg xmlns=\"http://www.w3.org/2000/svg\" height=\"24px\"viewBox=\"0 0 24 24\"\n",
              "       width=\"24px\">\n",
              "    <path d=\"M0 0h24v24H0V0z\" fill=\"none\"/>\n",
              "    <path d=\"M18.56 5.44l.94 2.06.94-2.06 2.06-.94-2.06-.94-.94-2.06-.94 2.06-2.06.94zm-11 1L8.5 8.5l.94-2.06 2.06-.94-2.06-.94L8.5 2.5l-.94 2.06-2.06.94zm10 10l.94 2.06.94-2.06 2.06-.94-2.06-.94-.94-2.06-.94 2.06-2.06.94z\"/><path d=\"M17.41 7.96l-1.37-1.37c-.4-.4-.92-.59-1.43-.59-.52 0-1.04.2-1.43.59L10.3 9.45l-7.72 7.72c-.78.78-.78 2.05 0 2.83L4 21.41c.39.39.9.59 1.41.59.51 0 1.02-.2 1.41-.59l7.78-7.78 2.81-2.81c.8-.78.8-2.07 0-2.86zM5.41 20L4 18.59l7.72-7.72 1.47 1.35L5.41 20z\"/>\n",
              "  </svg>\n",
              "      </button>\n",
              "      \n",
              "  <style>\n",
              "    .colab-df-container {\n",
              "      display:flex;\n",
              "      flex-wrap:wrap;\n",
              "      gap: 12px;\n",
              "    }\n",
              "\n",
              "    .colab-df-convert {\n",
              "      background-color: #E8F0FE;\n",
              "      border: none;\n",
              "      border-radius: 50%;\n",
              "      cursor: pointer;\n",
              "      display: none;\n",
              "      fill: #1967D2;\n",
              "      height: 32px;\n",
              "      padding: 0 0 0 0;\n",
              "      width: 32px;\n",
              "    }\n",
              "\n",
              "    .colab-df-convert:hover {\n",
              "      background-color: #E2EBFA;\n",
              "      box-shadow: 0px 1px 2px rgba(60, 64, 67, 0.3), 0px 1px 3px 1px rgba(60, 64, 67, 0.15);\n",
              "      fill: #174EA6;\n",
              "    }\n",
              "\n",
              "    [theme=dark] .colab-df-convert {\n",
              "      background-color: #3B4455;\n",
              "      fill: #D2E3FC;\n",
              "    }\n",
              "\n",
              "    [theme=dark] .colab-df-convert:hover {\n",
              "      background-color: #434B5C;\n",
              "      box-shadow: 0px 1px 3px 1px rgba(0, 0, 0, 0.15);\n",
              "      filter: drop-shadow(0px 1px 2px rgba(0, 0, 0, 0.3));\n",
              "      fill: #FFFFFF;\n",
              "    }\n",
              "  </style>\n",
              "\n",
              "      <script>\n",
              "        const buttonEl =\n",
              "          document.querySelector('#df-c9ba7cb4-7e24-433d-ba42-10aaf8c6342b button.colab-df-convert');\n",
              "        buttonEl.style.display =\n",
              "          google.colab.kernel.accessAllowed ? 'block' : 'none';\n",
              "\n",
              "        async function convertToInteractive(key) {\n",
              "          const element = document.querySelector('#df-c9ba7cb4-7e24-433d-ba42-10aaf8c6342b');\n",
              "          const dataTable =\n",
              "            await google.colab.kernel.invokeFunction('convertToInteractive',\n",
              "                                                     [key], {});\n",
              "          if (!dataTable) return;\n",
              "\n",
              "          const docLinkHtml = 'Like what you see? Visit the ' +\n",
              "            '<a target=\"_blank\" href=https://colab.research.google.com/notebooks/data_table.ipynb>data table notebook</a>'\n",
              "            + ' to learn more about interactive tables.';\n",
              "          element.innerHTML = '';\n",
              "          dataTable['output_type'] = 'display_data';\n",
              "          await google.colab.output.renderOutput(dataTable, element);\n",
              "          const docLink = document.createElement('div');\n",
              "          docLink.innerHTML = docLinkHtml;\n",
              "          element.appendChild(docLink);\n",
              "        }\n",
              "      </script>\n",
              "    </div>\n",
              "  </div>\n",
              "  "
            ],
            "text/plain": [
              "      Area         Item  Year  hg/ha_yield  average_rain_fall_mm_per_year  \\\n",
              "0  Albania        Maize  1990        36613                         1485.0   \n",
              "1  Albania     Potatoes  1990        66667                         1485.0   \n",
              "2  Albania  Rice, paddy  1990        23333                         1485.0   \n",
              "3  Albania      Sorghum  1990        12500                         1485.0   \n",
              "4  Albania     Soybeans  1990         7000                         1485.0   \n",
              "\n",
              "   pesticides_tonnes  avg_temp  \n",
              "0              121.0     16.37  \n",
              "1              121.0     16.37  \n",
              "2              121.0     16.37  \n",
              "3              121.0     16.37  \n",
              "4              121.0     16.37  "
            ]
          },
          "execution_count": 10,
          "metadata": {},
          "output_type": "execute_result"
        }
      ],
      "source": [
        "dataset.head(5)"
      ]
    },
    {
      "cell_type": "code",
      "execution_count": null,
      "metadata": {
        "colab": {
          "base_uri": "https://localhost:8080/"
        },
        "id": "f44kotAnTug3",
        "outputId": "d831a077-4db1-428d-ce00-7e192d9ffb75"
      },
      "outputs": [
        {
          "data": {
            "text/plain": [
              "Index(['Area', 'Item', 'Year', 'hg/ha_yield', 'average_rain_fall_mm_per_year',\n",
              "       'pesticides_tonnes', 'avg_temp'],\n",
              "      dtype='object')"
            ]
          },
          "execution_count": 11,
          "metadata": {},
          "output_type": "execute_result"
        }
      ],
      "source": [
        "# Columns\n",
        "columns = list(dataset.columns)\n",
        "dataset.columns"
      ]
    },
    {
      "cell_type": "code",
      "execution_count": null,
      "metadata": {
        "colab": {
          "base_uri": "https://localhost:8080/"
        },
        "id": "BFjp5RObTug6",
        "outputId": "866417e1-173c-40e4-ef95-62f90641533c"
      },
      "outputs": [
        {
          "data": {
            "text/plain": [
              "array(['Maize', 'Potatoes', 'Rice, paddy', 'Sorghum', 'Soybeans', 'Wheat',\n",
              "       'Cassava', 'Sweet potatoes', 'Plantains and others', 'Yams'],\n",
              "      dtype=object)"
            ]
          },
          "execution_count": 12,
          "metadata": {},
          "output_type": "execute_result"
        }
      ],
      "source": [
        "# Crops available \n",
        "dataset.Item.unique()\n"
      ]
    },
    {
      "cell_type": "code",
      "execution_count": null,
      "metadata": {
        "colab": {
          "base_uri": "https://localhost:8080/"
        },
        "id": "kxDCMgjgTug9",
        "outputId": "15922524-096b-4a0a-96cc-145f1df387c6"
      },
      "outputs": [
        {
          "data": {
            "text/plain": [
              "Area                             False\n",
              "Item                             False\n",
              "Year                             False\n",
              "hg/ha_yield                      False\n",
              "average_rain_fall_mm_per_year    False\n",
              "pesticides_tonnes                False\n",
              "avg_temp                         False\n",
              "dtype: bool"
            ]
          },
          "execution_count": 13,
          "metadata": {},
          "output_type": "execute_result"
        }
      ],
      "source": [
        "# Shows NA or NAN\n",
        "dataset.isna().any()"
      ]
    },
    {
      "cell_type": "code",
      "execution_count": null,
      "metadata": {
        "id": "L0b7Af51dZEd"
      },
      "outputs": [],
      "source": [
        "dataset.describe()"
      ]
    },
    {
      "cell_type": "code",
      "execution_count": null,
      "metadata": {
        "colab": {
          "base_uri": "https://localhost:8080/"
        },
        "id": "m0PIB4WGTug_",
        "outputId": "9f36f0b4-e7ab-4f46-f837-aab2baa22182"
      },
      "outputs": [
        {
          "data": {
            "text/plain": [
              "Year                             0.012243\n",
              "hg/ha_yield                      1.793229\n",
              "average_rain_fall_mm_per_year    0.853832\n",
              "pesticides_tonnes                3.490289\n",
              "avg_temp                        -0.741582\n",
              "dtype: float64"
            ]
          },
          "execution_count": 14,
          "metadata": {},
          "output_type": "execute_result"
        }
      ],
      "source": [
        "# Skew \n",
        "dataset.skew(numeric_only=True)"
      ]
    },
    {
      "cell_type": "markdown",
      "metadata": {
        "id": "iTwpAcmChCYQ"
      },
      "source": [
        "Train model for different items separately?"
      ]
    },
    {
      "cell_type": "code",
      "execution_count": null,
      "metadata": {
        "id": "ZeA36pKog-Cn"
      },
      "outputs": [],
      "source": [
        "dataset.groupby('Item').count()\n",
        "\n"
      ]
    },
    {
      "cell_type": "markdown",
      "metadata": {
        "id": "HntfKoRETug_"
      },
      "source": [
        "### Plot Data"
      ]
    },
    {
      "cell_type": "markdown",
      "metadata": {
        "id": "9qPqTsKPTug_"
      },
      "source": [
        "#### 03. Plot all variables"
      ]
    },
    {
      "cell_type": "code",
      "execution_count": null,
      "metadata": {
        "colab": {
          "base_uri": "https://localhost:8080/",
          "height": 296
        },
        "id": "4tfy8sGsTuhA",
        "outputId": "f0e0cadb-97be-4dfc-f367-37d492a9f0f1"
      },
      "outputs": [
        {
          "data": {
            "text/plain": [
              "<matplotlib.axes._subplots.AxesSubplot at 0x7f89a1bda190>"
            ]
          },
          "execution_count": 15,
          "metadata": {},
          "output_type": "execute_result"
        },
        {
          "data": {
            "image/png": "[encoded data removed]",
            "text/plain": [
              "<Figure size 432x288 with 1 Axes>"
            ]
          },
          "metadata": {},
          "output_type": "display_data"
        }
      ],
      "source": [
        "dataset.plot(x='Year')"
      ]
    },
    {
      "cell_type": "code",
      "execution_count": null,
      "metadata": {
        "colab": {
          "base_uri": "https://localhost:8080/",
          "height": 318
        },
        "id": "4zbDU_AsWeGO",
        "outputId": "ea68b060-2e39-44ae-8a2a-9fc3ec58f001"
      },
      "outputs": [
        {
          "data": {
            "text/plain": [
              "(1.0, 100.0)"
            ]
          },
          "execution_count": 16,
          "metadata": {},
          "output_type": "execute_result"
        },
        {
          "data": {
            "text/plain": [
              "<Figure size 1440x576 with 0 Axes>"
            ]
          },
          "metadata": {},
          "output_type": "display_data"
        },
        {
          "data": {
            "image/png": "[encoded data removed]",
            "text/plain": [
              "<Figure size 432x288 with 2 Axes>"
            ]
          },
          "metadata": {},
          "output_type": "display_data"
        }
      ],
      "source": [
        "# Plot all variables against time\n",
        "plt.figure(figsize=(20,8))\n",
        "ax = dataset.plot.line(secondary_y=['avg_temp','average_rain_fall_mm_per_year'], x='Year', rot=0)\n",
        "ax.right_ax.set_ylim(1,100)"
      ]
    },
    {
      "cell_type": "code",
      "execution_count": null,
      "metadata": {
        "colab": {
          "base_uri": "https://localhost:8080/",
          "height": 769
        },
        "id": "_oN09YO2TuhC",
        "outputId": "1640db3c-5ff3-4f98-ee2a-c63cc95acc58"
      },
      "outputs": [
        {
          "data": {
            "text/plain": [
              "array([[<matplotlib.axes._subplots.AxesSubplot object at 0x7f89a0223430>,\n",
              "        <matplotlib.axes._subplots.AxesSubplot object at 0x7f89a01d3970>],\n",
              "       [<matplotlib.axes._subplots.AxesSubplot object at 0x7f89a0181d90>,\n",
              "        <matplotlib.axes._subplots.AxesSubplot object at 0x7f89a013a1c0>],\n",
              "       [<matplotlib.axes._subplots.AxesSubplot object at 0x7f89a01675b0>,\n",
              "        <matplotlib.axes._subplots.AxesSubplot object at 0x7f89a0114a60>]],\n",
              "      dtype=object)"
            ]
          },
          "execution_count": 17,
          "metadata": {},
          "output_type": "execute_result"
        },
        {
          "data": {
            "image/png": "[encoded data removed]",
            "text/plain": [
              "<Figure size 1440x1080 with 6 Axes>"
            ]
          },
          "metadata": {},
          "output_type": "display_data"
        }
      ],
      "source": [
        "#Plot histograms of all the variables in the dataset\n",
        "dataset.hist(bins=50, figsize = (20,15))"
      ]
    },
    {
      "cell_type": "markdown",
      "metadata": {
        "id": "oFXZlwuPTuhE"
      },
      "source": [
        "#### 04. Correlation matrix"
      ]
    },
    {
      "cell_type": "code",
      "execution_count": null,
      "metadata": {
        "colab": {
          "base_uri": "https://localhost:8080/",
          "height": 435
        },
        "id": "XPhGEuQrTuhF",
        "outputId": "27ac83c8-0dae-411a-e93d-3c4f655d118e"
      },
      "outputs": [
        {
          "data": {
            "text/plain": [
              "<matplotlib.axes._subplots.AxesSubplot at 0x7f89998be2e0>"
            ]
          },
          "execution_count": 18,
          "metadata": {},
          "output_type": "execute_result"
        },
        {
          "data": {
            "image/png": "[encoded data removed]",
            "text/plain": [
              "<Figure size 432x288 with 2 Axes>"
            ]
          },
          "metadata": {},
          "output_type": "display_data"
        }
      ],
      "source": [
        "# Correlation data \n",
        "corr = dataset.corr()\n",
        "\n",
        "# Correlation matrix with seaborn (correlation val are -1 to 1, thats why vmin vmax)\n",
        "sns.heatmap(corr, vmin = -1, vmax = +1, annot = True, cmap = 'coolwarm')"
      ]
    },
    {
      "cell_type": "markdown",
      "metadata": {
        "id": "9WPm__iQTuhH"
      },
      "source": [
        "# Model Comparison"
      ]
    },
    {
      "cell_type": "markdown",
      "metadata": {
        "id": "nD6HUVgETuhH"
      },
      "source": [
        "## Functions"
      ]
    },
    {
      "cell_type": "markdown",
      "metadata": {
        "id": "-HtzNzkhTuhH"
      },
      "source": [
        "#### Checking Parameters"
      ]
    },
    {
      "cell_type": "code",
      "execution_count": null,
      "metadata": {
        "id": "H5uAztvQTuhI"
      },
      "outputs": [],
      "source": [
        "def parameter_check(pred, labels_test):\n",
        "    \"\"\"Determines r2, mae, rmse and adjusted r2\"\"\"\n",
        "    # Calculate R-squared\n",
        "    r2 = r2_score(labels_test , pred)\n",
        "    print(\"R-squared:\", r2)\n",
        "\n",
        "    # Calculate MAE\n",
        "    mae = mean_absolute_error(labels_test, pred)\n",
        "    print(\"MAE:\", mae)\n",
        "\n",
        "    # Calculate RMSE\n",
        "    rmse = np.sqrt(mean_squared_error(labels_test, pred))\n",
        "    print(\"RMSE:\", rmse)\n",
        "\n",
        "    # Calculate Adjusted R-squared\n",
        "    n = len(labels_test)\n",
        "    p = len(pred)\n",
        "    adj_r2 = 1 - (1 - r2) * (n - 1) / (n - p - 1)\n",
        "    print(\"Adjusted R-squared:\", adj_r2)\n",
        "    \n",
        "    return { 'r2': r2, 'mae':mae, 'rmse':rmse, 'adj_r2':adj_r2}"
      ]
    },
    {
      "cell_type": "markdown",
      "metadata": {
        "id": "G6mntEzyTuhK"
      },
      "source": [
        "#### Regressors"
      ]
    },
    {
      "cell_type": "code",
      "execution_count": null,
      "metadata": {
        "id": "rVMRcX6yTuhK"
      },
      "outputs": [],
      "source": [
        "def run_regressor(regressor, features_train, labels_train, features_test, labels_test) -> dict:\n",
        "    # Fit data for training into regressor\n",
        "    regressor.fit(features_train , labels_train)\n",
        "    # Predicting with regressor\n",
        "    pred = regressor.predict(features_test)\n",
        "    return parameter_check(pred, labels_test)"
      ]
    },
    {
      "cell_type": "markdown",
      "metadata": {
        "id": "pQoAOcoxTuhK"
      },
      "source": [
        "#### Pipeline"
      ]
    },
    {
      "cell_type": "code",
      "execution_count": null,
      "metadata": {
        "id": "acGtI3kXTuhN"
      },
      "outputs": [],
      "source": [
        "def build_pipeline(params, regressor, features_train, labels_train, features_test, labels_test, rkf=False):\n",
        "    # Setting up a pipeline\n",
        "    pipe = Pipeline([\n",
        "        ('scaler', MinMaxScaler()),\n",
        "        ('imputer', None),\n",
        "        ('balancing', None),\n",
        "        ('rgs', regressor)\n",
        "    ])\n",
        "\n",
        "    # Cross validation\n",
        "    if rkf:\n",
        "        cv = RepeatedKFold(n_splits=5, n_repeats=3, random_state=42)\n",
        "    else:\n",
        "        cv = KFold(n_splits=5,random_state=42,shuffle=True)\n",
        "\n",
        "    # Set up the grid search\n",
        "    gs = GridSearchCV(estimator=pipe,param_grid=params,n_jobs=-1, verbose=5, cv=5,scoring='r2')\n",
        "\n",
        "    # Fit gs to training data\n",
        "    gs_results = gs.fit(features_train, labels_train)\n",
        "\n",
        "    # Find best fit\n",
        "    print(f'Best score: {gs_results.best_score_}')\n",
        "    print(f'Best parameters: \\n{gs_results.best_params_}')\n",
        "\n",
        "    # Get score\n",
        "    print(f'\\nScore: {gs.score(features_test, labels_test)}')\n",
        "\n",
        "    # Predict results\n",
        "    labels_preds = gs.predict(features_test)\n",
        "    best_par = parameter_check(labels_preds, labels_test)\n",
        "\n",
        "    return best_par, gs_results"
      ]
    },
    {
      "cell_type": "code",
      "execution_count": null,
      "metadata": {
        "id": "6vPOgZtrTuhN"
      },
      "outputs": [],
      "source": [
        "# Parameter grids to search over using gridsearch (for each algorithm)\n",
        "params = {\n",
        "'svm' : {\n",
        "    # 'scaler':[StandardScaler(), MinMaxScaler()],\n",
        "    # 'rgs__degree':[0.001, 0.01, 0.1, 1, 10],\n",
        "    # 'rgs__gamma' : [1,2,3,4,5],\n",
        "    # 'rgs__kernel' :['rbf', 'linear', 'poly' ,'sigmoid'],\n",
        "    'rgs__C' : [10, 100],\n",
        "    # 'rgs__coef0': [0.01, 10, 0.5]\n",
        "    'rgs__epsilon': [0.1, 0.5, 1],\n",
        "},\n",
        "'rf': {\n",
        "    'rgs__n_estimators':[5, 10, 50,],\n",
        "    'rgs__max_depth': [5, 10, 20],\n",
        "    'rgs__min_samples_split': [2,3,4],\n",
        "    'rgs__min_samples_leaf': [3,5]\n",
        "},\n",
        "'ada':{\n",
        "    'rgs__n_estimators':[10, 50, 100, 500],\n",
        "    'rgs__learning_rate': [0.0001, 0.001, 0.01, 0.1, 1.0]\n",
        "},\n",
        "'elastic':{\n",
        "    'rgs__alpha':[0.01, 0.1, 1.0, 2,0, 10.0,],\n",
        "    'rgs__l1_ratio':[0.1, 0.2, 0.3, 0.4, 0.5, 0.6, 0.7],\n",
        "},\n",
        "'xgb':{\n",
        "    'rgs__n_estimators': [100,250,400],\n",
        "    'rgs__max_depth': [3, 6, 9],\n",
        "    'rgs__learning_rate': [0.05, 0.1, 0.20],\n",
        "    'rgs__min_child_weight': [1, 10, 100]\n",
        "    \n",
        "},\n",
        "'sgdr' : {\n",
        "    'rgs__alpha':[1e-5, 1e-4, 1e-3, 1e-2, 1e-1, 0.0, 1.0, 10.0, 100.0],\n",
        "    'rgs__l1_ratio':np.arange(0, 1, 0.1),\n",
        "\n",
        "},\n",
        "'lgbmr' : {\n",
        "    'rgs__n_estimators': [50, 100, 400],\n",
        "    'rgs__max_depth': [-1, 0, 1],\n",
        "    'rgs__learning_rate': [0.05, 0.1, 0.20],\n",
        "    'rgs__min_child_weight': [0.001, 0.01, 0.1]\n",
        "    \n",
        "}\n",
        "}"
      ]
    },
    {
      "cell_type": "markdown",
      "metadata": {
        "id": "9X3P60nETuhP"
      },
      "source": [
        "## Data Preprocessing"
      ]
    },
    {
      "cell_type": "markdown",
      "metadata": {
        "id": "PgyBWWAZTuhP"
      },
      "source": [
        "### 04. Handle Categorical Variables"
      ]
    },
    {
      "cell_type": "code",
      "execution_count": null,
      "metadata": {
        "id": "kyzV-CnKTuhQ"
      },
      "outputs": [],
      "source": [
        "# Handle categorical variables\n",
        "# OneHotEncoder\n",
        "encoder = OneHotEncoder(handle_unknown='ignore')\n",
        "\n",
        "# fit and transform the categorical data in Area and Item\n",
        "encoded_data = encoder.fit_transform(dataset[['Item', 'Area']])\n",
        "\n",
        "# convert the encoded data back into a Pandas DataFrame\n",
        "encoded_df = pd.DataFrame(encoded_data.toarray(), columns=encoder.get_feature_names(['Item', 'Area']))\n",
        "df = pd.concat([dataset, encoded_df], axis=1)"
      ]
    },
    {
      "attachments": {},
      "cell_type": "markdown",
      "metadata": {},
      "source": [
        "### 05. Remove Unnecesary Features"
      ]
    },
    {
      "cell_type": "code",
      "execution_count": 1,
      "metadata": {},
      "outputs": [
        {
          "ename": "NameError",
          "evalue": "name 'df' is not defined",
          "output_type": "error",
          "traceback": [
            "\u001b[1;31m---------------------------------------------------------------------------\u001b[0m",
            "\u001b[1;31mNameError\u001b[0m                                 Traceback (most recent call last)",
            "Cell \u001b[1;32mIn[1], line 2\u001b[0m\n\u001b[0;32m      1\u001b[0m \u001b[39m# Create features and labels (and remove categorical variables)\u001b[39;00m\n\u001b[1;32m----> 2\u001b[0m features \u001b[39m=\u001b[39m df\u001b[39m.\u001b[39mdrop([\u001b[39m'\u001b[39m\u001b[39mhg/ha_yield\u001b[39m\u001b[39m'\u001b[39m,\u001b[39m'\u001b[39m\u001b[39mItem\u001b[39m\u001b[39m'\u001b[39m,\u001b[39m'\u001b[39m\u001b[39mArea\u001b[39m\u001b[39m'\u001b[39m, \u001b[39m'\u001b[39m\u001b[39mYear\u001b[39m\u001b[39m'\u001b[39m], axis\u001b[39m=\u001b[39m\u001b[39m1\u001b[39m)\n\u001b[0;32m      3\u001b[0m labels \u001b[39m=\u001b[39m df[\u001b[39m'\u001b[39m\u001b[39mhg/ha_yield\u001b[39m\u001b[39m'\u001b[39m]\n",
            "\u001b[1;31mNameError\u001b[0m: name 'df' is not defined"
          ]
        }
      ],
      "source": [
        "# Create features and labels (and remove categorical variables)\n",
        "features = df.drop(['hg/ha_yield','Item','Area', 'Year'], axis=1)\n",
        "labels = df['hg/ha_yield']"
      ]
    },
    {
      "attachments": {},
      "cell_type": "markdown",
      "metadata": {
        "id": "aimFvCwLTuhQ"
      },
      "source": [
        "### 06. Split Dataset"
      ]
    },
    {
      "cell_type": "code",
      "execution_count": null,
      "metadata": {
        "colab": {
          "base_uri": "https://localhost:8080/"
        },
        "id": "b6ikh3EjTuhd",
        "outputId": "0a2ca9a2-dba9-473b-e48b-c813c05c362c"
      },
      "outputs": [
        {
          "data": {
            "text/plain": [
              "(21181, 7061, 21181, 7061)"
            ]
          },
          "execution_count": 32,
          "metadata": {},
          "output_type": "execute_result"
        }
      ],
      "source": [
        "# Create training (75%) and test (25%) sets\n",
        "features_train, features_test , labels_train , labels_test = train_test_split(features, labels, test_size =0.25)\n",
        "len(features_train), len(features_test), len(labels_train), len(labels_test)"
      ]
    },
    {
      "cell_type": "markdown",
      "metadata": {
        "id": "XjmvIKMMTuhg"
      },
      "source": [
        "### 06. Run Models"
      ]
    },
    {
      "cell_type": "markdown",
      "metadata": {
        "id": "MOh3ogbZTuhh"
      },
      "source": [
        "SVM"
      ]
    },
    {
      "cell_type": "code",
      "execution_count": null,
      "metadata": {
        "colab": {
          "base_uri": "https://localhost:8080/"
        },
        "id": "xkkUX3DPTuhi",
        "outputId": "f5f3c621-6b07-4a27-c6b6-b7b9d7d42bc0"
      },
      "outputs": [
        {
          "name": "stdout",
          "output_type": "stream",
          "text": [
            "Fitting 5 folds for each of 6 candidates, totalling 30 fits\n",
            "Best score: 0.30857249070209286\n",
            "Best parameters: \n",
            "{'rgs__C': 100, 'rgs__epsilon': 1}\n",
            "\n",
            "Score: 0.3769507670200939\n",
            "R-squared: 0.3769507670200939\n",
            "MAE: 35405.12759772639\n",
            "RMSE: 66690.42568608731\n",
            "Adjusted R-squared: 4399.727584838137\n"
          ]
        }
      ],
      "source": [
        "best_par_svm, score_svm = build_pipeline(params['svm'], SVR(), features_train, labels_train, features_test, labels_test)"
      ]
    },
    {
      "cell_type": "markdown",
      "metadata": {
        "id": "bNb2fsOlTuhm"
      },
      "source": [
        "Random Forest"
      ]
    },
    {
      "cell_type": "code",
      "execution_count": null,
      "metadata": {
        "colab": {
          "base_uri": "https://localhost:8080/"
        },
        "id": "IfGUQDPXTuhn",
        "outputId": "f0bbdd92-c119-4f27-cd82-cd147a6ac5c6"
      },
      "outputs": [
        {
          "name": "stdout",
          "output_type": "stream",
          "text": [
            "Fitting 5 folds for each of 54 candidates, totalling 270 fits\n",
            "Best score: 0.9807726699865708\n",
            "Best parameters: \n",
            "{'rgs__max_depth': 20, 'rgs__min_samples_leaf': 3, 'rgs__min_samples_split': 3, 'rgs__n_estimators': 50}\n",
            "\n",
            "Score: 0.9822700813373246\n",
            "R-squared: 0.9822700813373246\n",
            "MAE: 4968.138634592896\n",
            "RMSE: 11250.081749931338\n",
            "Adjusted R-squared: 126.17322575848812\n"
          ]
        }
      ],
      "source": [
        "best_par_rf, score_rf = build_pipeline(params['rf'], RandomForestRegressor(), features_train, labels_train, features_test, labels_test)"
      ]
    },
    {
      "cell_type": "markdown",
      "metadata": {
        "id": "FDvLiMPKTuho"
      },
      "source": [
        "AdaBoost"
      ]
    },
    {
      "cell_type": "code",
      "execution_count": null,
      "metadata": {
        "colab": {
          "base_uri": "https://localhost:8080/"
        },
        "id": "jY4HO5KETuhq",
        "outputId": "ad389714-495a-4df4-d9c2-571340ba0a7f"
      },
      "outputs": [
        {
          "name": "stdout",
          "output_type": "stream",
          "text": [
            "Fitting 5 folds for each of 20 candidates, totalling 100 fits\n",
            "Best score: 0.6828554370193297\n",
            "Best parameters: \n",
            "{'rgs__learning_rate': 0.1, 'rgs__n_estimators': 10}\n",
            "\n",
            "Score: 0.6833631895571232\n",
            "R-squared: 0.6833631895571232\n",
            "MAE: 32853.0331994809\n",
            "RMSE: 47542.60865917738\n",
            "Adjusted R-squared: 2236.4558817267107\n"
          ]
        }
      ],
      "source": [
        "best_par_ada, score_ada = build_pipeline(params['ada'], AdaBoostRegressor(), features_train, labels_train, features_test, labels_test, rkf=True)"
      ]
    },
    {
      "cell_type": "markdown",
      "metadata": {
        "id": "bktSahwvsNEw"
      },
      "source": [
        "Elastic Net"
      ]
    },
    {
      "cell_type": "code",
      "execution_count": null,
      "metadata": {
        "colab": {
          "base_uri": "https://localhost:8080/"
        },
        "id": "lIkXe4U1sRg_",
        "outputId": "92c7f024-7f7a-418a-b2f7-75dfa8331311"
      },
      "outputs": [
        {
          "name": "stdout",
          "output_type": "stream",
          "text": [
            "Fitting 5 folds for each of 42 candidates, totalling 210 fits\n",
            "Best score: 0.7551527128676384\n",
            "Best parameters: \n",
            "{'rgs__alpha': 0, 'rgs__l1_ratio': 0.1}\n",
            "\n",
            "Score: 0.7482312858832167\n",
            "R-squared: 0.7482312858832167\n",
            "MAE: 29639.047615845873\n",
            "RMSE: 42393.882090076586\n",
            "Adjusted R-squared: 1778.4871216644897\n"
          ]
        }
      ],
      "source": [
        "best_par_elastic, score_elastic = build_pipeline(params['elastic'], ElasticNet(), features_train, labels_train, features_test, labels_test)"
      ]
    },
    {
      "cell_type": "markdown",
      "metadata": {
        "id": "kWf7gsA5sQLO"
      },
      "source": [
        "X-Gradient Boost"
      ]
    },
    {
      "cell_type": "code",
      "execution_count": null,
      "metadata": {
        "colab": {
          "background_save": true,
          "base_uri": "https://localhost:8080/"
        },
        "id": "NVkOYBossP0V",
        "outputId": "773528d9-f2cd-4eb6-b1dc-9460842b7e25"
      },
      "outputs": [
        {
          "name": "stdout",
          "output_type": "stream",
          "text": [
            "Fitting 5 folds for each of 81 candidates, totalling 405 fits\n",
            "[20:11:24] WARNING: /workspace/src/objective/regression_obj.cu:152: reg:linear is now deprecated in favor of reg:squarederror.\n",
            "Best score: 0.986107629259857\n",
            "Best parameters: \n",
            "{'rgs__learning_rate': 0.2, 'rgs__max_depth': 9, 'rgs__min_child_weight': 1, 'rgs__n_estimators': 400}\n",
            "\n",
            "Score: 0.9872983797586765\n",
            "R-squared: 0.9872983797586765\n",
            "MAE: 4214.682746356682\n",
            "RMSE: 9522.080936804143\n",
            "Adjusted R-squared: 90.67343890374381\n"
          ]
        }
      ],
      "source": [
        "best_par_xgb, score_xgb = build_pipeline(params['xgb'], XGBRegressor(), features_train, labels_train, features_test, labels_test)"
      ]
    },
    {
      "cell_type": "markdown",
      "metadata": {
        "id": "xNzovO6tsXEt"
      },
      "source": [
        "SGDR Regressor"
      ]
    },
    {
      "cell_type": "code",
      "execution_count": null,
      "metadata": {
        "colab": {
          "background_save": true
        },
        "id": "YL4WWCNHsdxg",
        "outputId": "4b86670b-ae35-402f-ac65-3b2087dbccd3"
      },
      "outputs": [
        {
          "name": "stdout",
          "output_type": "stream",
          "text": [
            "Fitting 5 folds for each of 90 candidates, totalling 450 fits\n",
            "Best score: 0.7539638080301188\n",
            "Best parameters: \n",
            "{'rgs__alpha': 0.0, 'rgs__l1_ratio': 0.5}\n",
            "\n",
            "Score: 0.746645856889091\n",
            "R-squared: 0.746645856889091\n",
            "MAE: 29706.27579725601\n",
            "RMSE: 42527.15323518629\n",
            "Adjusted R-squared: 1789.6802503630174\n"
          ]
        }
      ],
      "source": [
        "best_par_sgdr, score_sgdr = build_pipeline(params['sgdr'], SGDRegressor(), features_train, labels_train, features_test, labels_test)"
      ]
    },
    {
      "cell_type": "markdown",
      "metadata": {
        "id": "SMW8yPCese3C"
      },
      "source": [
        "LGBM Regressor"
      ]
    },
    {
      "cell_type": "code",
      "execution_count": null,
      "metadata": {
        "colab": {
          "background_save": true
        },
        "id": "Djj3eWSJsXwJ",
        "outputId": "810e4659-401d-4656-9d8a-4d20dc83bd06"
      },
      "outputs": [
        {
          "name": "stdout",
          "output_type": "stream",
          "text": [
            "Fitting 5 folds for each of 81 candidates, totalling 405 fits\n",
            "Best score: 0.9772876800452245\n",
            "Best parameters: \n",
            "{'rgs__learning_rate': 0.2, 'rgs__max_depth': -1, 'rgs__min_child_weight': 0.001, 'rgs__n_estimators': 400}\n",
            "\n",
            "Score: 0.9774882552849797\n",
            "R-squared: 0.9774882552849797\n",
            "MAE: 6623.640539404373\n",
            "RMSE: 12676.719603647529\n",
            "Adjusted R-squared: 159.93291768804306\n"
          ]
        }
      ],
      "source": [
        "best_par_lgbmr, score_lgbmr = build_pipeline(params['lgbmr'], LGBMRegressor(), features_train, labels_train, features_test, labels_test)"
      ]
    },
    {
      "cell_type": "markdown",
      "metadata": {
        "id": "mIZYVbSmTuhs"
      },
      "source": [
        "### 07. Comparison"
      ]
    },
    {
      "cell_type": "markdown",
      "metadata": {
        "id": "iczBQoJvTuht"
      },
      "source": [
        "#### Parameter Comparison"
      ]
    },
    {
      "cell_type": "code",
      "execution_count": null,
      "metadata": {
        "colab": {
          "background_save": true
        },
        "id": "arwc1oJGTuht"
      },
      "outputs": [],
      "source": [
        "# Plot out different parameters\n",
        "compare = [best_par_svm, best_par_rf, best_par_ada, best_par_elastic, best_par_xgb, best_par_sgdr, best_par_lgbmr ]\n",
        "headers_comparison = ['SVM','RandomForest','AdaBoost', 'ElasticNet', 'XGradBoost', 'SGDR', 'LGBMR']"
      ]
    },
    {
      "cell_type": "code",
      "execution_count": null,
      "metadata": {
        "colab": {
          "background_save": true
        },
        "id": "cgeJrYxITuhu",
        "outputId": "d7d01bcf-a98e-4870-98d7-6437f51fc0bc"
      },
      "outputs": [
        {
          "data": {
            "text/html": [
              "\n",
              "  <div id=\"df-962bfc63-13ad-41c9-a7be-949d9a4b24f0\">\n",
              "    <div class=\"colab-df-container\">\n",
              "      <div>\n",
              "<style scoped>\n",
              "    .dataframe tbody tr th:only-of-type {\n",
              "        vertical-align: middle;\n",
              "    }\n",
              "\n",
              "    .dataframe tbody tr th {\n",
              "        vertical-align: top;\n",
              "    }\n",
              "\n",
              "    .dataframe thead th {\n",
              "        text-align: right;\n",
              "    }\n",
              "</style>\n",
              "<table border=\"1\" class=\"dataframe\">\n",
              "  <thead>\n",
              "    <tr style=\"text-align: right;\">\n",
              "      <th></th>\n",
              "      <th>r2</th>\n",
              "      <th>mae</th>\n",
              "      <th>rmse</th>\n",
              "      <th>adj_r2</th>\n",
              "    </tr>\n",
              "  </thead>\n",
              "  <tbody>\n",
              "    <tr>\n",
              "      <th>SVM</th>\n",
              "      <td>0.376951</td>\n",
              "      <td>35405.127598</td>\n",
              "      <td>66690.425686</td>\n",
              "      <td>4399.727585</td>\n",
              "    </tr>\n",
              "    <tr>\n",
              "      <th>RandomForest</th>\n",
              "      <td>0.982270</td>\n",
              "      <td>4968.138635</td>\n",
              "      <td>11250.081750</td>\n",
              "      <td>126.173226</td>\n",
              "    </tr>\n",
              "    <tr>\n",
              "      <th>AdaBoost</th>\n",
              "      <td>0.683363</td>\n",
              "      <td>32853.033199</td>\n",
              "      <td>47542.608659</td>\n",
              "      <td>2236.455882</td>\n",
              "    </tr>\n",
              "    <tr>\n",
              "      <th>ElasticNet</th>\n",
              "      <td>0.748231</td>\n",
              "      <td>29639.047616</td>\n",
              "      <td>42393.882090</td>\n",
              "      <td>1778.487122</td>\n",
              "    </tr>\n",
              "    <tr>\n",
              "      <th>XGradBoost</th>\n",
              "      <td>0.987298</td>\n",
              "      <td>4214.682746</td>\n",
              "      <td>9522.080937</td>\n",
              "      <td>90.673439</td>\n",
              "    </tr>\n",
              "    <tr>\n",
              "      <th>SGDR</th>\n",
              "      <td>0.746646</td>\n",
              "      <td>29706.275797</td>\n",
              "      <td>42527.153235</td>\n",
              "      <td>1789.680250</td>\n",
              "    </tr>\n",
              "    <tr>\n",
              "      <th>LGBMR</th>\n",
              "      <td>0.977488</td>\n",
              "      <td>6623.640539</td>\n",
              "      <td>12676.719604</td>\n",
              "      <td>159.932918</td>\n",
              "    </tr>\n",
              "  </tbody>\n",
              "</table>\n",
              "</div>\n",
              "      <button class=\"colab-df-convert\" onclick=\"convertToInteractive('df-962bfc63-13ad-41c9-a7be-949d9a4b24f0')\"\n",
              "              title=\"Convert this dataframe to an interactive table.\"\n",
              "              style=\"display:none;\">\n",
              "        \n",
              "  <svg xmlns=\"http://www.w3.org/2000/svg\" height=\"24px\"viewBox=\"0 0 24 24\"\n",
              "       width=\"24px\">\n",
              "    <path d=\"M0 0h24v24H0V0z\" fill=\"none\"/>\n",
              "    <path d=\"M18.56 5.44l.94 2.06.94-2.06 2.06-.94-2.06-.94-.94-2.06-.94 2.06-2.06.94zm-11 1L8.5 8.5l.94-2.06 2.06-.94-2.06-.94L8.5 2.5l-.94 2.06-2.06.94zm10 10l.94 2.06.94-2.06 2.06-.94-2.06-.94-.94-2.06-.94 2.06-2.06.94z\"/><path d=\"M17.41 7.96l-1.37-1.37c-.4-.4-.92-.59-1.43-.59-.52 0-1.04.2-1.43.59L10.3 9.45l-7.72 7.72c-.78.78-.78 2.05 0 2.83L4 21.41c.39.39.9.59 1.41.59.51 0 1.02-.2 1.41-.59l7.78-7.78 2.81-2.81c.8-.78.8-2.07 0-2.86zM5.41 20L4 18.59l7.72-7.72 1.47 1.35L5.41 20z\"/>\n",
              "  </svg>\n",
              "      </button>\n",
              "      \n",
              "  <style>\n",
              "    .colab-df-container {\n",
              "      display:flex;\n",
              "      flex-wrap:wrap;\n",
              "      gap: 12px;\n",
              "    }\n",
              "\n",
              "    .colab-df-convert {\n",
              "      background-color: #E8F0FE;\n",
              "      border: none;\n",
              "      border-radius: 50%;\n",
              "      cursor: pointer;\n",
              "      display: none;\n",
              "      fill: #1967D2;\n",
              "      height: 32px;\n",
              "      padding: 0 0 0 0;\n",
              "      width: 32px;\n",
              "    }\n",
              "\n",
              "    .colab-df-convert:hover {\n",
              "      background-color: #E2EBFA;\n",
              "      box-shadow: 0px 1px 2px rgba(60, 64, 67, 0.3), 0px 1px 3px 1px rgba(60, 64, 67, 0.15);\n",
              "      fill: #174EA6;\n",
              "    }\n",
              "\n",
              "    [theme=dark] .colab-df-convert {\n",
              "      background-color: #3B4455;\n",
              "      fill: #D2E3FC;\n",
              "    }\n",
              "\n",
              "    [theme=dark] .colab-df-convert:hover {\n",
              "      background-color: #434B5C;\n",
              "      box-shadow: 0px 1px 3px 1px rgba(0, 0, 0, 0.15);\n",
              "      filter: drop-shadow(0px 1px 2px rgba(0, 0, 0, 0.3));\n",
              "      fill: #FFFFFF;\n",
              "    }\n",
              "  </style>\n",
              "\n",
              "      <script>\n",
              "        const buttonEl =\n",
              "          document.querySelector('#df-962bfc63-13ad-41c9-a7be-949d9a4b24f0 button.colab-df-convert');\n",
              "        buttonEl.style.display =\n",
              "          google.colab.kernel.accessAllowed ? 'block' : 'none';\n",
              "\n",
              "        async function convertToInteractive(key) {\n",
              "          const element = document.querySelector('#df-962bfc63-13ad-41c9-a7be-949d9a4b24f0');\n",
              "          const dataTable =\n",
              "            await google.colab.kernel.invokeFunction('convertToInteractive',\n",
              "                                                     [key], {});\n",
              "          if (!dataTable) return;\n",
              "\n",
              "          const docLinkHtml = 'Like what you see? Visit the ' +\n",
              "            '<a target=\"_blank\" href=https://colab.research.google.com/notebooks/data_table.ipynb>data table notebook</a>'\n",
              "            + ' to learn more about interactive tables.';\n",
              "          element.innerHTML = '';\n",
              "          dataTable['output_type'] = 'display_data';\n",
              "          await google.colab.output.renderOutput(dataTable, element);\n",
              "          const docLink = document.createElement('div');\n",
              "          docLink.innerHTML = docLinkHtml;\n",
              "          element.appendChild(docLink);\n",
              "        }\n",
              "      </script>\n",
              "    </div>\n",
              "  </div>\n",
              "  "
            ],
            "text/plain": [
              "                    r2           mae          rmse       adj_r2\n",
              "SVM           0.376951  35405.127598  66690.425686  4399.727585\n",
              "RandomForest  0.982270   4968.138635  11250.081750   126.173226\n",
              "AdaBoost      0.683363  32853.033199  47542.608659  2236.455882\n",
              "ElasticNet    0.748231  29639.047616  42393.882090  1778.487122\n",
              "XGradBoost    0.987298   4214.682746   9522.080937    90.673439\n",
              "SGDR          0.746646  29706.275797  42527.153235  1789.680250\n",
              "LGBMR         0.977488   6623.640539  12676.719604   159.932918"
            ]
          },
          "execution_count": 41,
          "metadata": {},
          "output_type": "execute_result"
        }
      ],
      "source": [
        "compare_df = pd.DataFrame(compare)\n",
        "compare_df[\"results\"]=headers_comparison\n",
        "compare_df = compare_df.set_index('results', drop=True).rename_axis(None)\n",
        "compare_df"
      ]
    },
    {
      "cell_type": "markdown",
      "metadata": {
        "id": "DiTrsub4hlmh"
      },
      "source": [
        "XGradBoost has great r2 and the lowest mae, so we'll be using that."
      ]
    },
    {
      "cell_type": "code",
      "execution_count": null,
      "metadata": {
        "colab": {
          "background_save": true
        },
        "id": "Ms8mWQrVTuhv",
        "outputId": "93c6070a-1601-45da-e74f-eb7c08b43c87"
      },
      "outputs": [
        {
          "ename": "AttributeError",
          "evalue": "ignored",
          "output_type": "error",
          "traceback": [
            "\u001b[0;31m---------------------------------------------------------------------------\u001b[0m",
            "\u001b[0;31mAttributeError\u001b[0m                            Traceback (most recent call last)",
            "\u001b[0;32m<ipython-input-42-d121fafb8193>\u001b[0m in \u001b[0;36m<module>\u001b[0;34m\u001b[0m\n\u001b[1;32m      1\u001b[0m \u001b[0;31m# compare_df = compare_df.drop(['SGDR'])\u001b[0m\u001b[0;34m\u001b[0m\u001b[0;34m\u001b[0m\u001b[0;34m\u001b[0m\u001b[0m\n\u001b[1;32m      2\u001b[0m \u001b[0mcompare_df\u001b[0m \u001b[0;34m=\u001b[0m \u001b[0mcompare_df\u001b[0m\u001b[0;34m.\u001b[0m\u001b[0mT\u001b[0m\u001b[0;34m\u001b[0m\u001b[0;34m\u001b[0m\u001b[0m\n\u001b[0;32m----> 3\u001b[0;31m \u001b[0mcompare_df\u001b[0m\u001b[0;34m.\u001b[0m\u001b[0mr2\u001b[0m\u001b[0;34m\u001b[0m\u001b[0;34m\u001b[0m\u001b[0m\n\u001b[0m\u001b[1;32m      4\u001b[0m \u001b[0;31m# compare_df.plot(kind='bar', width=0.9)\u001b[0m\u001b[0;34m\u001b[0m\u001b[0;34m\u001b[0m\u001b[0;34m\u001b[0m\u001b[0m\n",
            "\u001b[0;32m/usr/local/lib/python3.8/dist-packages/pandas/core/generic.py\u001b[0m in \u001b[0;36m__getattr__\u001b[0;34m(self, name)\u001b[0m\n\u001b[1;32m   5485\u001b[0m         ):\n\u001b[1;32m   5486\u001b[0m             \u001b[0;32mreturn\u001b[0m \u001b[0mself\u001b[0m\u001b[0;34m[\u001b[0m\u001b[0mname\u001b[0m\u001b[0;34m]\u001b[0m\u001b[0;34m\u001b[0m\u001b[0;34m\u001b[0m\u001b[0m\n\u001b[0;32m-> 5487\u001b[0;31m         \u001b[0;32mreturn\u001b[0m \u001b[0mobject\u001b[0m\u001b[0;34m.\u001b[0m\u001b[0m__getattribute__\u001b[0m\u001b[0;34m(\u001b[0m\u001b[0mself\u001b[0m\u001b[0;34m,\u001b[0m \u001b[0mname\u001b[0m\u001b[0;34m)\u001b[0m\u001b[0;34m\u001b[0m\u001b[0;34m\u001b[0m\u001b[0m\n\u001b[0m\u001b[1;32m   5488\u001b[0m \u001b[0;34m\u001b[0m\u001b[0m\n\u001b[1;32m   5489\u001b[0m     \u001b[0;32mdef\u001b[0m \u001b[0m__setattr__\u001b[0m\u001b[0;34m(\u001b[0m\u001b[0mself\u001b[0m\u001b[0;34m,\u001b[0m \u001b[0mname\u001b[0m\u001b[0;34m:\u001b[0m \u001b[0mstr\u001b[0m\u001b[0;34m,\u001b[0m \u001b[0mvalue\u001b[0m\u001b[0;34m)\u001b[0m \u001b[0;34m->\u001b[0m \u001b[0;32mNone\u001b[0m\u001b[0;34m:\u001b[0m\u001b[0;34m\u001b[0m\u001b[0;34m\u001b[0m\u001b[0m\n",
            "\u001b[0;31mAttributeError\u001b[0m: 'DataFrame' object has no attribute 'r2'"
          ]
        }
      ],
      "source": [
        "# compare_df = compare_df.drop(['SGDR'])\n",
        "compare_df = compare_df.T\n",
        "compare_df\n",
        "# compare_df.plot(kind='bar', width=0.9)"
      ]
    },
    {
      "cell_type": "markdown",
      "metadata": {
        "id": "37pSbCZ2Tuhv"
      },
      "source": [
        "#### Score Comparison"
      ]
    },
    {
      "cell_type": "code",
      "execution_count": null,
      "metadata": {
        "id": "WobF-8nITuhw"
      },
      "outputs": [],
      "source": [
        "def get_scores(gs_results):\n",
        "    \"\"\"Return hs_results in dictionary\"\"\"\n",
        "    return {\n",
        "        'Best Score' : gs_results.best_score_,\n",
        "        'Best parameters': gs_results.best_params_,\n",
        "        'Means' : gs_results.cv_results_['mean_test_score'],\n",
        "        'Stds' : gs_results.cv_results_['std_test_score'],\n",
        "        'Params' : gs_results.cv_results_['params']\n",
        "        }"
      ]
    },
    {
      "cell_type": "code",
      "execution_count": null,
      "metadata": {
        "colab": {
          "background_save": true
        },
        "id": "ShVhJYRkTuhw"
      },
      "outputs": [],
      "source": [
        "# Plot out different parameters\n",
        "score_objects = [score_svm, score_rf, score_ada, score_elastic, score_xgb, score_sgdr, score_lgbmr ]\n",
        "compare2 = [ get_scores(x) for x in score_objects  ]\n",
        "\n",
        "compare_df2 = pd.DataFrame(compare2)\n",
        "compare_df2[\"results\"]=headers_comparison\n",
        "compare_df2 = compare_df2.set_index('results', drop=True).rename_axis(None)"
      ]
    },
    {
      "cell_type": "code",
      "execution_count": null,
      "metadata": {
        "colab": {
          "background_save": true
        },
        "id": "qy2B1Z_lTuhx"
      },
      "outputs": [],
      "source": [
        "compare_df2"
      ]
    },
    {
      "cell_type": "code",
      "execution_count": null,
      "metadata": {
        "id": "UpeoGjMvdNsf"
      },
      "outputs": [],
      "source": [
        "# compare_df2['Best Score'].T.iplot(kind='bar')"
      ]
    },
    {
      "cell_type": "code",
      "execution_count": null,
      "metadata": {
        "id": "RyGKsxkmTuhy"
      },
      "outputs": [],
      "source": [
        "def plot_box(data):\n",
        "    plot = px.Figure()\n",
        "\n",
        "    for i,each in enumerate(data.to_list()):\n",
        "        plot.add_trace(px.Box(y=each, boxmean=True, name=headers_comparison[i]))\n",
        "\n",
        "    plot.update_layout(template='plotly_dark', title=\"Algorthm Comparison\")\n",
        "    plot.show()"
      ]
    }
  ],
  "metadata": {
    "colab": {
      "provenance": []
    },
    "kernelspec": {
      "display_name": "data_preprocessing.venv",
      "language": "python",
      "name": "python3"
    },
    "language_info": {
      "codemirror_mode": {
        "name": "ipython",
        "version": 3
      },
      "file_extension": ".py",
      "mimetype": "text/x-python",
      "name": "python",
      "nbconvert_exporter": "python",
      "pygments_lexer": "ipython3",
      "version": "3.10.9 (tags/v3.10.9:1dd9be6, Dec  6 2022, 20:01:21) [MSC v.1934 64 bit (AMD64)]"
    },
    "vscode": {
      "interpreter": {
        "hash": "2362500bfd0137b853020f6d2bf2d8997aaa378f9efefa90cab710d7f60c162d"
      }
    }
  },
  "nbformat": 4,
  "nbformat_minor": 0
}
